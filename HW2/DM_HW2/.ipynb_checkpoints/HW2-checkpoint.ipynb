{
 "cells": [
  {
   "cell_type": "markdown",
   "id": "b2c35d76-46d5-47c1-bab4-a1c84560a218",
   "metadata": {},
   "source": [
    "# DM - HW2 \n",
    "### Student ID: 9823010"
   ]
  },
  {
   "cell_type": "code",
   "execution_count": 2,
   "id": "9b261f20-dcf7-4804-bd2b-46afb3da8424",
   "metadata": {
    "tags": []
   },
   "outputs": [],
   "source": [
    "import pandas as pd\n",
    "import numpy as np\n",
    "import matplotlib.pyplot as plt\n",
    "import tensorflow as tf\n",
    "from tensorflow import keras\n",
    "from sklearn.preprocessing import StandardScaler\n",
    "from sklearn.model_selection import train_test_split\n",
    "from sklearn import datasets, linear_model\n",
    "from sklearn.metrics import mean_squared_error, precision_score, accuracy_score\n",
    "from sklearn.preprocessing import PolynomialFeatures\n",
    "from sklearn import tree\n",
    "from sklearn.ensemble import RandomForestClassifier\n",
    "from sklearn.neighbors import KNeighborsClassifier\n",
    "from sklearn.svm import SVC\n",
    "from sklearn.metrics import confusion_matrix, ConfusionMatrixDisplay"
   ]
  },
  {
   "cell_type": "code",
   "execution_count": 3,
   "id": "7dd14b54-ba05-4a06-9e4c-6b78eeef9ad4",
   "metadata": {
    "tags": []
   },
   "outputs": [],
   "source": [
    "df = pd.read_csv('housePrice.csv')"
   ]
  },
  {
   "cell_type": "code",
   "execution_count": 4,
   "id": "ce89d2f6-3d88-4de3-8203-ffacbdb587b3",
   "metadata": {
    "tags": []
   },
   "outputs": [
    {
     "data": {
      "text/html": [
       "<div>\n",
       "<style scoped>\n",
       "    .dataframe tbody tr th:only-of-type {\n",
       "        vertical-align: middle;\n",
       "    }\n",
       "\n",
       "    .dataframe tbody tr th {\n",
       "        vertical-align: top;\n",
       "    }\n",
       "\n",
       "    .dataframe thead th {\n",
       "        text-align: right;\n",
       "    }\n",
       "</style>\n",
       "<table border=\"1\" class=\"dataframe\">\n",
       "  <thead>\n",
       "    <tr style=\"text-align: right;\">\n",
       "      <th></th>\n",
       "      <th>Area</th>\n",
       "      <th>Room</th>\n",
       "      <th>Parking</th>\n",
       "      <th>Warehouse</th>\n",
       "      <th>Elevator</th>\n",
       "      <th>Address</th>\n",
       "      <th>Price</th>\n",
       "    </tr>\n",
       "  </thead>\n",
       "  <tbody>\n",
       "    <tr>\n",
       "      <th>0</th>\n",
       "      <td>63</td>\n",
       "      <td>1</td>\n",
       "      <td>True</td>\n",
       "      <td>True</td>\n",
       "      <td>True</td>\n",
       "      <td>Shahran</td>\n",
       "      <td>1850000000</td>\n",
       "    </tr>\n",
       "    <tr>\n",
       "      <th>1</th>\n",
       "      <td>60</td>\n",
       "      <td>1</td>\n",
       "      <td>True</td>\n",
       "      <td>True</td>\n",
       "      <td>True</td>\n",
       "      <td>Shahran</td>\n",
       "      <td>1850000000</td>\n",
       "    </tr>\n",
       "    <tr>\n",
       "      <th>2</th>\n",
       "      <td>79</td>\n",
       "      <td>2</td>\n",
       "      <td>True</td>\n",
       "      <td>True</td>\n",
       "      <td>True</td>\n",
       "      <td>Pardis</td>\n",
       "      <td>550000000</td>\n",
       "    </tr>\n",
       "    <tr>\n",
       "      <th>3</th>\n",
       "      <td>95</td>\n",
       "      <td>2</td>\n",
       "      <td>True</td>\n",
       "      <td>True</td>\n",
       "      <td>True</td>\n",
       "      <td>Shahrake Qods</td>\n",
       "      <td>902500000</td>\n",
       "    </tr>\n",
       "    <tr>\n",
       "      <th>4</th>\n",
       "      <td>123</td>\n",
       "      <td>2</td>\n",
       "      <td>True</td>\n",
       "      <td>True</td>\n",
       "      <td>True</td>\n",
       "      <td>Shahrake Gharb</td>\n",
       "      <td>7000000000</td>\n",
       "    </tr>\n",
       "    <tr>\n",
       "      <th>...</th>\n",
       "      <td>...</td>\n",
       "      <td>...</td>\n",
       "      <td>...</td>\n",
       "      <td>...</td>\n",
       "      <td>...</td>\n",
       "      <td>...</td>\n",
       "      <td>...</td>\n",
       "    </tr>\n",
       "    <tr>\n",
       "      <th>3468</th>\n",
       "      <td>86</td>\n",
       "      <td>2</td>\n",
       "      <td>True</td>\n",
       "      <td>True</td>\n",
       "      <td>True</td>\n",
       "      <td>Southern Janatabad</td>\n",
       "      <td>3500000000</td>\n",
       "    </tr>\n",
       "    <tr>\n",
       "      <th>3469</th>\n",
       "      <td>83</td>\n",
       "      <td>2</td>\n",
       "      <td>True</td>\n",
       "      <td>True</td>\n",
       "      <td>True</td>\n",
       "      <td>Niavaran</td>\n",
       "      <td>6800000000</td>\n",
       "    </tr>\n",
       "    <tr>\n",
       "      <th>3470</th>\n",
       "      <td>75</td>\n",
       "      <td>2</td>\n",
       "      <td>False</td>\n",
       "      <td>False</td>\n",
       "      <td>False</td>\n",
       "      <td>Parand</td>\n",
       "      <td>365000000</td>\n",
       "    </tr>\n",
       "    <tr>\n",
       "      <th>3471</th>\n",
       "      <td>105</td>\n",
       "      <td>2</td>\n",
       "      <td>True</td>\n",
       "      <td>True</td>\n",
       "      <td>True</td>\n",
       "      <td>Dorous</td>\n",
       "      <td>5600000000</td>\n",
       "    </tr>\n",
       "    <tr>\n",
       "      <th>3472</th>\n",
       "      <td>82</td>\n",
       "      <td>2</td>\n",
       "      <td>False</td>\n",
       "      <td>True</td>\n",
       "      <td>True</td>\n",
       "      <td>Parand</td>\n",
       "      <td>360000000</td>\n",
       "    </tr>\n",
       "  </tbody>\n",
       "</table>\n",
       "<p>3473 rows × 7 columns</p>\n",
       "</div>"
      ],
      "text/plain": [
       "      Area  Room  Parking  Warehouse  Elevator             Address       Price\n",
       "0       63     1     True       True      True             Shahran  1850000000\n",
       "1       60     1     True       True      True             Shahran  1850000000\n",
       "2       79     2     True       True      True              Pardis   550000000\n",
       "3       95     2     True       True      True       Shahrake Qods   902500000\n",
       "4      123     2     True       True      True      Shahrake Gharb  7000000000\n",
       "...    ...   ...      ...        ...       ...                 ...         ...\n",
       "3468    86     2     True       True      True  Southern Janatabad  3500000000\n",
       "3469    83     2     True       True      True            Niavaran  6800000000\n",
       "3470    75     2    False      False     False              Parand   365000000\n",
       "3471   105     2     True       True      True              Dorous  5600000000\n",
       "3472    82     2    False       True      True              Parand   360000000\n",
       "\n",
       "[3473 rows x 7 columns]"
      ]
     },
     "execution_count": 4,
     "metadata": {},
     "output_type": "execute_result"
    }
   ],
   "source": [
    "df"
   ]
  },
  {
   "cell_type": "markdown",
   "id": "68f572ae-1905-4ba5-ac76-cb1f814a8352",
   "metadata": {},
   "source": [
    "## Preprocess"
   ]
  },
  {
   "cell_type": "code",
   "execution_count": 5,
   "id": "418d6afb-7082-4eb3-9a9d-0441448fe28a",
   "metadata": {
    "tags": []
   },
   "outputs": [],
   "source": [
    "df = df.dropna().reset_index(drop=True)"
   ]
  },
  {
   "cell_type": "code",
   "execution_count": 6,
   "id": "bed5a5c2-9169-4f51-9143-6159a0208554",
   "metadata": {
    "tags": []
   },
   "outputs": [
    {
     "data": {
      "text/html": [
       "<div>\n",
       "<style scoped>\n",
       "    .dataframe tbody tr th:only-of-type {\n",
       "        vertical-align: middle;\n",
       "    }\n",
       "\n",
       "    .dataframe tbody tr th {\n",
       "        vertical-align: top;\n",
       "    }\n",
       "\n",
       "    .dataframe thead th {\n",
       "        text-align: right;\n",
       "    }\n",
       "</style>\n",
       "<table border=\"1\" class=\"dataframe\">\n",
       "  <thead>\n",
       "    <tr style=\"text-align: right;\">\n",
       "      <th></th>\n",
       "      <th>Area</th>\n",
       "      <th>Room</th>\n",
       "      <th>Parking</th>\n",
       "      <th>Warehouse</th>\n",
       "      <th>Elevator</th>\n",
       "      <th>Address</th>\n",
       "      <th>Price</th>\n",
       "    </tr>\n",
       "  </thead>\n",
       "  <tbody>\n",
       "    <tr>\n",
       "      <th>0</th>\n",
       "      <td>63</td>\n",
       "      <td>1</td>\n",
       "      <td>True</td>\n",
       "      <td>True</td>\n",
       "      <td>True</td>\n",
       "      <td>Shahran</td>\n",
       "      <td>1850000000</td>\n",
       "    </tr>\n",
       "    <tr>\n",
       "      <th>1</th>\n",
       "      <td>60</td>\n",
       "      <td>1</td>\n",
       "      <td>True</td>\n",
       "      <td>True</td>\n",
       "      <td>True</td>\n",
       "      <td>Shahran</td>\n",
       "      <td>1850000000</td>\n",
       "    </tr>\n",
       "    <tr>\n",
       "      <th>2</th>\n",
       "      <td>79</td>\n",
       "      <td>2</td>\n",
       "      <td>True</td>\n",
       "      <td>True</td>\n",
       "      <td>True</td>\n",
       "      <td>Pardis</td>\n",
       "      <td>550000000</td>\n",
       "    </tr>\n",
       "    <tr>\n",
       "      <th>3</th>\n",
       "      <td>95</td>\n",
       "      <td>2</td>\n",
       "      <td>True</td>\n",
       "      <td>True</td>\n",
       "      <td>True</td>\n",
       "      <td>Shahrake Qods</td>\n",
       "      <td>902500000</td>\n",
       "    </tr>\n",
       "    <tr>\n",
       "      <th>4</th>\n",
       "      <td>123</td>\n",
       "      <td>2</td>\n",
       "      <td>True</td>\n",
       "      <td>True</td>\n",
       "      <td>True</td>\n",
       "      <td>Shahrake Gharb</td>\n",
       "      <td>7000000000</td>\n",
       "    </tr>\n",
       "    <tr>\n",
       "      <th>...</th>\n",
       "      <td>...</td>\n",
       "      <td>...</td>\n",
       "      <td>...</td>\n",
       "      <td>...</td>\n",
       "      <td>...</td>\n",
       "      <td>...</td>\n",
       "      <td>...</td>\n",
       "    </tr>\n",
       "    <tr>\n",
       "      <th>3445</th>\n",
       "      <td>86</td>\n",
       "      <td>2</td>\n",
       "      <td>True</td>\n",
       "      <td>True</td>\n",
       "      <td>True</td>\n",
       "      <td>Southern Janatabad</td>\n",
       "      <td>3500000000</td>\n",
       "    </tr>\n",
       "    <tr>\n",
       "      <th>3446</th>\n",
       "      <td>83</td>\n",
       "      <td>2</td>\n",
       "      <td>True</td>\n",
       "      <td>True</td>\n",
       "      <td>True</td>\n",
       "      <td>Niavaran</td>\n",
       "      <td>6800000000</td>\n",
       "    </tr>\n",
       "    <tr>\n",
       "      <th>3447</th>\n",
       "      <td>75</td>\n",
       "      <td>2</td>\n",
       "      <td>False</td>\n",
       "      <td>False</td>\n",
       "      <td>False</td>\n",
       "      <td>Parand</td>\n",
       "      <td>365000000</td>\n",
       "    </tr>\n",
       "    <tr>\n",
       "      <th>3448</th>\n",
       "      <td>105</td>\n",
       "      <td>2</td>\n",
       "      <td>True</td>\n",
       "      <td>True</td>\n",
       "      <td>True</td>\n",
       "      <td>Dorous</td>\n",
       "      <td>5600000000</td>\n",
       "    </tr>\n",
       "    <tr>\n",
       "      <th>3449</th>\n",
       "      <td>82</td>\n",
       "      <td>2</td>\n",
       "      <td>False</td>\n",
       "      <td>True</td>\n",
       "      <td>True</td>\n",
       "      <td>Parand</td>\n",
       "      <td>360000000</td>\n",
       "    </tr>\n",
       "  </tbody>\n",
       "</table>\n",
       "<p>3450 rows × 7 columns</p>\n",
       "</div>"
      ],
      "text/plain": [
       "      Area  Room  Parking  Warehouse  Elevator             Address       Price\n",
       "0       63     1     True       True      True             Shahran  1850000000\n",
       "1       60     1     True       True      True             Shahran  1850000000\n",
       "2       79     2     True       True      True              Pardis   550000000\n",
       "3       95     2     True       True      True       Shahrake Qods   902500000\n",
       "4      123     2     True       True      True      Shahrake Gharb  7000000000\n",
       "...    ...   ...      ...        ...       ...                 ...         ...\n",
       "3445    86     2     True       True      True  Southern Janatabad  3500000000\n",
       "3446    83     2     True       True      True            Niavaran  6800000000\n",
       "3447    75     2    False      False     False              Parand   365000000\n",
       "3448   105     2     True       True      True              Dorous  5600000000\n",
       "3449    82     2    False       True      True              Parand   360000000\n",
       "\n",
       "[3450 rows x 7 columns]"
      ]
     },
     "execution_count": 6,
     "metadata": {},
     "output_type": "execute_result"
    }
   ],
   "source": [
    "df"
   ]
  },
  {
   "cell_type": "code",
   "execution_count": 7,
   "id": "11ded9fb-00cb-4dd5-a9f6-b381e0782d1d",
   "metadata": {
    "tags": []
   },
   "outputs": [
    {
     "data": {
      "text/plain": [
       "Area         0\n",
       "Room         0\n",
       "Parking      0\n",
       "Warehouse    0\n",
       "Elevator     0\n",
       "Address      0\n",
       "Price        0\n",
       "dtype: int64"
      ]
     },
     "execution_count": 7,
     "metadata": {},
     "output_type": "execute_result"
    }
   ],
   "source": [
    "df.isnull().sum()"
   ]
  },
  {
   "cell_type": "code",
   "execution_count": 8,
   "id": "bbf39058-e39d-41a2-94dd-58ed2319b067",
   "metadata": {
    "tags": []
   },
   "outputs": [
    {
     "data": {
      "text/html": [
       "<div>\n",
       "<style scoped>\n",
       "    .dataframe tbody tr th:only-of-type {\n",
       "        vertical-align: middle;\n",
       "    }\n",
       "\n",
       "    .dataframe tbody tr th {\n",
       "        vertical-align: top;\n",
       "    }\n",
       "\n",
       "    .dataframe thead th {\n",
       "        text-align: right;\n",
       "    }\n",
       "</style>\n",
       "<table border=\"1\" class=\"dataframe\">\n",
       "  <thead>\n",
       "    <tr style=\"text-align: right;\">\n",
       "      <th></th>\n",
       "      <th>Area</th>\n",
       "      <th>Room</th>\n",
       "      <th>Price</th>\n",
       "    </tr>\n",
       "  </thead>\n",
       "  <tbody>\n",
       "    <tr>\n",
       "      <th>count</th>\n",
       "      <td>3450.000000</td>\n",
       "      <td>3450.000000</td>\n",
       "      <td>3.450000e+03</td>\n",
       "    </tr>\n",
       "    <tr>\n",
       "      <th>mean</th>\n",
       "      <td>106.917391</td>\n",
       "      <td>2.081159</td>\n",
       "      <td>5.375563e+09</td>\n",
       "    </tr>\n",
       "    <tr>\n",
       "      <th>std</th>\n",
       "      <td>69.550976</td>\n",
       "      <td>0.760216</td>\n",
       "      <td>8.125918e+09</td>\n",
       "    </tr>\n",
       "    <tr>\n",
       "      <th>min</th>\n",
       "      <td>30.000000</td>\n",
       "      <td>0.000000</td>\n",
       "      <td>3.600000e+06</td>\n",
       "    </tr>\n",
       "    <tr>\n",
       "      <th>25%</th>\n",
       "      <td>69.000000</td>\n",
       "      <td>2.000000</td>\n",
       "      <td>1.419250e+09</td>\n",
       "    </tr>\n",
       "    <tr>\n",
       "      <th>50%</th>\n",
       "      <td>90.000000</td>\n",
       "      <td>2.000000</td>\n",
       "      <td>2.900000e+09</td>\n",
       "    </tr>\n",
       "    <tr>\n",
       "      <th>75%</th>\n",
       "      <td>120.000000</td>\n",
       "      <td>2.000000</td>\n",
       "      <td>6.000000e+09</td>\n",
       "    </tr>\n",
       "    <tr>\n",
       "      <th>max</th>\n",
       "      <td>929.000000</td>\n",
       "      <td>5.000000</td>\n",
       "      <td>9.240000e+10</td>\n",
       "    </tr>\n",
       "  </tbody>\n",
       "</table>\n",
       "</div>"
      ],
      "text/plain": [
       "              Area         Room         Price\n",
       "count  3450.000000  3450.000000  3.450000e+03\n",
       "mean    106.917391     2.081159  5.375563e+09\n",
       "std      69.550976     0.760216  8.125918e+09\n",
       "min      30.000000     0.000000  3.600000e+06\n",
       "25%      69.000000     2.000000  1.419250e+09\n",
       "50%      90.000000     2.000000  2.900000e+09\n",
       "75%     120.000000     2.000000  6.000000e+09\n",
       "max     929.000000     5.000000  9.240000e+10"
      ]
     },
     "execution_count": 8,
     "metadata": {},
     "output_type": "execute_result"
    }
   ],
   "source": [
    "df.describe()"
   ]
  },
  {
   "cell_type": "code",
   "execution_count": 9,
   "id": "8ec2a031-64c4-41b9-bed6-d07aab5a3568",
   "metadata": {
    "tags": []
   },
   "outputs": [],
   "source": [
    "df.loc[:, ('priceLevel')] = pd.qcut(df['Price'], q=4, labels=['cheap', 'underMean', 'upperMean', 'expensive'])"
   ]
  },
  {
   "cell_type": "code",
   "execution_count": 10,
   "id": "bc678862-ee58-4656-9720-7c5ec2477cdb",
   "metadata": {
    "tags": []
   },
   "outputs": [
    {
     "data": {
      "text/html": [
       "<div>\n",
       "<style scoped>\n",
       "    .dataframe tbody tr th:only-of-type {\n",
       "        vertical-align: middle;\n",
       "    }\n",
       "\n",
       "    .dataframe tbody tr th {\n",
       "        vertical-align: top;\n",
       "    }\n",
       "\n",
       "    .dataframe thead th {\n",
       "        text-align: right;\n",
       "    }\n",
       "</style>\n",
       "<table border=\"1\" class=\"dataframe\">\n",
       "  <thead>\n",
       "    <tr style=\"text-align: right;\">\n",
       "      <th></th>\n",
       "      <th>Area</th>\n",
       "      <th>Room</th>\n",
       "      <th>Parking</th>\n",
       "      <th>Warehouse</th>\n",
       "      <th>Elevator</th>\n",
       "      <th>Address</th>\n",
       "      <th>Price</th>\n",
       "      <th>priceLevel</th>\n",
       "    </tr>\n",
       "  </thead>\n",
       "  <tbody>\n",
       "    <tr>\n",
       "      <th>0</th>\n",
       "      <td>63</td>\n",
       "      <td>1</td>\n",
       "      <td>True</td>\n",
       "      <td>True</td>\n",
       "      <td>True</td>\n",
       "      <td>Shahran</td>\n",
       "      <td>1850000000</td>\n",
       "      <td>underMean</td>\n",
       "    </tr>\n",
       "    <tr>\n",
       "      <th>1</th>\n",
       "      <td>60</td>\n",
       "      <td>1</td>\n",
       "      <td>True</td>\n",
       "      <td>True</td>\n",
       "      <td>True</td>\n",
       "      <td>Shahran</td>\n",
       "      <td>1850000000</td>\n",
       "      <td>underMean</td>\n",
       "    </tr>\n",
       "    <tr>\n",
       "      <th>2</th>\n",
       "      <td>79</td>\n",
       "      <td>2</td>\n",
       "      <td>True</td>\n",
       "      <td>True</td>\n",
       "      <td>True</td>\n",
       "      <td>Pardis</td>\n",
       "      <td>550000000</td>\n",
       "      <td>cheap</td>\n",
       "    </tr>\n",
       "    <tr>\n",
       "      <th>3</th>\n",
       "      <td>95</td>\n",
       "      <td>2</td>\n",
       "      <td>True</td>\n",
       "      <td>True</td>\n",
       "      <td>True</td>\n",
       "      <td>Shahrake Qods</td>\n",
       "      <td>902500000</td>\n",
       "      <td>cheap</td>\n",
       "    </tr>\n",
       "    <tr>\n",
       "      <th>4</th>\n",
       "      <td>123</td>\n",
       "      <td>2</td>\n",
       "      <td>True</td>\n",
       "      <td>True</td>\n",
       "      <td>True</td>\n",
       "      <td>Shahrake Gharb</td>\n",
       "      <td>7000000000</td>\n",
       "      <td>expensive</td>\n",
       "    </tr>\n",
       "    <tr>\n",
       "      <th>...</th>\n",
       "      <td>...</td>\n",
       "      <td>...</td>\n",
       "      <td>...</td>\n",
       "      <td>...</td>\n",
       "      <td>...</td>\n",
       "      <td>...</td>\n",
       "      <td>...</td>\n",
       "      <td>...</td>\n",
       "    </tr>\n",
       "    <tr>\n",
       "      <th>3445</th>\n",
       "      <td>86</td>\n",
       "      <td>2</td>\n",
       "      <td>True</td>\n",
       "      <td>True</td>\n",
       "      <td>True</td>\n",
       "      <td>Southern Janatabad</td>\n",
       "      <td>3500000000</td>\n",
       "      <td>upperMean</td>\n",
       "    </tr>\n",
       "    <tr>\n",
       "      <th>3446</th>\n",
       "      <td>83</td>\n",
       "      <td>2</td>\n",
       "      <td>True</td>\n",
       "      <td>True</td>\n",
       "      <td>True</td>\n",
       "      <td>Niavaran</td>\n",
       "      <td>6800000000</td>\n",
       "      <td>expensive</td>\n",
       "    </tr>\n",
       "    <tr>\n",
       "      <th>3447</th>\n",
       "      <td>75</td>\n",
       "      <td>2</td>\n",
       "      <td>False</td>\n",
       "      <td>False</td>\n",
       "      <td>False</td>\n",
       "      <td>Parand</td>\n",
       "      <td>365000000</td>\n",
       "      <td>cheap</td>\n",
       "    </tr>\n",
       "    <tr>\n",
       "      <th>3448</th>\n",
       "      <td>105</td>\n",
       "      <td>2</td>\n",
       "      <td>True</td>\n",
       "      <td>True</td>\n",
       "      <td>True</td>\n",
       "      <td>Dorous</td>\n",
       "      <td>5600000000</td>\n",
       "      <td>upperMean</td>\n",
       "    </tr>\n",
       "    <tr>\n",
       "      <th>3449</th>\n",
       "      <td>82</td>\n",
       "      <td>2</td>\n",
       "      <td>False</td>\n",
       "      <td>True</td>\n",
       "      <td>True</td>\n",
       "      <td>Parand</td>\n",
       "      <td>360000000</td>\n",
       "      <td>cheap</td>\n",
       "    </tr>\n",
       "  </tbody>\n",
       "</table>\n",
       "<p>3450 rows × 8 columns</p>\n",
       "</div>"
      ],
      "text/plain": [
       "      Area  Room  Parking  Warehouse  Elevator             Address   \n",
       "0       63     1     True       True      True             Shahran  \\\n",
       "1       60     1     True       True      True             Shahran   \n",
       "2       79     2     True       True      True              Pardis   \n",
       "3       95     2     True       True      True       Shahrake Qods   \n",
       "4      123     2     True       True      True      Shahrake Gharb   \n",
       "...    ...   ...      ...        ...       ...                 ...   \n",
       "3445    86     2     True       True      True  Southern Janatabad   \n",
       "3446    83     2     True       True      True            Niavaran   \n",
       "3447    75     2    False      False     False              Parand   \n",
       "3448   105     2     True       True      True              Dorous   \n",
       "3449    82     2    False       True      True              Parand   \n",
       "\n",
       "           Price priceLevel  \n",
       "0     1850000000  underMean  \n",
       "1     1850000000  underMean  \n",
       "2      550000000      cheap  \n",
       "3      902500000      cheap  \n",
       "4     7000000000  expensive  \n",
       "...          ...        ...  \n",
       "3445  3500000000  upperMean  \n",
       "3446  6800000000  expensive  \n",
       "3447   365000000      cheap  \n",
       "3448  5600000000  upperMean  \n",
       "3449   360000000      cheap  \n",
       "\n",
       "[3450 rows x 8 columns]"
      ]
     },
     "execution_count": 10,
     "metadata": {},
     "output_type": "execute_result"
    }
   ],
   "source": [
    "df"
   ]
  },
  {
   "cell_type": "code",
   "execution_count": 11,
   "id": "5638d406-aa50-494d-a97f-059c5c9eb3fb",
   "metadata": {
    "tags": []
   },
   "outputs": [],
   "source": [
    "from sklearn import preprocessing\n",
    "le = preprocessing.LabelEncoder()"
   ]
  },
  {
   "cell_type": "code",
   "execution_count": 12,
   "id": "123c136e-86b1-463e-867f-0b5f7240f052",
   "metadata": {
    "tags": []
   },
   "outputs": [],
   "source": [
    "categorial_columns = df.select_dtypes(include='object').columns.tolist()\n",
    "categorial_columns.append('priceLevel')\n",
    "for col in categorial_columns:\n",
    "    df.loc[:, (col)] = le.fit_transform(df[col])"
   ]
  },
  {
   "cell_type": "code",
   "execution_count": 13,
   "id": "bb201baa-1d77-4262-a205-5e0e160eb9e6",
   "metadata": {
    "tags": []
   },
   "outputs": [
    {
     "data": {
      "text/html": [
       "<div>\n",
       "<style scoped>\n",
       "    .dataframe tbody tr th:only-of-type {\n",
       "        vertical-align: middle;\n",
       "    }\n",
       "\n",
       "    .dataframe tbody tr th {\n",
       "        vertical-align: top;\n",
       "    }\n",
       "\n",
       "    .dataframe thead th {\n",
       "        text-align: right;\n",
       "    }\n",
       "</style>\n",
       "<table border=\"1\" class=\"dataframe\">\n",
       "  <thead>\n",
       "    <tr style=\"text-align: right;\">\n",
       "      <th></th>\n",
       "      <th>Area</th>\n",
       "      <th>Room</th>\n",
       "      <th>Parking</th>\n",
       "      <th>Warehouse</th>\n",
       "      <th>Elevator</th>\n",
       "      <th>Address</th>\n",
       "      <th>Price</th>\n",
       "      <th>priceLevel</th>\n",
       "    </tr>\n",
       "  </thead>\n",
       "  <tbody>\n",
       "    <tr>\n",
       "      <th>0</th>\n",
       "      <td>63</td>\n",
       "      <td>1</td>\n",
       "      <td>True</td>\n",
       "      <td>True</td>\n",
       "      <td>True</td>\n",
       "      <td>156</td>\n",
       "      <td>1850000000</td>\n",
       "      <td>2</td>\n",
       "    </tr>\n",
       "    <tr>\n",
       "      <th>1</th>\n",
       "      <td>60</td>\n",
       "      <td>1</td>\n",
       "      <td>True</td>\n",
       "      <td>True</td>\n",
       "      <td>True</td>\n",
       "      <td>156</td>\n",
       "      <td>1850000000</td>\n",
       "      <td>2</td>\n",
       "    </tr>\n",
       "    <tr>\n",
       "      <th>2</th>\n",
       "      <td>79</td>\n",
       "      <td>2</td>\n",
       "      <td>True</td>\n",
       "      <td>True</td>\n",
       "      <td>True</td>\n",
       "      <td>117</td>\n",
       "      <td>550000000</td>\n",
       "      <td>0</td>\n",
       "    </tr>\n",
       "    <tr>\n",
       "      <th>3</th>\n",
       "      <td>95</td>\n",
       "      <td>2</td>\n",
       "      <td>True</td>\n",
       "      <td>True</td>\n",
       "      <td>True</td>\n",
       "      <td>152</td>\n",
       "      <td>902500000</td>\n",
       "      <td>0</td>\n",
       "    </tr>\n",
       "    <tr>\n",
       "      <th>4</th>\n",
       "      <td>123</td>\n",
       "      <td>2</td>\n",
       "      <td>True</td>\n",
       "      <td>True</td>\n",
       "      <td>True</td>\n",
       "      <td>150</td>\n",
       "      <td>7000000000</td>\n",
       "      <td>1</td>\n",
       "    </tr>\n",
       "    <tr>\n",
       "      <th>...</th>\n",
       "      <td>...</td>\n",
       "      <td>...</td>\n",
       "      <td>...</td>\n",
       "      <td>...</td>\n",
       "      <td>...</td>\n",
       "      <td>...</td>\n",
       "      <td>...</td>\n",
       "      <td>...</td>\n",
       "    </tr>\n",
       "    <tr>\n",
       "      <th>3445</th>\n",
       "      <td>86</td>\n",
       "      <td>2</td>\n",
       "      <td>True</td>\n",
       "      <td>True</td>\n",
       "      <td>True</td>\n",
       "      <td>163</td>\n",
       "      <td>3500000000</td>\n",
       "      <td>3</td>\n",
       "    </tr>\n",
       "    <tr>\n",
       "      <th>3446</th>\n",
       "      <td>83</td>\n",
       "      <td>2</td>\n",
       "      <td>True</td>\n",
       "      <td>True</td>\n",
       "      <td>True</td>\n",
       "      <td>105</td>\n",
       "      <td>6800000000</td>\n",
       "      <td>1</td>\n",
       "    </tr>\n",
       "    <tr>\n",
       "      <th>3447</th>\n",
       "      <td>75</td>\n",
       "      <td>2</td>\n",
       "      <td>False</td>\n",
       "      <td>False</td>\n",
       "      <td>False</td>\n",
       "      <td>115</td>\n",
       "      <td>365000000</td>\n",
       "      <td>0</td>\n",
       "    </tr>\n",
       "    <tr>\n",
       "      <th>3448</th>\n",
       "      <td>105</td>\n",
       "      <td>2</td>\n",
       "      <td>True</td>\n",
       "      <td>True</td>\n",
       "      <td>True</td>\n",
       "      <td>39</td>\n",
       "      <td>5600000000</td>\n",
       "      <td>3</td>\n",
       "    </tr>\n",
       "    <tr>\n",
       "      <th>3449</th>\n",
       "      <td>82</td>\n",
       "      <td>2</td>\n",
       "      <td>False</td>\n",
       "      <td>True</td>\n",
       "      <td>True</td>\n",
       "      <td>115</td>\n",
       "      <td>360000000</td>\n",
       "      <td>0</td>\n",
       "    </tr>\n",
       "  </tbody>\n",
       "</table>\n",
       "<p>3450 rows × 8 columns</p>\n",
       "</div>"
      ],
      "text/plain": [
       "      Area  Room  Parking  Warehouse  Elevator Address       Price  priceLevel\n",
       "0       63     1     True       True      True     156  1850000000           2\n",
       "1       60     1     True       True      True     156  1850000000           2\n",
       "2       79     2     True       True      True     117   550000000           0\n",
       "3       95     2     True       True      True     152   902500000           0\n",
       "4      123     2     True       True      True     150  7000000000           1\n",
       "...    ...   ...      ...        ...       ...     ...         ...         ...\n",
       "3445    86     2     True       True      True     163  3500000000           3\n",
       "3446    83     2     True       True      True     105  6800000000           1\n",
       "3447    75     2    False      False     False     115   365000000           0\n",
       "3448   105     2     True       True      True      39  5600000000           3\n",
       "3449    82     2    False       True      True     115   360000000           0\n",
       "\n",
       "[3450 rows x 8 columns]"
      ]
     },
     "execution_count": 13,
     "metadata": {},
     "output_type": "execute_result"
    }
   ],
   "source": [
    "df"
   ]
  },
  {
   "cell_type": "code",
   "execution_count": 14,
   "id": "76a8d9be-5ab4-4417-b252-4ddafb252f89",
   "metadata": {
    "tags": []
   },
   "outputs": [],
   "source": [
    "scaler = StandardScaler()\n",
    "df_normalized = pd.DataFrame(scaler.fit_transform(df.loc[:, df.columns != 'priceLevel']), columns=df.columns[:-1])\n"
   ]
  },
  {
   "cell_type": "code",
   "execution_count": 15,
   "id": "1785d707-a8d8-4ba9-bd74-5d5063621e1d",
   "metadata": {
    "tags": []
   },
   "outputs": [],
   "source": [
    "df = pd.concat([df_normalized, df['priceLevel']], axis = 1)"
   ]
  },
  {
   "cell_type": "code",
   "execution_count": 16,
   "id": "0ecc3580-a7aa-4cf3-9d54-754c441b56c1",
   "metadata": {
    "tags": []
   },
   "outputs": [
    {
     "data": {
      "text/html": [
       "<div>\n",
       "<style scoped>\n",
       "    .dataframe tbody tr th:only-of-type {\n",
       "        vertical-align: middle;\n",
       "    }\n",
       "\n",
       "    .dataframe tbody tr th {\n",
       "        vertical-align: top;\n",
       "    }\n",
       "\n",
       "    .dataframe thead th {\n",
       "        text-align: right;\n",
       "    }\n",
       "</style>\n",
       "<table border=\"1\" class=\"dataframe\">\n",
       "  <thead>\n",
       "    <tr style=\"text-align: right;\">\n",
       "      <th></th>\n",
       "      <th>Area</th>\n",
       "      <th>Room</th>\n",
       "      <th>Parking</th>\n",
       "      <th>Warehouse</th>\n",
       "      <th>Elevator</th>\n",
       "      <th>Address</th>\n",
       "      <th>Price</th>\n",
       "      <th>priceLevel</th>\n",
       "    </tr>\n",
       "  </thead>\n",
       "  <tbody>\n",
       "    <tr>\n",
       "      <th>0</th>\n",
       "      <td>-0.631533</td>\n",
       "      <td>-1.422380</td>\n",
       "      <td>0.424135</td>\n",
       "      <td>0.304647</td>\n",
       "      <td>0.519406</td>\n",
       "      <td>1.013652</td>\n",
       "      <td>-0.433929</td>\n",
       "      <td>2</td>\n",
       "    </tr>\n",
       "    <tr>\n",
       "      <th>1</th>\n",
       "      <td>-0.674673</td>\n",
       "      <td>-1.422380</td>\n",
       "      <td>0.424135</td>\n",
       "      <td>0.304647</td>\n",
       "      <td>0.519406</td>\n",
       "      <td>1.013652</td>\n",
       "      <td>-0.433929</td>\n",
       "      <td>2</td>\n",
       "    </tr>\n",
       "    <tr>\n",
       "      <th>2</th>\n",
       "      <td>-0.401453</td>\n",
       "      <td>-0.106774</td>\n",
       "      <td>0.424135</td>\n",
       "      <td>0.304647</td>\n",
       "      <td>0.519406</td>\n",
       "      <td>0.238524</td>\n",
       "      <td>-0.593934</td>\n",
       "      <td>0</td>\n",
       "    </tr>\n",
       "    <tr>\n",
       "      <th>3</th>\n",
       "      <td>-0.171372</td>\n",
       "      <td>-0.106774</td>\n",
       "      <td>0.424135</td>\n",
       "      <td>0.304647</td>\n",
       "      <td>0.519406</td>\n",
       "      <td>0.934151</td>\n",
       "      <td>-0.550548</td>\n",
       "      <td>0</td>\n",
       "    </tr>\n",
       "    <tr>\n",
       "      <th>4</th>\n",
       "      <td>0.231268</td>\n",
       "      <td>-0.106774</td>\n",
       "      <td>0.424135</td>\n",
       "      <td>0.304647</td>\n",
       "      <td>0.519406</td>\n",
       "      <td>0.894401</td>\n",
       "      <td>0.199937</td>\n",
       "      <td>1</td>\n",
       "    </tr>\n",
       "    <tr>\n",
       "      <th>...</th>\n",
       "      <td>...</td>\n",
       "      <td>...</td>\n",
       "      <td>...</td>\n",
       "      <td>...</td>\n",
       "      <td>...</td>\n",
       "      <td>...</td>\n",
       "      <td>...</td>\n",
       "      <td>...</td>\n",
       "    </tr>\n",
       "    <tr>\n",
       "      <th>3445</th>\n",
       "      <td>-0.300793</td>\n",
       "      <td>-0.106774</td>\n",
       "      <td>0.424135</td>\n",
       "      <td>0.304647</td>\n",
       "      <td>0.519406</td>\n",
       "      <td>1.152777</td>\n",
       "      <td>-0.230846</td>\n",
       "      <td>3</td>\n",
       "    </tr>\n",
       "    <tr>\n",
       "      <th>3446</th>\n",
       "      <td>-0.343933</td>\n",
       "      <td>-0.106774</td>\n",
       "      <td>0.424135</td>\n",
       "      <td>0.304647</td>\n",
       "      <td>0.519406</td>\n",
       "      <td>0.000023</td>\n",
       "      <td>0.175321</td>\n",
       "      <td>1</td>\n",
       "    </tr>\n",
       "    <tr>\n",
       "      <th>3447</th>\n",
       "      <td>-0.458973</td>\n",
       "      <td>-0.106774</td>\n",
       "      <td>-2.357739</td>\n",
       "      <td>-3.282491</td>\n",
       "      <td>-1.925275</td>\n",
       "      <td>0.198774</td>\n",
       "      <td>-0.616704</td>\n",
       "      <td>0</td>\n",
       "    </tr>\n",
       "    <tr>\n",
       "      <th>3448</th>\n",
       "      <td>-0.027572</td>\n",
       "      <td>-0.106774</td>\n",
       "      <td>0.424135</td>\n",
       "      <td>0.304647</td>\n",
       "      <td>0.519406</td>\n",
       "      <td>-1.311732</td>\n",
       "      <td>0.027624</td>\n",
       "      <td>3</td>\n",
       "    </tr>\n",
       "    <tr>\n",
       "      <th>3449</th>\n",
       "      <td>-0.358313</td>\n",
       "      <td>-0.106774</td>\n",
       "      <td>-2.357739</td>\n",
       "      <td>0.304647</td>\n",
       "      <td>0.519406</td>\n",
       "      <td>0.198774</td>\n",
       "      <td>-0.617320</td>\n",
       "      <td>0</td>\n",
       "    </tr>\n",
       "  </tbody>\n",
       "</table>\n",
       "<p>3450 rows × 8 columns</p>\n",
       "</div>"
      ],
      "text/plain": [
       "          Area      Room   Parking  Warehouse  Elevator   Address     Price   \n",
       "0    -0.631533 -1.422380  0.424135   0.304647  0.519406  1.013652 -0.433929  \\\n",
       "1    -0.674673 -1.422380  0.424135   0.304647  0.519406  1.013652 -0.433929   \n",
       "2    -0.401453 -0.106774  0.424135   0.304647  0.519406  0.238524 -0.593934   \n",
       "3    -0.171372 -0.106774  0.424135   0.304647  0.519406  0.934151 -0.550548   \n",
       "4     0.231268 -0.106774  0.424135   0.304647  0.519406  0.894401  0.199937   \n",
       "...        ...       ...       ...        ...       ...       ...       ...   \n",
       "3445 -0.300793 -0.106774  0.424135   0.304647  0.519406  1.152777 -0.230846   \n",
       "3446 -0.343933 -0.106774  0.424135   0.304647  0.519406  0.000023  0.175321   \n",
       "3447 -0.458973 -0.106774 -2.357739  -3.282491 -1.925275  0.198774 -0.616704   \n",
       "3448 -0.027572 -0.106774  0.424135   0.304647  0.519406 -1.311732  0.027624   \n",
       "3449 -0.358313 -0.106774 -2.357739   0.304647  0.519406  0.198774 -0.617320   \n",
       "\n",
       "      priceLevel  \n",
       "0              2  \n",
       "1              2  \n",
       "2              0  \n",
       "3              0  \n",
       "4              1  \n",
       "...          ...  \n",
       "3445           3  \n",
       "3446           1  \n",
       "3447           0  \n",
       "3448           3  \n",
       "3449           0  \n",
       "\n",
       "[3450 rows x 8 columns]"
      ]
     },
     "execution_count": 16,
     "metadata": {},
     "output_type": "execute_result"
    }
   ],
   "source": [
    "df"
   ]
  },
  {
   "cell_type": "markdown",
   "id": "9839fea9-f653-4381-baf1-c0f0033b7085",
   "metadata": {
    "tags": []
   },
   "source": [
    "# Regression"
   ]
  },
  {
   "cell_type": "code",
   "execution_count": 17,
   "id": "4513d8ca-d93a-49a3-81a1-8fe802ac7713",
   "metadata": {
    "tags": []
   },
   "outputs": [],
   "source": [
    "df_regr = df.loc[:, df.columns != 'priceLevel']"
   ]
  },
  {
   "cell_type": "code",
   "execution_count": 18,
   "id": "726c73a3-cb0c-4e47-87e1-8047a6b9b6b0",
   "metadata": {
    "tags": []
   },
   "outputs": [
    {
     "data": {
      "text/html": [
       "<div>\n",
       "<style scoped>\n",
       "    .dataframe tbody tr th:only-of-type {\n",
       "        vertical-align: middle;\n",
       "    }\n",
       "\n",
       "    .dataframe tbody tr th {\n",
       "        vertical-align: top;\n",
       "    }\n",
       "\n",
       "    .dataframe thead th {\n",
       "        text-align: right;\n",
       "    }\n",
       "</style>\n",
       "<table border=\"1\" class=\"dataframe\">\n",
       "  <thead>\n",
       "    <tr style=\"text-align: right;\">\n",
       "      <th></th>\n",
       "      <th>Area</th>\n",
       "      <th>Room</th>\n",
       "      <th>Parking</th>\n",
       "      <th>Warehouse</th>\n",
       "      <th>Elevator</th>\n",
       "      <th>Address</th>\n",
       "      <th>Price</th>\n",
       "    </tr>\n",
       "  </thead>\n",
       "  <tbody>\n",
       "    <tr>\n",
       "      <th>0</th>\n",
       "      <td>-0.631533</td>\n",
       "      <td>-1.422380</td>\n",
       "      <td>0.424135</td>\n",
       "      <td>0.304647</td>\n",
       "      <td>0.519406</td>\n",
       "      <td>1.013652</td>\n",
       "      <td>-0.433929</td>\n",
       "    </tr>\n",
       "    <tr>\n",
       "      <th>1</th>\n",
       "      <td>-0.674673</td>\n",
       "      <td>-1.422380</td>\n",
       "      <td>0.424135</td>\n",
       "      <td>0.304647</td>\n",
       "      <td>0.519406</td>\n",
       "      <td>1.013652</td>\n",
       "      <td>-0.433929</td>\n",
       "    </tr>\n",
       "    <tr>\n",
       "      <th>2</th>\n",
       "      <td>-0.401453</td>\n",
       "      <td>-0.106774</td>\n",
       "      <td>0.424135</td>\n",
       "      <td>0.304647</td>\n",
       "      <td>0.519406</td>\n",
       "      <td>0.238524</td>\n",
       "      <td>-0.593934</td>\n",
       "    </tr>\n",
       "    <tr>\n",
       "      <th>3</th>\n",
       "      <td>-0.171372</td>\n",
       "      <td>-0.106774</td>\n",
       "      <td>0.424135</td>\n",
       "      <td>0.304647</td>\n",
       "      <td>0.519406</td>\n",
       "      <td>0.934151</td>\n",
       "      <td>-0.550548</td>\n",
       "    </tr>\n",
       "    <tr>\n",
       "      <th>4</th>\n",
       "      <td>0.231268</td>\n",
       "      <td>-0.106774</td>\n",
       "      <td>0.424135</td>\n",
       "      <td>0.304647</td>\n",
       "      <td>0.519406</td>\n",
       "      <td>0.894401</td>\n",
       "      <td>0.199937</td>\n",
       "    </tr>\n",
       "    <tr>\n",
       "      <th>...</th>\n",
       "      <td>...</td>\n",
       "      <td>...</td>\n",
       "      <td>...</td>\n",
       "      <td>...</td>\n",
       "      <td>...</td>\n",
       "      <td>...</td>\n",
       "      <td>...</td>\n",
       "    </tr>\n",
       "    <tr>\n",
       "      <th>3445</th>\n",
       "      <td>-0.300793</td>\n",
       "      <td>-0.106774</td>\n",
       "      <td>0.424135</td>\n",
       "      <td>0.304647</td>\n",
       "      <td>0.519406</td>\n",
       "      <td>1.152777</td>\n",
       "      <td>-0.230846</td>\n",
       "    </tr>\n",
       "    <tr>\n",
       "      <th>3446</th>\n",
       "      <td>-0.343933</td>\n",
       "      <td>-0.106774</td>\n",
       "      <td>0.424135</td>\n",
       "      <td>0.304647</td>\n",
       "      <td>0.519406</td>\n",
       "      <td>0.000023</td>\n",
       "      <td>0.175321</td>\n",
       "    </tr>\n",
       "    <tr>\n",
       "      <th>3447</th>\n",
       "      <td>-0.458973</td>\n",
       "      <td>-0.106774</td>\n",
       "      <td>-2.357739</td>\n",
       "      <td>-3.282491</td>\n",
       "      <td>-1.925275</td>\n",
       "      <td>0.198774</td>\n",
       "      <td>-0.616704</td>\n",
       "    </tr>\n",
       "    <tr>\n",
       "      <th>3448</th>\n",
       "      <td>-0.027572</td>\n",
       "      <td>-0.106774</td>\n",
       "      <td>0.424135</td>\n",
       "      <td>0.304647</td>\n",
       "      <td>0.519406</td>\n",
       "      <td>-1.311732</td>\n",
       "      <td>0.027624</td>\n",
       "    </tr>\n",
       "    <tr>\n",
       "      <th>3449</th>\n",
       "      <td>-0.358313</td>\n",
       "      <td>-0.106774</td>\n",
       "      <td>-2.357739</td>\n",
       "      <td>0.304647</td>\n",
       "      <td>0.519406</td>\n",
       "      <td>0.198774</td>\n",
       "      <td>-0.617320</td>\n",
       "    </tr>\n",
       "  </tbody>\n",
       "</table>\n",
       "<p>3450 rows × 7 columns</p>\n",
       "</div>"
      ],
      "text/plain": [
       "          Area      Room   Parking  Warehouse  Elevator   Address     Price\n",
       "0    -0.631533 -1.422380  0.424135   0.304647  0.519406  1.013652 -0.433929\n",
       "1    -0.674673 -1.422380  0.424135   0.304647  0.519406  1.013652 -0.433929\n",
       "2    -0.401453 -0.106774  0.424135   0.304647  0.519406  0.238524 -0.593934\n",
       "3    -0.171372 -0.106774  0.424135   0.304647  0.519406  0.934151 -0.550548\n",
       "4     0.231268 -0.106774  0.424135   0.304647  0.519406  0.894401  0.199937\n",
       "...        ...       ...       ...        ...       ...       ...       ...\n",
       "3445 -0.300793 -0.106774  0.424135   0.304647  0.519406  1.152777 -0.230846\n",
       "3446 -0.343933 -0.106774  0.424135   0.304647  0.519406  0.000023  0.175321\n",
       "3447 -0.458973 -0.106774 -2.357739  -3.282491 -1.925275  0.198774 -0.616704\n",
       "3448 -0.027572 -0.106774  0.424135   0.304647  0.519406 -1.311732  0.027624\n",
       "3449 -0.358313 -0.106774 -2.357739   0.304647  0.519406  0.198774 -0.617320\n",
       "\n",
       "[3450 rows x 7 columns]"
      ]
     },
     "execution_count": 18,
     "metadata": {},
     "output_type": "execute_result"
    }
   ],
   "source": [
    "df_regr"
   ]
  },
  {
   "cell_type": "code",
   "execution_count": 19,
   "id": "897a707d-1734-4e14-9a9c-7d2aa29cee7d",
   "metadata": {
    "tags": []
   },
   "outputs": [],
   "source": [
    "X_train, X_test, y_train, y_test = train_test_split(df_regr.loc[:, df_regr.columns != 'Price'], df_regr['Price'], test_size=0.2, random_state=42)"
   ]
  },
  {
   "cell_type": "code",
   "execution_count": 20,
   "id": "9b6b8725-4592-49c6-88c1-009ebad690bf",
   "metadata": {
    "tags": []
   },
   "outputs": [],
   "source": [
    "# Create linear regression object\n",
    "regr = linear_model.LinearRegression()\n",
    "\n",
    "# Train the model using the training sets\n",
    "regr.fit(X_train, y_train)\n",
    "\n",
    "# Make predictions using the testing set\n",
    "y_pred = regr.predict(X_test)"
   ]
  },
  {
   "cell_type": "code",
   "execution_count": 21,
   "id": "f123b462-fbf9-48e4-a836-a026a01a37b0",
   "metadata": {
    "tags": []
   },
   "outputs": [
    {
     "name": "stdout",
     "output_type": "stream",
     "text": [
      "---- Test ----\n",
      "Mean squared error: 0.54\n",
      "Score: 0.5322393973976469\n",
      "---- Train ----\n",
      "Mean squared error: 0.44\n",
      "Score: 0.5398110879615355\n"
     ]
    }
   ],
   "source": [
    "print('---- Test ----')\n",
    "print(\"Mean squared error: %.2f\" % mean_squared_error(y_test, y_pred))\n",
    "print(f\"Score: {regr.score(X_test, y_test)}\")\n",
    "print('---- Train ----')\n",
    "y_pred = regr.predict(X_train)\n",
    "print(\"Mean squared error: %.2f\" % mean_squared_error(y_train, y_pred))\n",
    "print(f\"Score: {regr.score(X_train, y_train)}\")"
   ]
  },
  {
   "cell_type": "code",
   "execution_count": 29,
   "id": "e9ee5c93-047e-47d3-b112-4957346ca999",
   "metadata": {
    "tags": []
   },
   "outputs": [],
   "source": [
    "poly = PolynomialFeatures(degree=2)\n",
    "X_poly = poly.fit_transform(X_train)\n",
    "model = linear_model.LinearRegression().fit(X_poly, y_train)\n",
    "X_poly_test = poly.transform(X_test)\n",
    "y_pred = model.predict(X_poly_test)"
   ]
  },
  {
   "cell_type": "code",
   "execution_count": 30,
   "id": "0b3dcd1d-efb2-4a1b-bcd0-ea47b953e44f",
   "metadata": {
    "tags": []
   },
   "outputs": [
    {
     "name": "stdout",
     "output_type": "stream",
     "text": [
      "---- Test ----\n",
      "Mean squared error: 0.32\n",
      "Score: 0.7219366887469971\n",
      "---- Train ----\n",
      "Mean squared error: 0.31\n",
      "Score: 0.67423657420782\n"
     ]
    }
   ],
   "source": [
    "print('---- Test ----')\n",
    "print(\"Mean squared error: %.2f\" % mean_squared_error(y_test, y_pred))\n",
    "print(f\"Score: {model.score(X_poly_test, y_test)}\")\n",
    "print('---- Train ----')\n",
    "X_poly_train = poly.transform(X_train)\n",
    "y_pred = model.predict(X_poly_train)\n",
    "print(\"Mean squared error: %.2f\" % mean_squared_error(y_train, y_pred))\n",
    "print(f\"Score: {model.score(X_poly_train, y_train)}\")\n"
   ]
  },
  {
   "cell_type": "code",
   "execution_count": 31,
   "id": "653026d4-750c-4571-9c5d-2933e488e943",
   "metadata": {
    "tags": []
   },
   "outputs": [],
   "source": [
    "poly = PolynomialFeatures(degree=3)\n",
    "X_poly = poly.fit_transform(X_train)\n",
    "model = linear_model.LinearRegression().fit(X_poly, y_train)\n",
    "X_poly_test = poly.transform(X_test)\n",
    "y_pred = model.predict(X_poly_test)"
   ]
  },
  {
   "cell_type": "code",
   "execution_count": 32,
   "id": "94347cc5-59d1-4c64-aff3-749ab9c649b0",
   "metadata": {
    "tags": []
   },
   "outputs": [
    {
     "name": "stdout",
     "output_type": "stream",
     "text": [
      "---- Test ----\n",
      "Mean squared error: 0.31\n",
      "Score: 0.7261380647233164\n",
      "---- Train ----\n",
      "Mean squared error: 0.24\n",
      "Score: 0.7540314250110471\n"
     ]
    }
   ],
   "source": [
    "print('---- Test ----')\n",
    "print(\"Mean squared error: %.2f\" % mean_squared_error(y_test, y_pred))\n",
    "print(f\"Score: {model.score(X_poly_test, y_test)}\")\n",
    "print('---- Train ----')\n",
    "X_poly_train = poly.transform(X_train)\n",
    "y_pred = model.predict(X_poly_train)\n",
    "print(\"Mean squared error: %.2f\" % mean_squared_error(y_train, y_pred))\n",
    "print(f\"Score: {model.score(X_poly_train, y_train)}\")\n"
   ]
  },
  {
   "cell_type": "markdown",
   "id": "3b0da8c9-f74a-44e2-813a-953a070dc529",
   "metadata": {},
   "source": [
    "# Classification"
   ]
  },
  {
   "cell_type": "code",
   "execution_count": 302,
   "id": "cae20c60-8889-4161-b3bf-1f6f3bf5cca1",
   "metadata": {
    "tags": []
   },
   "outputs": [],
   "source": [
    "df_clas = df.loc[:, df.columns != 'Price']"
   ]
  },
  {
   "cell_type": "code",
   "execution_count": 303,
   "id": "1e22be3c-ee8b-4dce-9cae-0410d43897b2",
   "metadata": {
    "tags": []
   },
   "outputs": [
    {
     "data": {
      "text/html": [
       "<div>\n",
       "<style scoped>\n",
       "    .dataframe tbody tr th:only-of-type {\n",
       "        vertical-align: middle;\n",
       "    }\n",
       "\n",
       "    .dataframe tbody tr th {\n",
       "        vertical-align: top;\n",
       "    }\n",
       "\n",
       "    .dataframe thead th {\n",
       "        text-align: right;\n",
       "    }\n",
       "</style>\n",
       "<table border=\"1\" class=\"dataframe\">\n",
       "  <thead>\n",
       "    <tr style=\"text-align: right;\">\n",
       "      <th></th>\n",
       "      <th>Area</th>\n",
       "      <th>Room</th>\n",
       "      <th>Parking</th>\n",
       "      <th>Warehouse</th>\n",
       "      <th>Elevator</th>\n",
       "      <th>Address</th>\n",
       "      <th>priceLevel</th>\n",
       "    </tr>\n",
       "  </thead>\n",
       "  <tbody>\n",
       "    <tr>\n",
       "      <th>0</th>\n",
       "      <td>-0.631533</td>\n",
       "      <td>-1.422380</td>\n",
       "      <td>0.424135</td>\n",
       "      <td>0.304647</td>\n",
       "      <td>0.519406</td>\n",
       "      <td>1.013652</td>\n",
       "      <td>2</td>\n",
       "    </tr>\n",
       "    <tr>\n",
       "      <th>1</th>\n",
       "      <td>-0.674673</td>\n",
       "      <td>-1.422380</td>\n",
       "      <td>0.424135</td>\n",
       "      <td>0.304647</td>\n",
       "      <td>0.519406</td>\n",
       "      <td>1.013652</td>\n",
       "      <td>2</td>\n",
       "    </tr>\n",
       "    <tr>\n",
       "      <th>2</th>\n",
       "      <td>-0.401453</td>\n",
       "      <td>-0.106774</td>\n",
       "      <td>0.424135</td>\n",
       "      <td>0.304647</td>\n",
       "      <td>0.519406</td>\n",
       "      <td>0.238524</td>\n",
       "      <td>0</td>\n",
       "    </tr>\n",
       "    <tr>\n",
       "      <th>3</th>\n",
       "      <td>-0.171372</td>\n",
       "      <td>-0.106774</td>\n",
       "      <td>0.424135</td>\n",
       "      <td>0.304647</td>\n",
       "      <td>0.519406</td>\n",
       "      <td>0.934151</td>\n",
       "      <td>0</td>\n",
       "    </tr>\n",
       "    <tr>\n",
       "      <th>4</th>\n",
       "      <td>0.231268</td>\n",
       "      <td>-0.106774</td>\n",
       "      <td>0.424135</td>\n",
       "      <td>0.304647</td>\n",
       "      <td>0.519406</td>\n",
       "      <td>0.894401</td>\n",
       "      <td>1</td>\n",
       "    </tr>\n",
       "    <tr>\n",
       "      <th>...</th>\n",
       "      <td>...</td>\n",
       "      <td>...</td>\n",
       "      <td>...</td>\n",
       "      <td>...</td>\n",
       "      <td>...</td>\n",
       "      <td>...</td>\n",
       "      <td>...</td>\n",
       "    </tr>\n",
       "    <tr>\n",
       "      <th>3445</th>\n",
       "      <td>-0.300793</td>\n",
       "      <td>-0.106774</td>\n",
       "      <td>0.424135</td>\n",
       "      <td>0.304647</td>\n",
       "      <td>0.519406</td>\n",
       "      <td>1.152777</td>\n",
       "      <td>3</td>\n",
       "    </tr>\n",
       "    <tr>\n",
       "      <th>3446</th>\n",
       "      <td>-0.343933</td>\n",
       "      <td>-0.106774</td>\n",
       "      <td>0.424135</td>\n",
       "      <td>0.304647</td>\n",
       "      <td>0.519406</td>\n",
       "      <td>0.000023</td>\n",
       "      <td>1</td>\n",
       "    </tr>\n",
       "    <tr>\n",
       "      <th>3447</th>\n",
       "      <td>-0.458973</td>\n",
       "      <td>-0.106774</td>\n",
       "      <td>-2.357739</td>\n",
       "      <td>-3.282491</td>\n",
       "      <td>-1.925275</td>\n",
       "      <td>0.198774</td>\n",
       "      <td>0</td>\n",
       "    </tr>\n",
       "    <tr>\n",
       "      <th>3448</th>\n",
       "      <td>-0.027572</td>\n",
       "      <td>-0.106774</td>\n",
       "      <td>0.424135</td>\n",
       "      <td>0.304647</td>\n",
       "      <td>0.519406</td>\n",
       "      <td>-1.311732</td>\n",
       "      <td>3</td>\n",
       "    </tr>\n",
       "    <tr>\n",
       "      <th>3449</th>\n",
       "      <td>-0.358313</td>\n",
       "      <td>-0.106774</td>\n",
       "      <td>-2.357739</td>\n",
       "      <td>0.304647</td>\n",
       "      <td>0.519406</td>\n",
       "      <td>0.198774</td>\n",
       "      <td>0</td>\n",
       "    </tr>\n",
       "  </tbody>\n",
       "</table>\n",
       "<p>3450 rows × 7 columns</p>\n",
       "</div>"
      ],
      "text/plain": [
       "          Area      Room   Parking  Warehouse  Elevator   Address  priceLevel\n",
       "0    -0.631533 -1.422380  0.424135   0.304647  0.519406  1.013652           2\n",
       "1    -0.674673 -1.422380  0.424135   0.304647  0.519406  1.013652           2\n",
       "2    -0.401453 -0.106774  0.424135   0.304647  0.519406  0.238524           0\n",
       "3    -0.171372 -0.106774  0.424135   0.304647  0.519406  0.934151           0\n",
       "4     0.231268 -0.106774  0.424135   0.304647  0.519406  0.894401           1\n",
       "...        ...       ...       ...        ...       ...       ...         ...\n",
       "3445 -0.300793 -0.106774  0.424135   0.304647  0.519406  1.152777           3\n",
       "3446 -0.343933 -0.106774  0.424135   0.304647  0.519406  0.000023           1\n",
       "3447 -0.458973 -0.106774 -2.357739  -3.282491 -1.925275  0.198774           0\n",
       "3448 -0.027572 -0.106774  0.424135   0.304647  0.519406 -1.311732           3\n",
       "3449 -0.358313 -0.106774 -2.357739   0.304647  0.519406  0.198774           0\n",
       "\n",
       "[3450 rows x 7 columns]"
      ]
     },
     "execution_count": 303,
     "metadata": {},
     "output_type": "execute_result"
    }
   ],
   "source": [
    "df_clas"
   ]
  },
  {
   "cell_type": "code",
   "execution_count": 304,
   "id": "a1476b6a-2e8c-41ff-b7fc-4f29a19ee6bf",
   "metadata": {
    "tags": []
   },
   "outputs": [],
   "source": [
    "X_train, X_test, y_train, y_test = train_test_split(df_clas.loc[:, df_clas.columns != 'priceLevel'], df_clas['priceLevel'], test_size=0.2, random_state=42)"
   ]
  },
  {
   "cell_type": "markdown",
   "id": "cf13632c-0c81-45ca-86fa-6ffbf515eae5",
   "metadata": {},
   "source": [
    "## Desicion Tree"
   ]
  },
  {
   "cell_type": "code",
   "execution_count": 305,
   "id": "ab1fb213-3f9c-43b9-b56e-f2f39e6c4fce",
   "metadata": {
    "scrolled": true,
    "tags": []
   },
   "outputs": [],
   "source": [
    "clf = tree.DecisionTreeClassifier(criterion='entropy', max_depth=10)\n",
    "clf = clf.fit(X_train, y_train)\n",
    "# tree.plot_tree(clf)"
   ]
  },
  {
   "cell_type": "code",
   "execution_count": 306,
   "id": "67ec52d4-c5da-4118-a3e6-461e5e9fc9b5",
   "metadata": {
    "tags": []
   },
   "outputs": [
    {
     "name": "stdout",
     "output_type": "stream",
     "text": [
      "---- Test ----\n",
      "Precision: 0.7463768115942029, Accuracy: 0.7463768115942029\n",
      "---- Train ----\n",
      "Precision: 0.863768115942029, Accuracy: 0.863768115942029\n"
     ]
    }
   ],
   "source": [
    "print('---- Test ----')\n",
    "y_pred = clf.predict(X_test)\n",
    "print(f\"Precision: {precision_score(y_test, np.round(y_pred).astype(int), average='micro')}, Accuracy: {accuracy_score(y_test, np.round(y_pred).astype(int))}\")\n",
    "print('---- Train ----')\n",
    "y_pred = clf.predict(X_train)\n",
    "print(f\"Precision: {precision_score(y_train, np.round(y_pred).astype(int), average='micro')}, Accuracy: {accuracy_score(y_train, np.round(y_pred).astype(int))}\")"
   ]
  },
  {
   "cell_type": "markdown",
   "id": "3b91a054-338d-4ef6-b6c8-439aaf53e064",
   "metadata": {
    "tags": []
   },
   "source": [
    "## Random Forest"
   ]
  },
  {
   "cell_type": "code",
   "execution_count": 307,
   "id": "02703a57-9711-46cf-aa2e-31cc3e79fc35",
   "metadata": {
    "tags": []
   },
   "outputs": [
    {
     "data": {
      "text/html": [
       "<style>#sk-container-id-22 {color: black;background-color: white;}#sk-container-id-22 pre{padding: 0;}#sk-container-id-22 div.sk-toggleable {background-color: white;}#sk-container-id-22 label.sk-toggleable__label {cursor: pointer;display: block;width: 100%;margin-bottom: 0;padding: 0.3em;box-sizing: border-box;text-align: center;}#sk-container-id-22 label.sk-toggleable__label-arrow:before {content: \"▸\";float: left;margin-right: 0.25em;color: #696969;}#sk-container-id-22 label.sk-toggleable__label-arrow:hover:before {color: black;}#sk-container-id-22 div.sk-estimator:hover label.sk-toggleable__label-arrow:before {color: black;}#sk-container-id-22 div.sk-toggleable__content {max-height: 0;max-width: 0;overflow: hidden;text-align: left;background-color: #f0f8ff;}#sk-container-id-22 div.sk-toggleable__content pre {margin: 0.2em;color: black;border-radius: 0.25em;background-color: #f0f8ff;}#sk-container-id-22 input.sk-toggleable__control:checked~div.sk-toggleable__content {max-height: 200px;max-width: 100%;overflow: auto;}#sk-container-id-22 input.sk-toggleable__control:checked~label.sk-toggleable__label-arrow:before {content: \"▾\";}#sk-container-id-22 div.sk-estimator input.sk-toggleable__control:checked~label.sk-toggleable__label {background-color: #d4ebff;}#sk-container-id-22 div.sk-label input.sk-toggleable__control:checked~label.sk-toggleable__label {background-color: #d4ebff;}#sk-container-id-22 input.sk-hidden--visually {border: 0;clip: rect(1px 1px 1px 1px);clip: rect(1px, 1px, 1px, 1px);height: 1px;margin: -1px;overflow: hidden;padding: 0;position: absolute;width: 1px;}#sk-container-id-22 div.sk-estimator {font-family: monospace;background-color: #f0f8ff;border: 1px dotted black;border-radius: 0.25em;box-sizing: border-box;margin-bottom: 0.5em;}#sk-container-id-22 div.sk-estimator:hover {background-color: #d4ebff;}#sk-container-id-22 div.sk-parallel-item::after {content: \"\";width: 100%;border-bottom: 1px solid gray;flex-grow: 1;}#sk-container-id-22 div.sk-label:hover label.sk-toggleable__label {background-color: #d4ebff;}#sk-container-id-22 div.sk-serial::before {content: \"\";position: absolute;border-left: 1px solid gray;box-sizing: border-box;top: 0;bottom: 0;left: 50%;z-index: 0;}#sk-container-id-22 div.sk-serial {display: flex;flex-direction: column;align-items: center;background-color: white;padding-right: 0.2em;padding-left: 0.2em;position: relative;}#sk-container-id-22 div.sk-item {position: relative;z-index: 1;}#sk-container-id-22 div.sk-parallel {display: flex;align-items: stretch;justify-content: center;background-color: white;position: relative;}#sk-container-id-22 div.sk-item::before, #sk-container-id-22 div.sk-parallel-item::before {content: \"\";position: absolute;border-left: 1px solid gray;box-sizing: border-box;top: 0;bottom: 0;left: 50%;z-index: -1;}#sk-container-id-22 div.sk-parallel-item {display: flex;flex-direction: column;z-index: 1;position: relative;background-color: white;}#sk-container-id-22 div.sk-parallel-item:first-child::after {align-self: flex-end;width: 50%;}#sk-container-id-22 div.sk-parallel-item:last-child::after {align-self: flex-start;width: 50%;}#sk-container-id-22 div.sk-parallel-item:only-child::after {width: 0;}#sk-container-id-22 div.sk-dashed-wrapped {border: 1px dashed gray;margin: 0 0.4em 0.5em 0.4em;box-sizing: border-box;padding-bottom: 0.4em;background-color: white;}#sk-container-id-22 div.sk-label label {font-family: monospace;font-weight: bold;display: inline-block;line-height: 1.2em;}#sk-container-id-22 div.sk-label-container {text-align: center;}#sk-container-id-22 div.sk-container {/* jupyter's `normalize.less` sets `[hidden] { display: none; }` but bootstrap.min.css set `[hidden] { display: none !important; }` so we also need the `!important` here to be able to override the default hidden behavior on the sphinx rendered scikit-learn.org. See: https://github.com/scikit-learn/scikit-learn/issues/21755 */display: inline-block !important;position: relative;}#sk-container-id-22 div.sk-text-repr-fallback {display: none;}</style><div id=\"sk-container-id-22\" class=\"sk-top-container\"><div class=\"sk-text-repr-fallback\"><pre>RandomForestClassifier(criterion=&#x27;entropy&#x27;, max_depth=10, random_state=0)</pre><b>In a Jupyter environment, please rerun this cell to show the HTML representation or trust the notebook. <br />On GitHub, the HTML representation is unable to render, please try loading this page with nbviewer.org.</b></div><div class=\"sk-container\" hidden><div class=\"sk-item\"><div class=\"sk-estimator sk-toggleable\"><input class=\"sk-toggleable__control sk-hidden--visually\" id=\"sk-estimator-id-22\" type=\"checkbox\" checked><label for=\"sk-estimator-id-22\" class=\"sk-toggleable__label sk-toggleable__label-arrow\">RandomForestClassifier</label><div class=\"sk-toggleable__content\"><pre>RandomForestClassifier(criterion=&#x27;entropy&#x27;, max_depth=10, random_state=0)</pre></div></div></div></div></div>"
      ],
      "text/plain": [
       "RandomForestClassifier(criterion='entropy', max_depth=10, random_state=0)"
      ]
     },
     "execution_count": 307,
     "metadata": {},
     "output_type": "execute_result"
    }
   ],
   "source": [
    "clf = RandomForestClassifier(criterion='entropy', max_depth=10, random_state=0)\n",
    "clf.fit(X_train, y_train)"
   ]
  },
  {
   "cell_type": "code",
   "execution_count": 308,
   "id": "3054e8fb-8405-4d9a-a61e-e91f7d264433",
   "metadata": {
    "tags": []
   },
   "outputs": [
    {
     "name": "stdout",
     "output_type": "stream",
     "text": [
      "---- Test ----\n",
      "Precision: 0.7420289855072464, Accuracy: 0.7420289855072464\n",
      "---- Train ----\n",
      "Precision: 0.8449275362318841, Accuracy: 0.8449275362318841\n"
     ]
    }
   ],
   "source": [
    "print('---- Test ----')\n",
    "y_pred = clf.predict(X_test)\n",
    "print(f\"Precision: {precision_score(y_test, np.round(y_pred).astype(int), average='micro')}, Accuracy: {accuracy_score(y_test, np.round(y_pred).astype(int))}\")\n",
    "print('---- Train ----')\n",
    "y_pred = clf.predict(X_train)\n",
    "print(f\"Precision: {precision_score(y_train, np.round(y_pred).astype(int), average='micro')}, Accuracy: {accuracy_score(y_train, np.round(y_pred).astype(int))}\")"
   ]
  },
  {
   "cell_type": "markdown",
   "id": "31aa825b-2955-45d5-a9a2-908c2010772a",
   "metadata": {},
   "source": [
    "## KNN"
   ]
  },
  {
   "cell_type": "markdown",
   "id": "88769e0c-3ca2-44f8-a020-059bc415ffe8",
   "metadata": {
    "tags": []
   },
   "source": [
    "### K = 3"
   ]
  },
  {
   "cell_type": "code",
   "execution_count": 309,
   "id": "08bfb6ba-587b-43f3-b1b2-dbce758dd5fd",
   "metadata": {
    "tags": []
   },
   "outputs": [
    {
     "data": {
      "text/html": [
       "<style>#sk-container-id-23 {color: black;background-color: white;}#sk-container-id-23 pre{padding: 0;}#sk-container-id-23 div.sk-toggleable {background-color: white;}#sk-container-id-23 label.sk-toggleable__label {cursor: pointer;display: block;width: 100%;margin-bottom: 0;padding: 0.3em;box-sizing: border-box;text-align: center;}#sk-container-id-23 label.sk-toggleable__label-arrow:before {content: \"▸\";float: left;margin-right: 0.25em;color: #696969;}#sk-container-id-23 label.sk-toggleable__label-arrow:hover:before {color: black;}#sk-container-id-23 div.sk-estimator:hover label.sk-toggleable__label-arrow:before {color: black;}#sk-container-id-23 div.sk-toggleable__content {max-height: 0;max-width: 0;overflow: hidden;text-align: left;background-color: #f0f8ff;}#sk-container-id-23 div.sk-toggleable__content pre {margin: 0.2em;color: black;border-radius: 0.25em;background-color: #f0f8ff;}#sk-container-id-23 input.sk-toggleable__control:checked~div.sk-toggleable__content {max-height: 200px;max-width: 100%;overflow: auto;}#sk-container-id-23 input.sk-toggleable__control:checked~label.sk-toggleable__label-arrow:before {content: \"▾\";}#sk-container-id-23 div.sk-estimator input.sk-toggleable__control:checked~label.sk-toggleable__label {background-color: #d4ebff;}#sk-container-id-23 div.sk-label input.sk-toggleable__control:checked~label.sk-toggleable__label {background-color: #d4ebff;}#sk-container-id-23 input.sk-hidden--visually {border: 0;clip: rect(1px 1px 1px 1px);clip: rect(1px, 1px, 1px, 1px);height: 1px;margin: -1px;overflow: hidden;padding: 0;position: absolute;width: 1px;}#sk-container-id-23 div.sk-estimator {font-family: monospace;background-color: #f0f8ff;border: 1px dotted black;border-radius: 0.25em;box-sizing: border-box;margin-bottom: 0.5em;}#sk-container-id-23 div.sk-estimator:hover {background-color: #d4ebff;}#sk-container-id-23 div.sk-parallel-item::after {content: \"\";width: 100%;border-bottom: 1px solid gray;flex-grow: 1;}#sk-container-id-23 div.sk-label:hover label.sk-toggleable__label {background-color: #d4ebff;}#sk-container-id-23 div.sk-serial::before {content: \"\";position: absolute;border-left: 1px solid gray;box-sizing: border-box;top: 0;bottom: 0;left: 50%;z-index: 0;}#sk-container-id-23 div.sk-serial {display: flex;flex-direction: column;align-items: center;background-color: white;padding-right: 0.2em;padding-left: 0.2em;position: relative;}#sk-container-id-23 div.sk-item {position: relative;z-index: 1;}#sk-container-id-23 div.sk-parallel {display: flex;align-items: stretch;justify-content: center;background-color: white;position: relative;}#sk-container-id-23 div.sk-item::before, #sk-container-id-23 div.sk-parallel-item::before {content: \"\";position: absolute;border-left: 1px solid gray;box-sizing: border-box;top: 0;bottom: 0;left: 50%;z-index: -1;}#sk-container-id-23 div.sk-parallel-item {display: flex;flex-direction: column;z-index: 1;position: relative;background-color: white;}#sk-container-id-23 div.sk-parallel-item:first-child::after {align-self: flex-end;width: 50%;}#sk-container-id-23 div.sk-parallel-item:last-child::after {align-self: flex-start;width: 50%;}#sk-container-id-23 div.sk-parallel-item:only-child::after {width: 0;}#sk-container-id-23 div.sk-dashed-wrapped {border: 1px dashed gray;margin: 0 0.4em 0.5em 0.4em;box-sizing: border-box;padding-bottom: 0.4em;background-color: white;}#sk-container-id-23 div.sk-label label {font-family: monospace;font-weight: bold;display: inline-block;line-height: 1.2em;}#sk-container-id-23 div.sk-label-container {text-align: center;}#sk-container-id-23 div.sk-container {/* jupyter's `normalize.less` sets `[hidden] { display: none; }` but bootstrap.min.css set `[hidden] { display: none !important; }` so we also need the `!important` here to be able to override the default hidden behavior on the sphinx rendered scikit-learn.org. See: https://github.com/scikit-learn/scikit-learn/issues/21755 */display: inline-block !important;position: relative;}#sk-container-id-23 div.sk-text-repr-fallback {display: none;}</style><div id=\"sk-container-id-23\" class=\"sk-top-container\"><div class=\"sk-text-repr-fallback\"><pre>KNeighborsClassifier(n_neighbors=3)</pre><b>In a Jupyter environment, please rerun this cell to show the HTML representation or trust the notebook. <br />On GitHub, the HTML representation is unable to render, please try loading this page with nbviewer.org.</b></div><div class=\"sk-container\" hidden><div class=\"sk-item\"><div class=\"sk-estimator sk-toggleable\"><input class=\"sk-toggleable__control sk-hidden--visually\" id=\"sk-estimator-id-23\" type=\"checkbox\" checked><label for=\"sk-estimator-id-23\" class=\"sk-toggleable__label sk-toggleable__label-arrow\">KNeighborsClassifier</label><div class=\"sk-toggleable__content\"><pre>KNeighborsClassifier(n_neighbors=3)</pre></div></div></div></div></div>"
      ],
      "text/plain": [
       "KNeighborsClassifier(n_neighbors=3)"
      ]
     },
     "execution_count": 309,
     "metadata": {},
     "output_type": "execute_result"
    }
   ],
   "source": [
    "neigh = KNeighborsClassifier(n_neighbors=3)\n",
    "neigh.fit(X_train, y_train)"
   ]
  },
  {
   "cell_type": "code",
   "execution_count": 310,
   "id": "143072dc-2379-41e1-9e0b-af3b6b0e1c13",
   "metadata": {
    "tags": []
   },
   "outputs": [
    {
     "name": "stdout",
     "output_type": "stream",
     "text": [
      "---- Test ----\n",
      "Precision: 0.6985507246376812, Accuracy: 0.6985507246376812\n",
      "---- Train ----\n",
      "Precision: 0.8398550724637681, Accuracy: 0.8398550724637681\n"
     ]
    }
   ],
   "source": [
    "print('---- Test ----')\n",
    "y_pred = neigh.predict(X_test)\n",
    "print(f\"Precision: {precision_score(y_test, np.round(y_pred).astype(int), average='micro')}, Accuracy: {accuracy_score(y_test, np.round(y_pred).astype(int))}\")\n",
    "print('---- Train ----')\n",
    "y_pred = neigh.predict(X_train)\n",
    "print(f\"Precision: {precision_score(y_train, np.round(y_pred).astype(int), average='micro')}, Accuracy: {accuracy_score(y_train, np.round(y_pred).astype(int))}\")\n"
   ]
  },
  {
   "cell_type": "markdown",
   "id": "66bf075f-e00d-48b7-ae2b-d88984860228",
   "metadata": {},
   "source": [
    "### K = 5"
   ]
  },
  {
   "cell_type": "code",
   "execution_count": 311,
   "id": "ef51dabf-2fb2-4a25-b0fb-3311b07392da",
   "metadata": {
    "tags": []
   },
   "outputs": [
    {
     "data": {
      "text/html": [
       "<style>#sk-container-id-24 {color: black;background-color: white;}#sk-container-id-24 pre{padding: 0;}#sk-container-id-24 div.sk-toggleable {background-color: white;}#sk-container-id-24 label.sk-toggleable__label {cursor: pointer;display: block;width: 100%;margin-bottom: 0;padding: 0.3em;box-sizing: border-box;text-align: center;}#sk-container-id-24 label.sk-toggleable__label-arrow:before {content: \"▸\";float: left;margin-right: 0.25em;color: #696969;}#sk-container-id-24 label.sk-toggleable__label-arrow:hover:before {color: black;}#sk-container-id-24 div.sk-estimator:hover label.sk-toggleable__label-arrow:before {color: black;}#sk-container-id-24 div.sk-toggleable__content {max-height: 0;max-width: 0;overflow: hidden;text-align: left;background-color: #f0f8ff;}#sk-container-id-24 div.sk-toggleable__content pre {margin: 0.2em;color: black;border-radius: 0.25em;background-color: #f0f8ff;}#sk-container-id-24 input.sk-toggleable__control:checked~div.sk-toggleable__content {max-height: 200px;max-width: 100%;overflow: auto;}#sk-container-id-24 input.sk-toggleable__control:checked~label.sk-toggleable__label-arrow:before {content: \"▾\";}#sk-container-id-24 div.sk-estimator input.sk-toggleable__control:checked~label.sk-toggleable__label {background-color: #d4ebff;}#sk-container-id-24 div.sk-label input.sk-toggleable__control:checked~label.sk-toggleable__label {background-color: #d4ebff;}#sk-container-id-24 input.sk-hidden--visually {border: 0;clip: rect(1px 1px 1px 1px);clip: rect(1px, 1px, 1px, 1px);height: 1px;margin: -1px;overflow: hidden;padding: 0;position: absolute;width: 1px;}#sk-container-id-24 div.sk-estimator {font-family: monospace;background-color: #f0f8ff;border: 1px dotted black;border-radius: 0.25em;box-sizing: border-box;margin-bottom: 0.5em;}#sk-container-id-24 div.sk-estimator:hover {background-color: #d4ebff;}#sk-container-id-24 div.sk-parallel-item::after {content: \"\";width: 100%;border-bottom: 1px solid gray;flex-grow: 1;}#sk-container-id-24 div.sk-label:hover label.sk-toggleable__label {background-color: #d4ebff;}#sk-container-id-24 div.sk-serial::before {content: \"\";position: absolute;border-left: 1px solid gray;box-sizing: border-box;top: 0;bottom: 0;left: 50%;z-index: 0;}#sk-container-id-24 div.sk-serial {display: flex;flex-direction: column;align-items: center;background-color: white;padding-right: 0.2em;padding-left: 0.2em;position: relative;}#sk-container-id-24 div.sk-item {position: relative;z-index: 1;}#sk-container-id-24 div.sk-parallel {display: flex;align-items: stretch;justify-content: center;background-color: white;position: relative;}#sk-container-id-24 div.sk-item::before, #sk-container-id-24 div.sk-parallel-item::before {content: \"\";position: absolute;border-left: 1px solid gray;box-sizing: border-box;top: 0;bottom: 0;left: 50%;z-index: -1;}#sk-container-id-24 div.sk-parallel-item {display: flex;flex-direction: column;z-index: 1;position: relative;background-color: white;}#sk-container-id-24 div.sk-parallel-item:first-child::after {align-self: flex-end;width: 50%;}#sk-container-id-24 div.sk-parallel-item:last-child::after {align-self: flex-start;width: 50%;}#sk-container-id-24 div.sk-parallel-item:only-child::after {width: 0;}#sk-container-id-24 div.sk-dashed-wrapped {border: 1px dashed gray;margin: 0 0.4em 0.5em 0.4em;box-sizing: border-box;padding-bottom: 0.4em;background-color: white;}#sk-container-id-24 div.sk-label label {font-family: monospace;font-weight: bold;display: inline-block;line-height: 1.2em;}#sk-container-id-24 div.sk-label-container {text-align: center;}#sk-container-id-24 div.sk-container {/* jupyter's `normalize.less` sets `[hidden] { display: none; }` but bootstrap.min.css set `[hidden] { display: none !important; }` so we also need the `!important` here to be able to override the default hidden behavior on the sphinx rendered scikit-learn.org. See: https://github.com/scikit-learn/scikit-learn/issues/21755 */display: inline-block !important;position: relative;}#sk-container-id-24 div.sk-text-repr-fallback {display: none;}</style><div id=\"sk-container-id-24\" class=\"sk-top-container\"><div class=\"sk-text-repr-fallback\"><pre>KNeighborsClassifier()</pre><b>In a Jupyter environment, please rerun this cell to show the HTML representation or trust the notebook. <br />On GitHub, the HTML representation is unable to render, please try loading this page with nbviewer.org.</b></div><div class=\"sk-container\" hidden><div class=\"sk-item\"><div class=\"sk-estimator sk-toggleable\"><input class=\"sk-toggleable__control sk-hidden--visually\" id=\"sk-estimator-id-24\" type=\"checkbox\" checked><label for=\"sk-estimator-id-24\" class=\"sk-toggleable__label sk-toggleable__label-arrow\">KNeighborsClassifier</label><div class=\"sk-toggleable__content\"><pre>KNeighborsClassifier()</pre></div></div></div></div></div>"
      ],
      "text/plain": [
       "KNeighborsClassifier()"
      ]
     },
     "execution_count": 311,
     "metadata": {},
     "output_type": "execute_result"
    }
   ],
   "source": [
    "neigh = KNeighborsClassifier(n_neighbors=5)\n",
    "neigh.fit(X_train, y_train)"
   ]
  },
  {
   "cell_type": "code",
   "execution_count": 312,
   "id": "13271f72-b9ef-43a8-9067-7656931a3e68",
   "metadata": {
    "tags": []
   },
   "outputs": [
    {
     "name": "stdout",
     "output_type": "stream",
     "text": [
      "---- Test ----\n",
      "Precision: 0.7217391304347827, Accuracy: 0.7217391304347827\n",
      "---- Train ----\n",
      "Precision: 0.7923913043478261, Accuracy: 0.7923913043478261\n"
     ]
    }
   ],
   "source": [
    "print('---- Test ----')\n",
    "y_pred = neigh.predict(X_test)\n",
    "print(f\"Precision: {precision_score(y_test, np.round(y_pred).astype(int), average='micro')}, Accuracy: {accuracy_score(y_test, np.round(y_pred).astype(int))}\")\n",
    "print('---- Train ----')\n",
    "y_pred = neigh.predict(X_train)\n",
    "print(f\"Precision: {precision_score(y_train, np.round(y_pred).astype(int), average='micro')}, Accuracy: {accuracy_score(y_train, np.round(y_pred).astype(int))}\")"
   ]
  },
  {
   "cell_type": "markdown",
   "id": "a61a17dc-a8b2-4121-8e83-959999935e75",
   "metadata": {},
   "source": [
    "### K = 7"
   ]
  },
  {
   "cell_type": "code",
   "execution_count": 313,
   "id": "274497a2-fb6e-4a33-be13-cb06da4726b7",
   "metadata": {
    "tags": []
   },
   "outputs": [
    {
     "data": {
      "text/html": [
       "<style>#sk-container-id-25 {color: black;background-color: white;}#sk-container-id-25 pre{padding: 0;}#sk-container-id-25 div.sk-toggleable {background-color: white;}#sk-container-id-25 label.sk-toggleable__label {cursor: pointer;display: block;width: 100%;margin-bottom: 0;padding: 0.3em;box-sizing: border-box;text-align: center;}#sk-container-id-25 label.sk-toggleable__label-arrow:before {content: \"▸\";float: left;margin-right: 0.25em;color: #696969;}#sk-container-id-25 label.sk-toggleable__label-arrow:hover:before {color: black;}#sk-container-id-25 div.sk-estimator:hover label.sk-toggleable__label-arrow:before {color: black;}#sk-container-id-25 div.sk-toggleable__content {max-height: 0;max-width: 0;overflow: hidden;text-align: left;background-color: #f0f8ff;}#sk-container-id-25 div.sk-toggleable__content pre {margin: 0.2em;color: black;border-radius: 0.25em;background-color: #f0f8ff;}#sk-container-id-25 input.sk-toggleable__control:checked~div.sk-toggleable__content {max-height: 200px;max-width: 100%;overflow: auto;}#sk-container-id-25 input.sk-toggleable__control:checked~label.sk-toggleable__label-arrow:before {content: \"▾\";}#sk-container-id-25 div.sk-estimator input.sk-toggleable__control:checked~label.sk-toggleable__label {background-color: #d4ebff;}#sk-container-id-25 div.sk-label input.sk-toggleable__control:checked~label.sk-toggleable__label {background-color: #d4ebff;}#sk-container-id-25 input.sk-hidden--visually {border: 0;clip: rect(1px 1px 1px 1px);clip: rect(1px, 1px, 1px, 1px);height: 1px;margin: -1px;overflow: hidden;padding: 0;position: absolute;width: 1px;}#sk-container-id-25 div.sk-estimator {font-family: monospace;background-color: #f0f8ff;border: 1px dotted black;border-radius: 0.25em;box-sizing: border-box;margin-bottom: 0.5em;}#sk-container-id-25 div.sk-estimator:hover {background-color: #d4ebff;}#sk-container-id-25 div.sk-parallel-item::after {content: \"\";width: 100%;border-bottom: 1px solid gray;flex-grow: 1;}#sk-container-id-25 div.sk-label:hover label.sk-toggleable__label {background-color: #d4ebff;}#sk-container-id-25 div.sk-serial::before {content: \"\";position: absolute;border-left: 1px solid gray;box-sizing: border-box;top: 0;bottom: 0;left: 50%;z-index: 0;}#sk-container-id-25 div.sk-serial {display: flex;flex-direction: column;align-items: center;background-color: white;padding-right: 0.2em;padding-left: 0.2em;position: relative;}#sk-container-id-25 div.sk-item {position: relative;z-index: 1;}#sk-container-id-25 div.sk-parallel {display: flex;align-items: stretch;justify-content: center;background-color: white;position: relative;}#sk-container-id-25 div.sk-item::before, #sk-container-id-25 div.sk-parallel-item::before {content: \"\";position: absolute;border-left: 1px solid gray;box-sizing: border-box;top: 0;bottom: 0;left: 50%;z-index: -1;}#sk-container-id-25 div.sk-parallel-item {display: flex;flex-direction: column;z-index: 1;position: relative;background-color: white;}#sk-container-id-25 div.sk-parallel-item:first-child::after {align-self: flex-end;width: 50%;}#sk-container-id-25 div.sk-parallel-item:last-child::after {align-self: flex-start;width: 50%;}#sk-container-id-25 div.sk-parallel-item:only-child::after {width: 0;}#sk-container-id-25 div.sk-dashed-wrapped {border: 1px dashed gray;margin: 0 0.4em 0.5em 0.4em;box-sizing: border-box;padding-bottom: 0.4em;background-color: white;}#sk-container-id-25 div.sk-label label {font-family: monospace;font-weight: bold;display: inline-block;line-height: 1.2em;}#sk-container-id-25 div.sk-label-container {text-align: center;}#sk-container-id-25 div.sk-container {/* jupyter's `normalize.less` sets `[hidden] { display: none; }` but bootstrap.min.css set `[hidden] { display: none !important; }` so we also need the `!important` here to be able to override the default hidden behavior on the sphinx rendered scikit-learn.org. See: https://github.com/scikit-learn/scikit-learn/issues/21755 */display: inline-block !important;position: relative;}#sk-container-id-25 div.sk-text-repr-fallback {display: none;}</style><div id=\"sk-container-id-25\" class=\"sk-top-container\"><div class=\"sk-text-repr-fallback\"><pre>KNeighborsClassifier(n_neighbors=7)</pre><b>In a Jupyter environment, please rerun this cell to show the HTML representation or trust the notebook. <br />On GitHub, the HTML representation is unable to render, please try loading this page with nbviewer.org.</b></div><div class=\"sk-container\" hidden><div class=\"sk-item\"><div class=\"sk-estimator sk-toggleable\"><input class=\"sk-toggleable__control sk-hidden--visually\" id=\"sk-estimator-id-25\" type=\"checkbox\" checked><label for=\"sk-estimator-id-25\" class=\"sk-toggleable__label sk-toggleable__label-arrow\">KNeighborsClassifier</label><div class=\"sk-toggleable__content\"><pre>KNeighborsClassifier(n_neighbors=7)</pre></div></div></div></div></div>"
      ],
      "text/plain": [
       "KNeighborsClassifier(n_neighbors=7)"
      ]
     },
     "execution_count": 313,
     "metadata": {},
     "output_type": "execute_result"
    }
   ],
   "source": [
    "neigh = KNeighborsClassifier(n_neighbors=7)\n",
    "neigh.fit(X_train, y_train)"
   ]
  },
  {
   "cell_type": "code",
   "execution_count": 314,
   "id": "f92e20f0-5d82-4f5d-9604-6c207309009b",
   "metadata": {
    "tags": []
   },
   "outputs": [
    {
     "name": "stdout",
     "output_type": "stream",
     "text": [
      "---- Test ----\n",
      "Precision: 0.7202898550724638, Accuracy: 0.7202898550724638\n",
      "---- Train ----\n",
      "Precision: 0.7713768115942029, Accuracy: 0.7713768115942029\n"
     ]
    }
   ],
   "source": [
    "print('---- Test ----')\n",
    "y_pred = neigh.predict(X_test)\n",
    "print(f\"Precision: {precision_score(y_test, np.round(y_pred).astype(int), average='micro')}, Accuracy: {accuracy_score(y_test, np.round(y_pred).astype(int))}\")\n",
    "print('---- Train ----')\n",
    "y_pred = neigh.predict(X_train)\n",
    "print(f\"Precision: {precision_score(y_train, np.round(y_pred).astype(int), average='micro')}, Accuracy: {accuracy_score(y_train, np.round(y_pred).astype(int))}\")"
   ]
  },
  {
   "cell_type": "markdown",
   "id": "f3242ab9-6120-4083-8668-aad9ea970a05",
   "metadata": {},
   "source": [
    "## SVM"
   ]
  },
  {
   "cell_type": "markdown",
   "id": "6537908f-25dc-47fc-b4cb-459d49059a45",
   "metadata": {},
   "source": [
    "### linear"
   ]
  },
  {
   "cell_type": "code",
   "execution_count": 315,
   "id": "cf313dd2-f348-456f-8651-fb049b656307",
   "metadata": {
    "tags": []
   },
   "outputs": [
    {
     "data": {
      "text/html": [
       "<style>#sk-container-id-26 {color: black;background-color: white;}#sk-container-id-26 pre{padding: 0;}#sk-container-id-26 div.sk-toggleable {background-color: white;}#sk-container-id-26 label.sk-toggleable__label {cursor: pointer;display: block;width: 100%;margin-bottom: 0;padding: 0.3em;box-sizing: border-box;text-align: center;}#sk-container-id-26 label.sk-toggleable__label-arrow:before {content: \"▸\";float: left;margin-right: 0.25em;color: #696969;}#sk-container-id-26 label.sk-toggleable__label-arrow:hover:before {color: black;}#sk-container-id-26 div.sk-estimator:hover label.sk-toggleable__label-arrow:before {color: black;}#sk-container-id-26 div.sk-toggleable__content {max-height: 0;max-width: 0;overflow: hidden;text-align: left;background-color: #f0f8ff;}#sk-container-id-26 div.sk-toggleable__content pre {margin: 0.2em;color: black;border-radius: 0.25em;background-color: #f0f8ff;}#sk-container-id-26 input.sk-toggleable__control:checked~div.sk-toggleable__content {max-height: 200px;max-width: 100%;overflow: auto;}#sk-container-id-26 input.sk-toggleable__control:checked~label.sk-toggleable__label-arrow:before {content: \"▾\";}#sk-container-id-26 div.sk-estimator input.sk-toggleable__control:checked~label.sk-toggleable__label {background-color: #d4ebff;}#sk-container-id-26 div.sk-label input.sk-toggleable__control:checked~label.sk-toggleable__label {background-color: #d4ebff;}#sk-container-id-26 input.sk-hidden--visually {border: 0;clip: rect(1px 1px 1px 1px);clip: rect(1px, 1px, 1px, 1px);height: 1px;margin: -1px;overflow: hidden;padding: 0;position: absolute;width: 1px;}#sk-container-id-26 div.sk-estimator {font-family: monospace;background-color: #f0f8ff;border: 1px dotted black;border-radius: 0.25em;box-sizing: border-box;margin-bottom: 0.5em;}#sk-container-id-26 div.sk-estimator:hover {background-color: #d4ebff;}#sk-container-id-26 div.sk-parallel-item::after {content: \"\";width: 100%;border-bottom: 1px solid gray;flex-grow: 1;}#sk-container-id-26 div.sk-label:hover label.sk-toggleable__label {background-color: #d4ebff;}#sk-container-id-26 div.sk-serial::before {content: \"\";position: absolute;border-left: 1px solid gray;box-sizing: border-box;top: 0;bottom: 0;left: 50%;z-index: 0;}#sk-container-id-26 div.sk-serial {display: flex;flex-direction: column;align-items: center;background-color: white;padding-right: 0.2em;padding-left: 0.2em;position: relative;}#sk-container-id-26 div.sk-item {position: relative;z-index: 1;}#sk-container-id-26 div.sk-parallel {display: flex;align-items: stretch;justify-content: center;background-color: white;position: relative;}#sk-container-id-26 div.sk-item::before, #sk-container-id-26 div.sk-parallel-item::before {content: \"\";position: absolute;border-left: 1px solid gray;box-sizing: border-box;top: 0;bottom: 0;left: 50%;z-index: -1;}#sk-container-id-26 div.sk-parallel-item {display: flex;flex-direction: column;z-index: 1;position: relative;background-color: white;}#sk-container-id-26 div.sk-parallel-item:first-child::after {align-self: flex-end;width: 50%;}#sk-container-id-26 div.sk-parallel-item:last-child::after {align-self: flex-start;width: 50%;}#sk-container-id-26 div.sk-parallel-item:only-child::after {width: 0;}#sk-container-id-26 div.sk-dashed-wrapped {border: 1px dashed gray;margin: 0 0.4em 0.5em 0.4em;box-sizing: border-box;padding-bottom: 0.4em;background-color: white;}#sk-container-id-26 div.sk-label label {font-family: monospace;font-weight: bold;display: inline-block;line-height: 1.2em;}#sk-container-id-26 div.sk-label-container {text-align: center;}#sk-container-id-26 div.sk-container {/* jupyter's `normalize.less` sets `[hidden] { display: none; }` but bootstrap.min.css set `[hidden] { display: none !important; }` so we also need the `!important` here to be able to override the default hidden behavior on the sphinx rendered scikit-learn.org. See: https://github.com/scikit-learn/scikit-learn/issues/21755 */display: inline-block !important;position: relative;}#sk-container-id-26 div.sk-text-repr-fallback {display: none;}</style><div id=\"sk-container-id-26\" class=\"sk-top-container\"><div class=\"sk-text-repr-fallback\"><pre>SVC(kernel=&#x27;linear&#x27;)</pre><b>In a Jupyter environment, please rerun this cell to show the HTML representation or trust the notebook. <br />On GitHub, the HTML representation is unable to render, please try loading this page with nbviewer.org.</b></div><div class=\"sk-container\" hidden><div class=\"sk-item\"><div class=\"sk-estimator sk-toggleable\"><input class=\"sk-toggleable__control sk-hidden--visually\" id=\"sk-estimator-id-26\" type=\"checkbox\" checked><label for=\"sk-estimator-id-26\" class=\"sk-toggleable__label sk-toggleable__label-arrow\">SVC</label><div class=\"sk-toggleable__content\"><pre>SVC(kernel=&#x27;linear&#x27;)</pre></div></div></div></div></div>"
      ],
      "text/plain": [
       "SVC(kernel='linear')"
      ]
     },
     "execution_count": 315,
     "metadata": {},
     "output_type": "execute_result"
    }
   ],
   "source": [
    "clf = SVC(kernel='linear')\n",
    "clf.fit(X_train, y_train)"
   ]
  },
  {
   "cell_type": "code",
   "execution_count": 316,
   "id": "2d1ebbb8-11f7-40f5-8214-6c3f332e791d",
   "metadata": {
    "tags": []
   },
   "outputs": [
    {
     "name": "stdout",
     "output_type": "stream",
     "text": [
      "---- Test ----\n",
      "Precision: 0.7202898550724638, Accuracy: 0.7202898550724638\n",
      "---- Train ----\n",
      "Precision: 0.7713768115942029, Accuracy: 0.7713768115942029\n"
     ]
    }
   ],
   "source": [
    "print('---- Test ----')\n",
    "y_pred = neigh.predict(X_test)\n",
    "print(f\"Precision: {precision_score(y_test, np.round(y_pred).astype(int), average='micro')}, Accuracy: {accuracy_score(y_test, np.round(y_pred).astype(int))}\")\n",
    "print('---- Train ----')\n",
    "y_pred = neigh.predict(X_train)\n",
    "print(f\"Precision: {precision_score(y_train, np.round(y_pred).astype(int), average='micro')}, Accuracy: {accuracy_score(y_train, np.round(y_pred).astype(int))}\")"
   ]
  },
  {
   "cell_type": "markdown",
   "id": "2b45d5a4-915a-4e4c-b8b9-db8153f0e922",
   "metadata": {},
   "source": [
    "### non linear"
   ]
  },
  {
   "cell_type": "code",
   "execution_count": 317,
   "id": "7c15401e-fec3-4adc-aefb-76ec2a75aee9",
   "metadata": {
    "tags": []
   },
   "outputs": [
    {
     "data": {
      "text/html": [
       "<style>#sk-container-id-27 {color: black;background-color: white;}#sk-container-id-27 pre{padding: 0;}#sk-container-id-27 div.sk-toggleable {background-color: white;}#sk-container-id-27 label.sk-toggleable__label {cursor: pointer;display: block;width: 100%;margin-bottom: 0;padding: 0.3em;box-sizing: border-box;text-align: center;}#sk-container-id-27 label.sk-toggleable__label-arrow:before {content: \"▸\";float: left;margin-right: 0.25em;color: #696969;}#sk-container-id-27 label.sk-toggleable__label-arrow:hover:before {color: black;}#sk-container-id-27 div.sk-estimator:hover label.sk-toggleable__label-arrow:before {color: black;}#sk-container-id-27 div.sk-toggleable__content {max-height: 0;max-width: 0;overflow: hidden;text-align: left;background-color: #f0f8ff;}#sk-container-id-27 div.sk-toggleable__content pre {margin: 0.2em;color: black;border-radius: 0.25em;background-color: #f0f8ff;}#sk-container-id-27 input.sk-toggleable__control:checked~div.sk-toggleable__content {max-height: 200px;max-width: 100%;overflow: auto;}#sk-container-id-27 input.sk-toggleable__control:checked~label.sk-toggleable__label-arrow:before {content: \"▾\";}#sk-container-id-27 div.sk-estimator input.sk-toggleable__control:checked~label.sk-toggleable__label {background-color: #d4ebff;}#sk-container-id-27 div.sk-label input.sk-toggleable__control:checked~label.sk-toggleable__label {background-color: #d4ebff;}#sk-container-id-27 input.sk-hidden--visually {border: 0;clip: rect(1px 1px 1px 1px);clip: rect(1px, 1px, 1px, 1px);height: 1px;margin: -1px;overflow: hidden;padding: 0;position: absolute;width: 1px;}#sk-container-id-27 div.sk-estimator {font-family: monospace;background-color: #f0f8ff;border: 1px dotted black;border-radius: 0.25em;box-sizing: border-box;margin-bottom: 0.5em;}#sk-container-id-27 div.sk-estimator:hover {background-color: #d4ebff;}#sk-container-id-27 div.sk-parallel-item::after {content: \"\";width: 100%;border-bottom: 1px solid gray;flex-grow: 1;}#sk-container-id-27 div.sk-label:hover label.sk-toggleable__label {background-color: #d4ebff;}#sk-container-id-27 div.sk-serial::before {content: \"\";position: absolute;border-left: 1px solid gray;box-sizing: border-box;top: 0;bottom: 0;left: 50%;z-index: 0;}#sk-container-id-27 div.sk-serial {display: flex;flex-direction: column;align-items: center;background-color: white;padding-right: 0.2em;padding-left: 0.2em;position: relative;}#sk-container-id-27 div.sk-item {position: relative;z-index: 1;}#sk-container-id-27 div.sk-parallel {display: flex;align-items: stretch;justify-content: center;background-color: white;position: relative;}#sk-container-id-27 div.sk-item::before, #sk-container-id-27 div.sk-parallel-item::before {content: \"\";position: absolute;border-left: 1px solid gray;box-sizing: border-box;top: 0;bottom: 0;left: 50%;z-index: -1;}#sk-container-id-27 div.sk-parallel-item {display: flex;flex-direction: column;z-index: 1;position: relative;background-color: white;}#sk-container-id-27 div.sk-parallel-item:first-child::after {align-self: flex-end;width: 50%;}#sk-container-id-27 div.sk-parallel-item:last-child::after {align-self: flex-start;width: 50%;}#sk-container-id-27 div.sk-parallel-item:only-child::after {width: 0;}#sk-container-id-27 div.sk-dashed-wrapped {border: 1px dashed gray;margin: 0 0.4em 0.5em 0.4em;box-sizing: border-box;padding-bottom: 0.4em;background-color: white;}#sk-container-id-27 div.sk-label label {font-family: monospace;font-weight: bold;display: inline-block;line-height: 1.2em;}#sk-container-id-27 div.sk-label-container {text-align: center;}#sk-container-id-27 div.sk-container {/* jupyter's `normalize.less` sets `[hidden] { display: none; }` but bootstrap.min.css set `[hidden] { display: none !important; }` so we also need the `!important` here to be able to override the default hidden behavior on the sphinx rendered scikit-learn.org. See: https://github.com/scikit-learn/scikit-learn/issues/21755 */display: inline-block !important;position: relative;}#sk-container-id-27 div.sk-text-repr-fallback {display: none;}</style><div id=\"sk-container-id-27\" class=\"sk-top-container\"><div class=\"sk-text-repr-fallback\"><pre>SVC()</pre><b>In a Jupyter environment, please rerun this cell to show the HTML representation or trust the notebook. <br />On GitHub, the HTML representation is unable to render, please try loading this page with nbviewer.org.</b></div><div class=\"sk-container\" hidden><div class=\"sk-item\"><div class=\"sk-estimator sk-toggleable\"><input class=\"sk-toggleable__control sk-hidden--visually\" id=\"sk-estimator-id-27\" type=\"checkbox\" checked><label for=\"sk-estimator-id-27\" class=\"sk-toggleable__label sk-toggleable__label-arrow\">SVC</label><div class=\"sk-toggleable__content\"><pre>SVC()</pre></div></div></div></div></div>"
      ],
      "text/plain": [
       "SVC()"
      ]
     },
     "execution_count": 317,
     "metadata": {},
     "output_type": "execute_result"
    }
   ],
   "source": [
    "clf = SVC(kernel='rbf')\n",
    "clf.fit(X_train, y_train)"
   ]
  },
  {
   "cell_type": "code",
   "execution_count": 318,
   "id": "8b46f899-3131-45de-bc75-9f2055151955",
   "metadata": {
    "tags": []
   },
   "outputs": [
    {
     "name": "stdout",
     "output_type": "stream",
     "text": [
      "---- Test ----\n",
      "Precision: 0.7202898550724638, Accuracy: 0.7202898550724638\n",
      "---- Train ----\n",
      "Precision: 0.7713768115942029, Accuracy: 0.7713768115942029\n"
     ]
    }
   ],
   "source": [
    "print('---- Test ----')\n",
    "y_pred = neigh.predict(X_test)\n",
    "print(f\"Precision: {precision_score(y_test, np.round(y_pred).astype(int), average='micro')}, Accuracy: {accuracy_score(y_test, np.round(y_pred).astype(int))}\")\n",
    "print('---- Train ----')\n",
    "y_pred = neigh.predict(X_train)\n",
    "print(f\"Precision: {precision_score(y_train, np.round(y_pred).astype(int), average='micro')}, Accuracy: {accuracy_score(y_train, np.round(y_pred).astype(int))}\")"
   ]
  },
  {
   "cell_type": "code",
   "execution_count": 319,
   "id": "d1c89057-08dc-42e2-9ad7-8ab24c624423",
   "metadata": {
    "tags": []
   },
   "outputs": [
    {
     "data": {
      "text/html": [
       "<style>#sk-container-id-28 {color: black;background-color: white;}#sk-container-id-28 pre{padding: 0;}#sk-container-id-28 div.sk-toggleable {background-color: white;}#sk-container-id-28 label.sk-toggleable__label {cursor: pointer;display: block;width: 100%;margin-bottom: 0;padding: 0.3em;box-sizing: border-box;text-align: center;}#sk-container-id-28 label.sk-toggleable__label-arrow:before {content: \"▸\";float: left;margin-right: 0.25em;color: #696969;}#sk-container-id-28 label.sk-toggleable__label-arrow:hover:before {color: black;}#sk-container-id-28 div.sk-estimator:hover label.sk-toggleable__label-arrow:before {color: black;}#sk-container-id-28 div.sk-toggleable__content {max-height: 0;max-width: 0;overflow: hidden;text-align: left;background-color: #f0f8ff;}#sk-container-id-28 div.sk-toggleable__content pre {margin: 0.2em;color: black;border-radius: 0.25em;background-color: #f0f8ff;}#sk-container-id-28 input.sk-toggleable__control:checked~div.sk-toggleable__content {max-height: 200px;max-width: 100%;overflow: auto;}#sk-container-id-28 input.sk-toggleable__control:checked~label.sk-toggleable__label-arrow:before {content: \"▾\";}#sk-container-id-28 div.sk-estimator input.sk-toggleable__control:checked~label.sk-toggleable__label {background-color: #d4ebff;}#sk-container-id-28 div.sk-label input.sk-toggleable__control:checked~label.sk-toggleable__label {background-color: #d4ebff;}#sk-container-id-28 input.sk-hidden--visually {border: 0;clip: rect(1px 1px 1px 1px);clip: rect(1px, 1px, 1px, 1px);height: 1px;margin: -1px;overflow: hidden;padding: 0;position: absolute;width: 1px;}#sk-container-id-28 div.sk-estimator {font-family: monospace;background-color: #f0f8ff;border: 1px dotted black;border-radius: 0.25em;box-sizing: border-box;margin-bottom: 0.5em;}#sk-container-id-28 div.sk-estimator:hover {background-color: #d4ebff;}#sk-container-id-28 div.sk-parallel-item::after {content: \"\";width: 100%;border-bottom: 1px solid gray;flex-grow: 1;}#sk-container-id-28 div.sk-label:hover label.sk-toggleable__label {background-color: #d4ebff;}#sk-container-id-28 div.sk-serial::before {content: \"\";position: absolute;border-left: 1px solid gray;box-sizing: border-box;top: 0;bottom: 0;left: 50%;z-index: 0;}#sk-container-id-28 div.sk-serial {display: flex;flex-direction: column;align-items: center;background-color: white;padding-right: 0.2em;padding-left: 0.2em;position: relative;}#sk-container-id-28 div.sk-item {position: relative;z-index: 1;}#sk-container-id-28 div.sk-parallel {display: flex;align-items: stretch;justify-content: center;background-color: white;position: relative;}#sk-container-id-28 div.sk-item::before, #sk-container-id-28 div.sk-parallel-item::before {content: \"\";position: absolute;border-left: 1px solid gray;box-sizing: border-box;top: 0;bottom: 0;left: 50%;z-index: -1;}#sk-container-id-28 div.sk-parallel-item {display: flex;flex-direction: column;z-index: 1;position: relative;background-color: white;}#sk-container-id-28 div.sk-parallel-item:first-child::after {align-self: flex-end;width: 50%;}#sk-container-id-28 div.sk-parallel-item:last-child::after {align-self: flex-start;width: 50%;}#sk-container-id-28 div.sk-parallel-item:only-child::after {width: 0;}#sk-container-id-28 div.sk-dashed-wrapped {border: 1px dashed gray;margin: 0 0.4em 0.5em 0.4em;box-sizing: border-box;padding-bottom: 0.4em;background-color: white;}#sk-container-id-28 div.sk-label label {font-family: monospace;font-weight: bold;display: inline-block;line-height: 1.2em;}#sk-container-id-28 div.sk-label-container {text-align: center;}#sk-container-id-28 div.sk-container {/* jupyter's `normalize.less` sets `[hidden] { display: none; }` but bootstrap.min.css set `[hidden] { display: none !important; }` so we also need the `!important` here to be able to override the default hidden behavior on the sphinx rendered scikit-learn.org. See: https://github.com/scikit-learn/scikit-learn/issues/21755 */display: inline-block !important;position: relative;}#sk-container-id-28 div.sk-text-repr-fallback {display: none;}</style><div id=\"sk-container-id-28\" class=\"sk-top-container\"><div class=\"sk-text-repr-fallback\"><pre>SVC(kernel=&#x27;poly&#x27;)</pre><b>In a Jupyter environment, please rerun this cell to show the HTML representation or trust the notebook. <br />On GitHub, the HTML representation is unable to render, please try loading this page with nbviewer.org.</b></div><div class=\"sk-container\" hidden><div class=\"sk-item\"><div class=\"sk-estimator sk-toggleable\"><input class=\"sk-toggleable__control sk-hidden--visually\" id=\"sk-estimator-id-28\" type=\"checkbox\" checked><label for=\"sk-estimator-id-28\" class=\"sk-toggleable__label sk-toggleable__label-arrow\">SVC</label><div class=\"sk-toggleable__content\"><pre>SVC(kernel=&#x27;poly&#x27;)</pre></div></div></div></div></div>"
      ],
      "text/plain": [
       "SVC(kernel='poly')"
      ]
     },
     "execution_count": 319,
     "metadata": {},
     "output_type": "execute_result"
    }
   ],
   "source": [
    "clf = SVC(kernel='poly')\n",
    "clf.fit(X_train, y_train)"
   ]
  },
  {
   "cell_type": "code",
   "execution_count": 320,
   "id": "0db3a3e8-5db4-40ba-91b0-690bf89c8270",
   "metadata": {
    "tags": []
   },
   "outputs": [
    {
     "name": "stdout",
     "output_type": "stream",
     "text": [
      "---- Test ----\n",
      "Precision: 0.7202898550724638, Accuracy: 0.7202898550724638\n",
      "---- Train ----\n",
      "Precision: 0.7713768115942029, Accuracy: 0.7713768115942029\n"
     ]
    }
   ],
   "source": [
    "print('---- Test ----')\n",
    "y_pred = neigh.predict(X_test)\n",
    "print(f\"Precision: {precision_score(y_test, np.round(y_pred).astype(int), average='micro')}, Accuracy: {accuracy_score(y_test, np.round(y_pred).astype(int))}\")\n",
    "print('---- Train ----')\n",
    "y_pred = neigh.predict(X_train)\n",
    "print(f\"Precision: {precision_score(y_train, np.round(y_pred).astype(int), average='micro')}, Accuracy: {accuracy_score(y_train, np.round(y_pred).astype(int))}\")"
   ]
  },
  {
   "cell_type": "markdown",
   "id": "edd2b88e-8ca3-4154-8652-378e57c15fa7",
   "metadata": {},
   "source": [
    "# Deep Learning"
   ]
  },
  {
   "cell_type": "code",
   "execution_count": 321,
   "id": "1ab3516c-c2fa-4529-8d25-99dbaf27fc51",
   "metadata": {
    "tags": []
   },
   "outputs": [
    {
     "data": {
      "text/html": [
       "<div>\n",
       "<style scoped>\n",
       "    .dataframe tbody tr th:only-of-type {\n",
       "        vertical-align: middle;\n",
       "    }\n",
       "\n",
       "    .dataframe tbody tr th {\n",
       "        vertical-align: top;\n",
       "    }\n",
       "\n",
       "    .dataframe thead th {\n",
       "        text-align: right;\n",
       "    }\n",
       "</style>\n",
       "<table border=\"1\" class=\"dataframe\">\n",
       "  <thead>\n",
       "    <tr style=\"text-align: right;\">\n",
       "      <th></th>\n",
       "      <th>Area</th>\n",
       "      <th>Room</th>\n",
       "      <th>Parking</th>\n",
       "      <th>Warehouse</th>\n",
       "      <th>Elevator</th>\n",
       "      <th>Address</th>\n",
       "      <th>priceLevel</th>\n",
       "    </tr>\n",
       "  </thead>\n",
       "  <tbody>\n",
       "    <tr>\n",
       "      <th>0</th>\n",
       "      <td>-0.631533</td>\n",
       "      <td>-1.422380</td>\n",
       "      <td>0.424135</td>\n",
       "      <td>0.304647</td>\n",
       "      <td>0.519406</td>\n",
       "      <td>1.013652</td>\n",
       "      <td>2</td>\n",
       "    </tr>\n",
       "    <tr>\n",
       "      <th>1</th>\n",
       "      <td>-0.674673</td>\n",
       "      <td>-1.422380</td>\n",
       "      <td>0.424135</td>\n",
       "      <td>0.304647</td>\n",
       "      <td>0.519406</td>\n",
       "      <td>1.013652</td>\n",
       "      <td>2</td>\n",
       "    </tr>\n",
       "    <tr>\n",
       "      <th>2</th>\n",
       "      <td>-0.401453</td>\n",
       "      <td>-0.106774</td>\n",
       "      <td>0.424135</td>\n",
       "      <td>0.304647</td>\n",
       "      <td>0.519406</td>\n",
       "      <td>0.238524</td>\n",
       "      <td>0</td>\n",
       "    </tr>\n",
       "    <tr>\n",
       "      <th>3</th>\n",
       "      <td>-0.171372</td>\n",
       "      <td>-0.106774</td>\n",
       "      <td>0.424135</td>\n",
       "      <td>0.304647</td>\n",
       "      <td>0.519406</td>\n",
       "      <td>0.934151</td>\n",
       "      <td>0</td>\n",
       "    </tr>\n",
       "    <tr>\n",
       "      <th>4</th>\n",
       "      <td>0.231268</td>\n",
       "      <td>-0.106774</td>\n",
       "      <td>0.424135</td>\n",
       "      <td>0.304647</td>\n",
       "      <td>0.519406</td>\n",
       "      <td>0.894401</td>\n",
       "      <td>1</td>\n",
       "    </tr>\n",
       "    <tr>\n",
       "      <th>...</th>\n",
       "      <td>...</td>\n",
       "      <td>...</td>\n",
       "      <td>...</td>\n",
       "      <td>...</td>\n",
       "      <td>...</td>\n",
       "      <td>...</td>\n",
       "      <td>...</td>\n",
       "    </tr>\n",
       "    <tr>\n",
       "      <th>3445</th>\n",
       "      <td>-0.300793</td>\n",
       "      <td>-0.106774</td>\n",
       "      <td>0.424135</td>\n",
       "      <td>0.304647</td>\n",
       "      <td>0.519406</td>\n",
       "      <td>1.152777</td>\n",
       "      <td>3</td>\n",
       "    </tr>\n",
       "    <tr>\n",
       "      <th>3446</th>\n",
       "      <td>-0.343933</td>\n",
       "      <td>-0.106774</td>\n",
       "      <td>0.424135</td>\n",
       "      <td>0.304647</td>\n",
       "      <td>0.519406</td>\n",
       "      <td>0.000023</td>\n",
       "      <td>1</td>\n",
       "    </tr>\n",
       "    <tr>\n",
       "      <th>3447</th>\n",
       "      <td>-0.458973</td>\n",
       "      <td>-0.106774</td>\n",
       "      <td>-2.357739</td>\n",
       "      <td>-3.282491</td>\n",
       "      <td>-1.925275</td>\n",
       "      <td>0.198774</td>\n",
       "      <td>0</td>\n",
       "    </tr>\n",
       "    <tr>\n",
       "      <th>3448</th>\n",
       "      <td>-0.027572</td>\n",
       "      <td>-0.106774</td>\n",
       "      <td>0.424135</td>\n",
       "      <td>0.304647</td>\n",
       "      <td>0.519406</td>\n",
       "      <td>-1.311732</td>\n",
       "      <td>3</td>\n",
       "    </tr>\n",
       "    <tr>\n",
       "      <th>3449</th>\n",
       "      <td>-0.358313</td>\n",
       "      <td>-0.106774</td>\n",
       "      <td>-2.357739</td>\n",
       "      <td>0.304647</td>\n",
       "      <td>0.519406</td>\n",
       "      <td>0.198774</td>\n",
       "      <td>0</td>\n",
       "    </tr>\n",
       "  </tbody>\n",
       "</table>\n",
       "<p>3450 rows × 7 columns</p>\n",
       "</div>"
      ],
      "text/plain": [
       "          Area      Room   Parking  Warehouse  Elevator   Address  priceLevel\n",
       "0    -0.631533 -1.422380  0.424135   0.304647  0.519406  1.013652           2\n",
       "1    -0.674673 -1.422380  0.424135   0.304647  0.519406  1.013652           2\n",
       "2    -0.401453 -0.106774  0.424135   0.304647  0.519406  0.238524           0\n",
       "3    -0.171372 -0.106774  0.424135   0.304647  0.519406  0.934151           0\n",
       "4     0.231268 -0.106774  0.424135   0.304647  0.519406  0.894401           1\n",
       "...        ...       ...       ...        ...       ...       ...         ...\n",
       "3445 -0.300793 -0.106774  0.424135   0.304647  0.519406  1.152777           3\n",
       "3446 -0.343933 -0.106774  0.424135   0.304647  0.519406  0.000023           1\n",
       "3447 -0.458973 -0.106774 -2.357739  -3.282491 -1.925275  0.198774           0\n",
       "3448 -0.027572 -0.106774  0.424135   0.304647  0.519406 -1.311732           3\n",
       "3449 -0.358313 -0.106774 -2.357739   0.304647  0.519406  0.198774           0\n",
       "\n",
       "[3450 rows x 7 columns]"
      ]
     },
     "execution_count": 321,
     "metadata": {},
     "output_type": "execute_result"
    }
   ],
   "source": [
    "df_clas"
   ]
  },
  {
   "cell_type": "code",
   "execution_count": 343,
   "id": "d4eaaad7-b060-4a79-b12f-e5d8988bc51f",
   "metadata": {
    "tags": []
   },
   "outputs": [],
   "source": [
    "df_clas = df.loc[:, df.columns != 'Price']"
   ]
  },
  {
   "cell_type": "code",
   "execution_count": 344,
   "id": "8e377624-4d95-4260-965a-1b2e1ab402e7",
   "metadata": {
    "tags": []
   },
   "outputs": [],
   "source": [
    "X_train, X_test, y_train, y_test = train_test_split(df_clas.loc[:, df_clas.columns != 'priceLevel'], df_clas['priceLevel'], test_size=0.2, random_state=42)"
   ]
  },
  {
   "cell_type": "code",
   "execution_count": 345,
   "id": "5c2acd8a-b6d8-4743-af65-b1f7d596815e",
   "metadata": {
    "tags": []
   },
   "outputs": [],
   "source": [
    "y_train = keras.utils.to_categorical(y_train)\n",
    "y_test = keras.utils.to_categorical(y_test)"
   ]
  },
  {
   "cell_type": "markdown",
   "id": "8efef023-c788-4991-8c61-a12645fc968c",
   "metadata": {},
   "source": [
    "## Try different hyperparameters and analysis results:"
   ]
  },
  {
   "cell_type": "markdown",
   "id": "9107da1f-dcb7-4288-baa7-4c19c0b5d905",
   "metadata": {
    "tags": []
   },
   "source": [
    "#### layers = 16, 128, 4"
   ]
  },
  {
   "cell_type": "code",
   "execution_count": 333,
   "id": "07f9a9c9-d7d4-4cb1-a74a-87a66985ca6f",
   "metadata": {
    "tags": []
   },
   "outputs": [
    {
     "name": "stdout",
     "output_type": "stream",
     "text": [
      "Epoch 1/10\n",
      "87/87 [==============================] - 1s 1ms/step - loss: 1.1417 - accuracy: 0.5254 - precision: 0.7558\n",
      "Epoch 2/10\n",
      "87/87 [==============================] - 0s 967us/step - loss: 0.9940 - accuracy: 0.5822 - precision: 0.7234\n",
      "Epoch 3/10\n",
      "87/87 [==============================] - 0s 886us/step - loss: 0.9578 - accuracy: 0.5909 - precision: 0.7192\n",
      "Epoch 4/10\n",
      "87/87 [==============================] - 0s 951us/step - loss: 0.9281 - accuracy: 0.6058 - precision: 0.7273\n",
      "Epoch 5/10\n",
      "87/87 [==============================] - 0s 942us/step - loss: 0.9103 - accuracy: 0.6214 - precision: 0.7222\n",
      "Epoch 6/10\n",
      "87/87 [==============================] - 0s 931us/step - loss: 0.8952 - accuracy: 0.6236 - precision: 0.7385\n",
      "Epoch 7/10\n",
      "87/87 [==============================] - 0s 770us/step - loss: 0.8825 - accuracy: 0.6304 - precision: 0.7382\n",
      "Epoch 8/10\n",
      "87/87 [==============================] - 0s 832us/step - loss: 0.8746 - accuracy: 0.6373 - precision: 0.7402\n",
      "Epoch 9/10\n",
      "87/87 [==============================] - 0s 829us/step - loss: 0.8690 - accuracy: 0.6315 - precision: 0.7311\n",
      "Epoch 10/10\n",
      "87/87 [==============================] - 0s 836us/step - loss: 0.8647 - accuracy: 0.6344 - precision: 0.7376\n",
      "---- Test ----\n",
      "22/22 [==============================] - 0s 1ms/step - loss: 0.8804 - accuracy: 0.6406 - precision: 0.7305\n",
      "Test Loss: 0.8804266452789307\n",
      "Test Precision: 0.730526328086853\n",
      "Test Accuracy: 0.6405797004699707\n",
      "---- Train ----\n",
      "87/87 [==============================] - 0s 871us/step - loss: 0.8526 - accuracy: 0.6471 - precision: 0.7395\n",
      "Train Loss: 0.8526380658149719\n",
      "Train Precision: 0.7395225167274475\n",
      "Train Accuracy: 0.6471014618873596\n"
     ]
    }
   ],
   "source": [
    "# Create the MLP model\n",
    "model = keras.Sequential([\n",
    "    keras.layers.Dense(16, activation='relu', input_shape=(6,)),\n",
    "    keras.layers.Dense(128, activation='relu'),\n",
    "    keras.layers.Dense(4, activation='softmax')\n",
    "])\n",
    "\n",
    "# Compile the model\n",
    "model.compile(optimizer='adam',\n",
    "              loss='categorical_crossentropy',\n",
    "              metrics=['accuracy', 'Precision'])\n",
    "\n",
    "# Train the model\n",
    "model.fit(X_train, y_train, epochs=10, batch_size=32, verbose=1)\n",
    "\n",
    "# Evaluate the model\n",
    "print(\"---- Test ----\")\n",
    "test_loss, test_accuracy, test_precision = model.evaluate(X_test, y_test)\n",
    "print('Test Loss:', test_loss)\n",
    "print('Test Precision:', test_precision)\n",
    "print('Test Accuracy:', test_accuracy)\n",
    "\n",
    "print(\"---- Train ----\")\n",
    "train_loss, train_accuracy, train_precision = model.evaluate(X_train, y_train)\n",
    "print('Train Loss:', train_loss)\n",
    "print('Train Precision:', train_precision)\n",
    "print('Train Accuracy:', train_accuracy)\n"
   ]
  },
  {
   "cell_type": "markdown",
   "id": "bef4aee9-1f7d-43b6-8fee-dd2ebe732880",
   "metadata": {
    "tags": []
   },
   "source": [
    "#### layers = 16, 128, 256, 4\n",
    "#### more complicated ==> Precision increase"
   ]
  },
  {
   "cell_type": "code",
   "execution_count": 334,
   "id": "7eff7838-4a37-485a-b0dd-6f32d9d83f7e",
   "metadata": {
    "tags": []
   },
   "outputs": [
    {
     "name": "stdout",
     "output_type": "stream",
     "text": [
      "Epoch 1/10\n",
      "87/87 [==============================] - 1s 1ms/step - loss: 1.0597 - Accuracy: 0.5565 - precision: 0.7403\n",
      "Epoch 2/10\n",
      "87/87 [==============================] - 0s 1ms/step - loss: 0.9465 - Accuracy: 0.5931 - precision: 0.7275\n",
      "Epoch 3/10\n",
      "87/87 [==============================] - 0s 1ms/step - loss: 0.9142 - Accuracy: 0.6145 - precision: 0.7244\n",
      "Epoch 4/10\n",
      "87/87 [==============================] - 0s 1ms/step - loss: 0.8895 - Accuracy: 0.6228 - precision: 0.7165\n",
      "Epoch 5/10\n",
      "87/87 [==============================] - 0s 1ms/step - loss: 0.8678 - Accuracy: 0.6446 - precision: 0.7348\n",
      "Epoch 6/10\n",
      "87/87 [==============================] - 0s 994us/step - loss: 0.8654 - Accuracy: 0.6464 - precision: 0.7267\n",
      "Epoch 7/10\n",
      "87/87 [==============================] - 0s 1ms/step - loss: 0.8528 - Accuracy: 0.6500 - precision: 0.7370\n",
      "Epoch 8/10\n",
      "87/87 [==============================] - 0s 986us/step - loss: 0.8485 - Accuracy: 0.6620 - precision: 0.7249\n",
      "Epoch 9/10\n",
      "87/87 [==============================] - 0s 994us/step - loss: 0.8368 - Accuracy: 0.6598 - precision: 0.7301\n",
      "Epoch 10/10\n",
      "87/87 [==============================] - 0s 1ms/step - loss: 0.8365 - Accuracy: 0.6500 - precision: 0.7261\n",
      "---- Test ----\n",
      "22/22 [==============================] - 0s 1ms/step - loss: 0.8912 - Accuracy: 0.6362 - precision: 0.7232\n",
      "Test Loss: 0.8912197947502136\n",
      "Test Precision: 0.7231638431549072\n",
      "Test Accuracy: 0.6362318992614746\n",
      "---- Train ----\n",
      "87/87 [==============================] - 0s 960us/step - loss: 0.8458 - Accuracy: 0.6406 - precision: 0.7206\n",
      "Train Loss: 0.8458282947540283\n",
      "Train Precision: 0.7206240892410278\n",
      "Train Accuracy: 0.6405797004699707\n"
     ]
    }
   ],
   "source": [
    "# Create the MLP model\n",
    "model = keras.Sequential([\n",
    "    keras.layers.Dense(16, activation='relu', input_shape=(6,)),\n",
    "    keras.layers.Dense(128, activation='relu'),\n",
    "    keras.layers.Dense(256, activation='relu'),\n",
    "    keras.layers.Dense(4, activation='softmax')\n",
    "])\n",
    "\n",
    "# Compile the model\n",
    "model.compile(optimizer='adam',\n",
    "              loss='categorical_crossentropy',\n",
    "              metrics=['Accuracy', 'Precision'])\n",
    "\n",
    "# Train the model\n",
    "model.fit(X_train, y_train, epochs=10, batch_size=32, verbose=1)\n",
    "\n",
    "# Evaluate the model\n",
    "print(\"---- Test ----\")\n",
    "test_loss, test_accuracy, test_precision = model.evaluate(X_test, y_test)\n",
    "print('Test Loss:', test_loss)\n",
    "print('Test Precision:', test_precision)\n",
    "print('Test Accuracy:', test_accuracy)\n",
    "\n",
    "print(\"---- Train ----\")\n",
    "train_loss, train_accuracy, train_precision = model.evaluate(X_train, y_train)\n",
    "print('Train Loss:', train_loss)\n",
    "print('Train Precision:', train_precision)\n",
    "print('Train Accuracy:', train_accuracy)"
   ]
  },
  {
   "cell_type": "markdown",
   "id": "b09ee9b3-8a6a-4b96-858f-4aa9a7c8b5c4",
   "metadata": {},
   "source": [
    "#### layers = 16, 64, 128, 4\n",
    "#### reduce bias ==> increase precision"
   ]
  },
  {
   "cell_type": "code",
   "execution_count": 335,
   "id": "0cc5d7fd-b1a8-44ec-9c83-5673d9d54de0",
   "metadata": {
    "tags": []
   },
   "outputs": [
    {
     "name": "stdout",
     "output_type": "stream",
     "text": [
      "Epoch 1/10\n",
      "87/87 [==============================] - 1s 1ms/step - loss: 1.1160 - Accuracy: 0.5380 - precision: 0.7721\n",
      "Epoch 2/10\n",
      "87/87 [==============================] - 0s 1ms/step - loss: 0.9720 - Accuracy: 0.5888 - precision: 0.7342\n",
      "Epoch 3/10\n",
      "87/87 [==============================] - 0s 1ms/step - loss: 0.9285 - Accuracy: 0.6152 - precision: 0.7239\n",
      "Epoch 4/10\n",
      "87/87 [==============================] - 0s 1ms/step - loss: 0.8966 - Accuracy: 0.6388 - precision: 0.7324\n",
      "Epoch 5/10\n",
      "87/87 [==============================] - 0s 1ms/step - loss: 0.8837 - Accuracy: 0.6384 - precision: 0.7280\n",
      "Epoch 6/10\n",
      "87/87 [==============================] - 0s 1ms/step - loss: 0.8666 - Accuracy: 0.6500 - precision: 0.7324\n",
      "Epoch 7/10\n",
      "87/87 [==============================] - 0s 1ms/step - loss: 0.8565 - Accuracy: 0.6518 - precision: 0.7335\n",
      "Epoch 8/10\n",
      "87/87 [==============================] - 0s 1ms/step - loss: 0.8503 - Accuracy: 0.6496 - precision: 0.7303\n",
      "Epoch 9/10\n",
      "87/87 [==============================] - 0s 1ms/step - loss: 0.8477 - Accuracy: 0.6551 - precision: 0.7240\n",
      "Epoch 10/10\n",
      "87/87 [==============================] - 0s 1ms/step - loss: 0.8376 - Accuracy: 0.6565 - precision: 0.7376\n",
      "---- Test ----\n",
      "22/22 [==============================] - 0s 1ms/step - loss: 0.8546 - Accuracy: 0.6580 - precision: 0.7431\n",
      "Test Loss: 0.854586660861969\n",
      "Test Precision: 0.7431372404098511\n",
      "Test Accuracy: 0.6579710245132446\n",
      "---- Train ----\n",
      "87/87 [==============================] - 0s 958us/step - loss: 0.8228 - Accuracy: 0.6630 - precision: 0.7371\n",
      "Train Loss: 0.8228412866592407\n",
      "Train Precision: 0.7370538115501404\n",
      "Train Accuracy: 0.6630434989929199\n"
     ]
    }
   ],
   "source": [
    "# Create the MLP model\n",
    "model = keras.Sequential([\n",
    "    keras.layers.Dense(16, activation='relu', input_shape=(6,)),\n",
    "    keras.layers.Dense(64, activation='relu'),\n",
    "    keras.layers.Dense(128, activation='relu'),\n",
    "    keras.layers.Dense(4, activation='softmax')\n",
    "])\n",
    "\n",
    "# Compile the model\n",
    "model.compile(optimizer='adam',\n",
    "              loss='categorical_crossentropy',\n",
    "              metrics=['Accuracy', 'Precision'])\n",
    "\n",
    "# Train the model\n",
    "model.fit(X_train, y_train, epochs=10, batch_size=32, verbose=1)\n",
    "\n",
    "# Evaluate the model\n",
    "print(\"---- Test ----\")\n",
    "test_loss, test_accuracy, test_precision = model.evaluate(X_test, y_test)\n",
    "print('Test Loss:', test_loss)\n",
    "print('Test Precision:', test_precision)\n",
    "print('Test Accuracy:', test_accuracy)\n",
    "\n",
    "print(\"---- Train ----\")\n",
    "train_loss, train_accuracy, train_precision = model.evaluate(X_train, y_train)\n",
    "print('Train Loss:', train_loss)\n",
    "print('Train Precision:', train_precision)\n",
    "print('Train Accuracy:', train_accuracy)"
   ]
  },
  {
   "cell_type": "markdown",
   "id": "2db37a3f-0d77-486c-8189-21dc53a5ef84",
   "metadata": {},
   "source": [
    "#### layers = 16, 64, 4\n",
    "#### reduce bias more ==> decrease precision"
   ]
  },
  {
   "cell_type": "code",
   "execution_count": 336,
   "id": "eb47ab97-602b-4f58-aaf7-da1cc7a8c3b1",
   "metadata": {
    "tags": []
   },
   "outputs": [
    {
     "name": "stdout",
     "output_type": "stream",
     "text": [
      "Epoch 1/10\n",
      "87/87 [==============================] - 0s 907us/step - loss: 1.2538 - Accuracy: 0.4290 - precision: 0.7119\n",
      "Epoch 2/10\n",
      "87/87 [==============================] - 0s 939us/step - loss: 1.0427 - Accuracy: 0.5605 - precision: 0.7502\n",
      "Epoch 3/10\n",
      "87/87 [==============================] - 0s 1ms/step - loss: 0.9958 - Accuracy: 0.5717 - precision: 0.7025\n",
      "Epoch 4/10\n",
      "87/87 [==============================] - 0s 1ms/step - loss: 0.9703 - Accuracy: 0.5906 - precision: 0.7028\n",
      "Epoch 5/10\n",
      "87/87 [==============================] - 0s 1ms/step - loss: 0.9517 - Accuracy: 0.5895 - precision: 0.6997\n",
      "Epoch 6/10\n",
      "87/87 [==============================] - 0s 1ms/step - loss: 0.9339 - Accuracy: 0.6022 - precision: 0.7127\n",
      "Epoch 7/10\n",
      "87/87 [==============================] - 0s 1ms/step - loss: 0.9188 - Accuracy: 0.6047 - precision: 0.7174\n",
      "Epoch 8/10\n",
      "87/87 [==============================] - 0s 1ms/step - loss: 0.9049 - Accuracy: 0.6185 - precision: 0.7247\n",
      "Epoch 9/10\n",
      "87/87 [==============================] - 0s 1ms/step - loss: 0.8967 - Accuracy: 0.6207 - precision: 0.7279\n",
      "Epoch 10/10\n",
      "87/87 [==============================] - 0s 1ms/step - loss: 0.8846 - Accuracy: 0.6315 - precision: 0.7350\n",
      "---- Test ----\n",
      "22/22 [==============================] - 0s 1ms/step - loss: 0.8931 - Accuracy: 0.6348 - precision: 0.7540\n",
      "Test Loss: 0.8931119441986084\n",
      "Test Precision: 0.7539503574371338\n",
      "Test Accuracy: 0.634782612323761\n",
      "---- Train ----\n",
      "87/87 [==============================] - 0s 920us/step - loss: 0.8742 - Accuracy: 0.6413 - precision: 0.7460\n",
      "Train Loss: 0.874182939529419\n",
      "Train Precision: 0.7460496425628662\n",
      "Train Accuracy: 0.6413043737411499\n"
     ]
    }
   ],
   "source": [
    "# Create the MLP model\n",
    "model = keras.Sequential([\n",
    "    keras.layers.Dense(16, activation='relu', input_shape=(6,)),\n",
    "    keras.layers.Dense(64, activation='relu'),\n",
    "    keras.layers.Dense(4, activation='softmax')\n",
    "])\n",
    "\n",
    "# Compile the model\n",
    "model.compile(optimizer='adam',\n",
    "              loss='categorical_crossentropy',\n",
    "              metrics=['Accuracy', 'Precision'])\n",
    "\n",
    "# Train the model\n",
    "model.fit(X_train, y_train, epochs=10, batch_size=32, verbose=1)\n",
    "\n",
    "# Evaluate the model\n",
    "print(\"---- Test ----\")\n",
    "test_loss, test_accuracy, test_precision = model.evaluate(X_test, y_test)\n",
    "print('Test Loss:', test_loss)\n",
    "print('Test Precision:', test_precision)\n",
    "print('Test Accuracy:', test_accuracy)\n",
    "\n",
    "print(\"---- Train ----\")\n",
    "train_loss, train_accuracy, train_precision = model.evaluate(X_train, y_train)\n",
    "print('Train Loss:', train_loss)\n",
    "print('Train Precision:', train_precision)\n",
    "print('Train Accuracy:', train_accuracy)"
   ]
  },
  {
   "cell_type": "markdown",
   "id": "35ecc6af-b6a4-48a6-81ee-f8f9c4fb21ec",
   "metadata": {
    "tags": []
   },
   "source": [
    "#### layers = 16, 64, 128, 4\n",
    "#### increase epochs ==> increase precision"
   ]
  },
  {
   "cell_type": "code",
   "execution_count": 337,
   "id": "c3a0813a-9f83-4b42-b19d-0ede39d44673",
   "metadata": {
    "tags": []
   },
   "outputs": [
    {
     "name": "stdout",
     "output_type": "stream",
     "text": [
      "Epoch 1/25\n",
      "87/87 [==============================] - 1s 1ms/step - loss: 1.0864 - Accuracy: 0.5424 - precision: 0.7285\n",
      "Epoch 2/25\n",
      "87/87 [==============================] - 0s 1ms/step - loss: 0.9678 - Accuracy: 0.5891 - precision: 0.7134\n",
      "Epoch 3/25\n",
      "87/87 [==============================] - 0s 1ms/step - loss: 0.9268 - Accuracy: 0.6011 - precision: 0.7133\n",
      "Epoch 4/25\n",
      "87/87 [==============================] - 0s 1ms/step - loss: 0.8984 - Accuracy: 0.6210 - precision: 0.7120\n",
      "Epoch 5/25\n",
      "87/87 [==============================] - 0s 1ms/step - loss: 0.8806 - Accuracy: 0.6348 - precision: 0.7228\n",
      "Epoch 6/25\n",
      "87/87 [==============================] - 0s 1ms/step - loss: 0.8668 - Accuracy: 0.6514 - precision: 0.7275\n",
      "Epoch 7/25\n",
      "87/87 [==============================] - 0s 1ms/step - loss: 0.8594 - Accuracy: 0.6460 - precision: 0.7178\n",
      "Epoch 8/25\n",
      "87/87 [==============================] - 0s 978us/step - loss: 0.8512 - Accuracy: 0.6482 - precision: 0.7241\n",
      "Epoch 9/25\n",
      "87/87 [==============================] - 0s 1ms/step - loss: 0.8462 - Accuracy: 0.6514 - precision: 0.7323\n",
      "Epoch 10/25\n",
      "87/87 [==============================] - 0s 1ms/step - loss: 0.8455 - Accuracy: 0.6489 - precision: 0.7151\n",
      "Epoch 11/25\n",
      "87/87 [==============================] - 0s 1ms/step - loss: 0.8360 - Accuracy: 0.6572 - precision: 0.7342\n",
      "Epoch 12/25\n",
      "87/87 [==============================] - 0s 990us/step - loss: 0.8343 - Accuracy: 0.6591 - precision: 0.7377\n",
      "Epoch 13/25\n",
      "87/87 [==============================] - 0s 1ms/step - loss: 0.8297 - Accuracy: 0.6612 - precision: 0.7343\n",
      "Epoch 14/25\n",
      "87/87 [==============================] - 0s 1ms/step - loss: 0.8291 - Accuracy: 0.6525 - precision: 0.7298\n",
      "Epoch 15/25\n",
      "87/87 [==============================] - 0s 1ms/step - loss: 0.8280 - Accuracy: 0.6547 - precision: 0.7341\n",
      "Epoch 16/25\n",
      "87/87 [==============================] - 0s 1ms/step - loss: 0.8228 - Accuracy: 0.6630 - precision: 0.7318\n",
      "Epoch 17/25\n",
      "87/87 [==============================] - 0s 1ms/step - loss: 0.8222 - Accuracy: 0.6623 - precision: 0.7326\n",
      "Epoch 18/25\n",
      "87/87 [==============================] - 0s 1ms/step - loss: 0.8172 - Accuracy: 0.6649 - precision: 0.7365\n",
      "Epoch 19/25\n",
      "87/87 [==============================] - 0s 1ms/step - loss: 0.8136 - Accuracy: 0.6594 - precision: 0.7288\n",
      "Epoch 20/25\n",
      "87/87 [==============================] - 0s 1ms/step - loss: 0.8212 - Accuracy: 0.6623 - precision: 0.7246\n",
      "Epoch 21/25\n",
      "87/87 [==============================] - 0s 1ms/step - loss: 0.8138 - Accuracy: 0.6670 - precision: 0.7396\n",
      "Epoch 22/25\n",
      "87/87 [==============================] - 0s 1ms/step - loss: 0.8083 - Accuracy: 0.6692 - precision: 0.7378\n",
      "Epoch 23/25\n",
      "87/87 [==============================] - 0s 1ms/step - loss: 0.8090 - Accuracy: 0.6598 - precision: 0.7350\n",
      "Epoch 24/25\n",
      "87/87 [==============================] - 0s 1ms/step - loss: 0.8077 - Accuracy: 0.6667 - precision: 0.7385\n",
      "Epoch 25/25\n",
      "87/87 [==============================] - 0s 1ms/step - loss: 0.8071 - Accuracy: 0.6634 - precision: 0.7334\n",
      "---- Test ----\n",
      "22/22 [==============================] - 0s 1ms/step - loss: 0.8578 - Accuracy: 0.6522 - precision: 0.7291\n",
      "Test Loss: 0.8578409552574158\n",
      "Test Precision: 0.7291280031204224\n",
      "Test Accuracy: 0.6521739363670349\n",
      "---- Train ----\n",
      "87/87 [==============================] - 0s 949us/step - loss: 0.7920 - Accuracy: 0.6670 - precision: 0.7364\n",
      "Train Loss: 0.7919629812240601\n",
      "Train Precision: 0.7364485859870911\n",
      "Train Accuracy: 0.6670289635658264\n"
     ]
    }
   ],
   "source": [
    "# Create the MLP model\n",
    "model = keras.Sequential([\n",
    "    keras.layers.Dense(16, activation='relu', input_shape=(6,)),\n",
    "    keras.layers.Dense(64, activation='relu'),\n",
    "    keras.layers.Dense(128, activation='relu'),\n",
    "    keras.layers.Dense(4, activation='softmax')\n",
    "])\n",
    "\n",
    "# Compile the model\n",
    "model.compile(optimizer='adam',\n",
    "              loss='categorical_crossentropy',\n",
    "              metrics=['Accuracy', 'Precision'])\n",
    "\n",
    "# Train the model\n",
    "model.fit(X_train, y_train, epochs=25, batch_size=32, verbose=1)\n",
    "\n",
    "# Evaluate the model\n",
    "print(\"---- Test ----\")\n",
    "test_loss, test_accuracy, test_precision = model.evaluate(X_test, y_test)\n",
    "print('Test Loss:', test_loss)\n",
    "print('Test Precision:', test_precision)\n",
    "print('Test Accuracy:', test_accuracy)\n",
    "\n",
    "print(\"---- Train ----\")\n",
    "train_loss, train_accuracy, train_precision = model.evaluate(X_train, y_train)\n",
    "print('Train Loss:', train_loss)\n",
    "print('Train Precision:', train_precision)\n",
    "print('Train Accuracy:', train_accuracy)"
   ]
  },
  {
   "cell_type": "markdown",
   "id": "bfa8103e-ac05-45cb-a48d-95a4efb0e123",
   "metadata": {},
   "source": [
    "### change optimizer\n",
    "### ==> overfit"
   ]
  },
  {
   "cell_type": "code",
   "execution_count": 346,
   "id": "bc411e27-ebe9-4b75-80f0-c567818ab373",
   "metadata": {
    "tags": []
   },
   "outputs": [
    {
     "name": "stdout",
     "output_type": "stream",
     "text": [
      "Epoch 1/10\n",
      "87/87 [==============================] - 0s 1ms/step - loss: 1.3952 - Accuracy: 0.2685 - precision: 0.0000e+00\n",
      "Epoch 2/10\n",
      "87/87 [==============================] - 0s 1ms/step - loss: 1.3772 - Accuracy: 0.2848 - precision: 0.0000e+00\n",
      "Epoch 3/10\n",
      "87/87 [==============================] - 0s 1ms/step - loss: 1.3700 - Accuracy: 0.3192 - precision: 0.0000e+00\n",
      "Epoch 4/10\n",
      "87/87 [==============================] - 0s 1ms/step - loss: 1.3618 - Accuracy: 0.3678 - precision: 0.0000e+00\n",
      "Epoch 5/10\n",
      "87/87 [==============================] - 0s 1ms/step - loss: 1.3514 - Accuracy: 0.4004 - precision: 0.0000e+00\n",
      "Epoch 6/10\n",
      "87/87 [==============================] - 0s 1ms/step - loss: 1.3400 - Accuracy: 0.4221 - precision: 0.0000e+00\n",
      "Epoch 7/10\n",
      "87/87 [==============================] - 0s 1ms/step - loss: 1.3261 - Accuracy: 0.4322 - precision: 0.4286\n",
      "Epoch 8/10\n",
      "87/87 [==============================] - 0s 1ms/step - loss: 1.3113 - Accuracy: 0.4786 - precision: 0.5217\n",
      "Epoch 9/10\n",
      "87/87 [==============================] - 0s 1ms/step - loss: 1.2920 - Accuracy: 0.4888 - precision: 0.7308\n",
      "Epoch 10/10\n",
      "87/87 [==============================] - 0s 1ms/step - loss: 1.2725 - Accuracy: 0.4899 - precision: 0.7328\n",
      "---- Test ----\n",
      "22/22 [==============================] - 0s 1ms/step - loss: 1.2698 - Accuracy: 0.5058 - precision: 0.7000\n",
      "Test Loss: 1.2698227167129517\n",
      "Test Precision: 0.699999988079071\n",
      "Test Accuracy: 0.5057970881462097\n",
      "---- Train ----\n",
      "87/87 [==============================] - 0s 937us/step - loss: 1.2627 - Accuracy: 0.4880 - precision: 0.7605\n",
      "Train Loss: 1.2626649141311646\n",
      "Train Precision: 0.7604790329933167\n",
      "Train Accuracy: 0.48804348707199097\n"
     ]
    }
   ],
   "source": [
    "# Create the MLP model\n",
    "model = keras.Sequential([\n",
    "    keras.layers.Dense(16, activation='relu', input_shape=(6,)),\n",
    "    keras.layers.Dense(64, activation='relu'),\n",
    "    keras.layers.Dense(128, activation='sigmoid'),\n",
    "    keras.layers.Dense(4, activation='softmax')\n",
    "])\n",
    "\n",
    "# Compile the model\n",
    "model.compile(optimizer='SGD',\n",
    "              loss='categorical_crossentropy',\n",
    "              metrics=['Accuracy', 'Precision'])\n",
    "\n",
    "# Train the model\n",
    "model.fit(X_train, y_train, epochs=10, batch_size=32, verbose=1)\n",
    "\n",
    "# Evaluate the model\n",
    "print(\"---- Test ----\")\n",
    "test_loss, test_accuracy, test_precision = model.evaluate(X_test, y_test)\n",
    "print('Test Loss:', test_loss)\n",
    "print('Test Precision:', test_precision)\n",
    "print('Test Accuracy:', test_accuracy)\n",
    "\n",
    "print(\"---- Train ----\")\n",
    "train_loss, train_accuracy, train_precision = model.evaluate(X_train, y_train)\n",
    "print('Train Loss:', train_loss)\n",
    "print('Train Precision:', train_precision)\n",
    "print('Train Accuracy:', train_accuracy)"
   ]
  },
  {
   "cell_type": "markdown",
   "id": "edc3abc5-4d1c-4f46-9eb7-1bcfe436b0b1",
   "metadata": {},
   "source": [
    "### winner"
   ]
  },
  {
   "cell_type": "code",
   "execution_count": 339,
   "id": "84238268-9385-402f-8cbf-6381a18c4b73",
   "metadata": {
    "tags": []
   },
   "outputs": [
    {
     "name": "stdout",
     "output_type": "stream",
     "text": [
      "Epoch 1/25\n",
      "87/87 [==============================] - 1s 1ms/step - loss: 1.1040 - Accuracy: 0.5217 - precision: 0.7535\n",
      "Epoch 2/25\n",
      "87/87 [==============================] - 0s 1ms/step - loss: 0.9776 - Accuracy: 0.5855 - precision: 0.7180\n",
      "Epoch 3/25\n",
      "87/87 [==============================] - 0s 1ms/step - loss: 0.9415 - Accuracy: 0.5938 - precision: 0.7093\n",
      "Epoch 4/25\n",
      "87/87 [==============================] - 0s 1ms/step - loss: 0.9180 - Accuracy: 0.6087 - precision: 0.7232\n",
      "Epoch 5/25\n",
      "87/87 [==============================] - 0s 1ms/step - loss: 0.8959 - Accuracy: 0.6188 - precision: 0.7298\n",
      "Epoch 6/25\n",
      "87/87 [==============================] - 0s 1ms/step - loss: 0.8830 - Accuracy: 0.6243 - precision: 0.7278\n",
      "Epoch 7/25\n",
      "87/87 [==============================] - 0s 1ms/step - loss: 0.8713 - Accuracy: 0.6446 - precision: 0.7400\n",
      "Epoch 8/25\n",
      "87/87 [==============================] - 0s 1ms/step - loss: 0.8627 - Accuracy: 0.6377 - precision: 0.7325\n",
      "Epoch 9/25\n",
      "87/87 [==============================] - 0s 1ms/step - loss: 0.8531 - Accuracy: 0.6496 - precision: 0.7310\n",
      "Epoch 10/25\n",
      "87/87 [==============================] - 0s 1ms/step - loss: 0.8471 - Accuracy: 0.6580 - precision: 0.7354\n",
      "Epoch 11/25\n",
      "87/87 [==============================] - 0s 1ms/step - loss: 0.8451 - Accuracy: 0.6460 - precision: 0.7304\n",
      "Epoch 12/25\n",
      "87/87 [==============================] - 0s 1ms/step - loss: 0.8322 - Accuracy: 0.6536 - precision: 0.7397\n",
      "Epoch 13/25\n",
      "87/87 [==============================] - 0s 1ms/step - loss: 0.8335 - Accuracy: 0.6533 - precision: 0.7392\n",
      "Epoch 14/25\n",
      "87/87 [==============================] - 0s 1ms/step - loss: 0.8290 - Accuracy: 0.6565 - precision: 0.7435\n",
      "Epoch 15/25\n",
      "87/87 [==============================] - 0s 1ms/step - loss: 0.8240 - Accuracy: 0.6594 - precision: 0.7357\n",
      "Epoch 16/25\n",
      "87/87 [==============================] - 0s 1ms/step - loss: 0.8216 - Accuracy: 0.6707 - precision: 0.7474\n",
      "Epoch 17/25\n",
      "87/87 [==============================] - 0s 1ms/step - loss: 0.8166 - Accuracy: 0.6605 - precision: 0.7386\n",
      "Epoch 18/25\n",
      "87/87 [==============================] - 0s 1ms/step - loss: 0.8164 - Accuracy: 0.6627 - precision: 0.7401\n",
      "Epoch 19/25\n",
      "87/87 [==============================] - 0s 1ms/step - loss: 0.8104 - Accuracy: 0.6678 - precision: 0.7306\n",
      "Epoch 20/25\n",
      "87/87 [==============================] - 0s 1ms/step - loss: 0.8123 - Accuracy: 0.6685 - precision: 0.7412\n",
      "Epoch 21/25\n",
      "87/87 [==============================] - 0s 1ms/step - loss: 0.8039 - Accuracy: 0.6764 - precision: 0.7413\n",
      "Epoch 22/25\n",
      "87/87 [==============================] - 0s 1ms/step - loss: 0.8075 - Accuracy: 0.6681 - precision: 0.7363\n",
      "Epoch 23/25\n",
      "87/87 [==============================] - 0s 1ms/step - loss: 0.8049 - Accuracy: 0.6674 - precision: 0.7382\n",
      "Epoch 24/25\n",
      "87/87 [==============================] - 0s 1ms/step - loss: 0.8062 - Accuracy: 0.6678 - precision: 0.7392\n",
      "Epoch 25/25\n",
      "87/87 [==============================] - 0s 1ms/step - loss: 0.7946 - Accuracy: 0.6728 - precision: 0.7421\n",
      "---- Test ----\n",
      "22/22 [==============================] - 0s 1ms/step - loss: 0.8577 - Accuracy: 0.6565 - precision: 0.7335\n",
      "Test Loss: 0.8576621413230896\n",
      "Test Precision: 0.7334558963775635\n",
      "Test Accuracy: 0.656521737575531\n",
      "---- Train ----\n",
      "87/87 [==============================] - 0s 885us/step - loss: 0.7881 - Accuracy: 0.6783 - precision: 0.7478\n",
      "Train Loss: 0.7880728244781494\n",
      "Train Precision: 0.7477978467941284\n",
      "Train Accuracy: 0.678260862827301\n"
     ]
    }
   ],
   "source": [
    "# Create the MLP model\n",
    "model = keras.Sequential([\n",
    "    keras.layers.Dense(16, activation='relu', input_shape=(6,)),\n",
    "    keras.layers.Dense(64, activation='relu'),\n",
    "    keras.layers.Dense(128, activation='relu'),\n",
    "    keras.layers.Dense(4, activation='softmax')\n",
    "])\n",
    "\n",
    "# Compile the model\n",
    "model.compile(optimizer='adam',\n",
    "              loss='categorical_crossentropy',\n",
    "              metrics=['Accuracy', 'Precision'])\n",
    "\n",
    "# Train the model\n",
    "model.fit(X_train, y_train, epochs=25, batch_size=32, verbose=1)\n",
    "\n",
    "# Evaluate the model\n",
    "print(\"---- Test ----\")\n",
    "test_loss, test_accuracy, test_precision = model.evaluate(X_test, y_test)\n",
    "print('Test Loss:', test_loss)\n",
    "print('Test Precision:', test_precision)\n",
    "print('Test Accuracy:', test_accuracy)\n",
    "\n",
    "print(\"---- Train ----\")\n",
    "train_loss, train_accuracy, train_precision = model.evaluate(X_train, y_train)\n",
    "print('Train Loss:', train_loss)\n",
    "print('Train Precision:', train_precision)\n",
    "print('Train Accuracy:', train_accuracy)"
   ]
  },
  {
   "cell_type": "markdown",
   "id": "db9549a0-ec3f-483d-b47b-dd2e72f2dab1",
   "metadata": {},
   "source": [
    "### Confusion matrix"
   ]
  },
  {
   "cell_type": "code",
   "execution_count": 340,
   "id": "58b9389e-a451-4b7a-ac19-ce2cff0c3810",
   "metadata": {
    "tags": []
   },
   "outputs": [
    {
     "name": "stdout",
     "output_type": "stream",
     "text": [
      "---- Train ----\n",
      "87/87 [==============================] - 1s 849us/step\n"
     ]
    },
    {
     "data": {
      "text/plain": [
       "<sklearn.metrics._plot.confusion_matrix.ConfusionMatrixDisplay at 0x194d8dcdf50>"
      ]
     },
     "execution_count": 340,
     "metadata": {},
     "output_type": "execute_result"
    },
    {
     "data": {
      "image/png": "[encoded data removed]",
      "text/plain": [
       "<Figure size 640x480 with 2 Axes>"
      ]
     },
     "metadata": {},
     "output_type": "display_data"
    }
   ],
   "source": [
    "print(\"---- Train ----\")\n",
    "y_predict = model.predict(X_train)\n",
    "predicted_labels = tf.argmax(y_predict, axis=1).numpy()\n",
    "y_true_int = np.argmax(y_train, axis=1)\n",
    "cm = confusion_matrix(y_true_int, predicted_labels)\n",
    "ConfusionMatrixDisplay(cm).plot()"
   ]
  },
  {
   "cell_type": "code",
   "execution_count": 341,
   "id": "3020ff7b-a189-4156-96db-9c497e04a55b",
   "metadata": {
    "tags": []
   },
   "outputs": [
    {
     "name": "stdout",
     "output_type": "stream",
     "text": [
      "---- Test ----\n",
      "22/22 [==============================] - 0s 962us/step\n"
     ]
    },
    {
     "data": {
      "text/plain": [
       "<sklearn.metrics._plot.confusion_matrix.ConfusionMatrixDisplay at 0x194e00564d0>"
      ]
     },
     "execution_count": 341,
     "metadata": {},
     "output_type": "execute_result"
    },
    {
     "data": {
      "image/png": "[encoded data removed]",
      "text/plain": [
       "<Figure size 640x480 with 2 Axes>"
      ]
     },
     "metadata": {},
     "output_type": "display_data"
    }
   ],
   "source": [
    "print(\"---- Test ----\")\n",
    "y_predict = model.predict(X_test)\n",
    "predicted_labels = tf.argmax(y_predict, axis=1).numpy()\n",
    "y_true_int = np.argmax(y_test, axis=1)\n",
    "cm = confusion_matrix(y_true_int, predicted_labels)\n",
    "ConfusionMatrixDisplay(cm).plot()"
   ]
  },
  {
   "cell_type": "code",
   "execution_count": null,
   "id": "d75c46bc-8fae-494b-9ec7-10a340f60947",
   "metadata": {},
   "outputs": [],
   "source": []
  }
 ],
 "metadata": {
  "kernelspec": {
   "display_name": "Python 3 (ipykernel)",
   "language": "python",
   "name": "python3"
  },
  "language_info": {
   "codemirror_mode": {
    "name": "ipython",
    "version": 3
   },
   "file_extension": ".py",
   "mimetype": "text/x-python",
   "name": "python",
   "nbconvert_exporter": "python",
   "pygments_lexer": "ipython3",
   "version": "3.11.1"
  }
 },
 "nbformat": 4,
 "nbformat_minor": 5
}
