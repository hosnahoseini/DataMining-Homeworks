{
 "cells": [
  {
   "cell_type": "code",
   "execution_count": 1,
   "id": "a8338254-aac5-4b8f-9882-f98b9b143a88",
   "metadata": {
    "tags": []
   },
   "outputs": [],
   "source": [
    "import pandas as pd"
   ]
  },
  {
   "cell_type": "code",
   "execution_count": 175,
   "id": "83c11533-e579-46c9-838b-bb188356c566",
   "metadata": {
    "tags": []
   },
   "outputs": [],
   "source": [
    "df = pd.read_csv(\"penguins.csv\", names=[\"island\", \"bill_len\", \"bill_depth\", \"flipper_len\", \"body_mass\", \"sex\", \"species\"])"
   ]
  },
  {
   "cell_type": "code",
   "execution_count": 176,
   "id": "7376a900-1c4e-44f3-b0e9-dbfe655986b4",
   "metadata": {
    "tags": []
   },
   "outputs": [
    {
     "data": {
      "text/html": [
       "<div>\n",
       "<style scoped>\n",
       "    .dataframe tbody tr th:only-of-type {\n",
       "        vertical-align: middle;\n",
       "    }\n",
       "\n",
       "    .dataframe tbody tr th {\n",
       "        vertical-align: top;\n",
       "    }\n",
       "\n",
       "    .dataframe thead th {\n",
       "        text-align: right;\n",
       "    }\n",
       "</style>\n",
       "<table border=\"1\" class=\"dataframe\">\n",
       "  <thead>\n",
       "    <tr style=\"text-align: right;\">\n",
       "      <th></th>\n",
       "      <th>island</th>\n",
       "      <th>bill_len</th>\n",
       "      <th>bill_depth</th>\n",
       "      <th>flipper_len</th>\n",
       "      <th>body_mass</th>\n",
       "      <th>sex</th>\n",
       "      <th>species</th>\n",
       "    </tr>\n",
       "  </thead>\n",
       "  <tbody>\n",
       "    <tr>\n",
       "      <th>0</th>\n",
       "      <td>Torgersen</td>\n",
       "      <td>39.1</td>\n",
       "      <td>18.7</td>\n",
       "      <td>181.0</td>\n",
       "      <td>3750.0</td>\n",
       "      <td>male</td>\n",
       "      <td>Adelie</td>\n",
       "    </tr>\n",
       "    <tr>\n",
       "      <th>1</th>\n",
       "      <td>Torgersen</td>\n",
       "      <td>39.5</td>\n",
       "      <td>17.4</td>\n",
       "      <td>186.0</td>\n",
       "      <td>3800.0</td>\n",
       "      <td>female</td>\n",
       "      <td>Adelie</td>\n",
       "    </tr>\n",
       "    <tr>\n",
       "      <th>2</th>\n",
       "      <td>Torgersen</td>\n",
       "      <td>40.3</td>\n",
       "      <td>18.0</td>\n",
       "      <td>195.0</td>\n",
       "      <td>3250.0</td>\n",
       "      <td>female</td>\n",
       "      <td>Adelie</td>\n",
       "    </tr>\n",
       "    <tr>\n",
       "      <th>3</th>\n",
       "      <td>Torgersen</td>\n",
       "      <td>NaN</td>\n",
       "      <td>NaN</td>\n",
       "      <td>NaN</td>\n",
       "      <td>NaN</td>\n",
       "      <td>NaN</td>\n",
       "      <td>Adelie</td>\n",
       "    </tr>\n",
       "    <tr>\n",
       "      <th>4</th>\n",
       "      <td>Torgersen</td>\n",
       "      <td>36.7</td>\n",
       "      <td>19.3</td>\n",
       "      <td>193.0</td>\n",
       "      <td>3450.0</td>\n",
       "      <td>female</td>\n",
       "      <td>Adelie</td>\n",
       "    </tr>\n",
       "    <tr>\n",
       "      <th>...</th>\n",
       "      <td>...</td>\n",
       "      <td>...</td>\n",
       "      <td>...</td>\n",
       "      <td>...</td>\n",
       "      <td>...</td>\n",
       "      <td>...</td>\n",
       "      <td>...</td>\n",
       "    </tr>\n",
       "    <tr>\n",
       "      <th>339</th>\n",
       "      <td>Dream</td>\n",
       "      <td>55.8</td>\n",
       "      <td>19.8</td>\n",
       "      <td>207.0</td>\n",
       "      <td>4000.0</td>\n",
       "      <td>male</td>\n",
       "      <td>Chinstrap</td>\n",
       "    </tr>\n",
       "    <tr>\n",
       "      <th>340</th>\n",
       "      <td>Dream</td>\n",
       "      <td>43.5</td>\n",
       "      <td>18.1</td>\n",
       "      <td>202.0</td>\n",
       "      <td>3400.0</td>\n",
       "      <td>female</td>\n",
       "      <td>Chinstrap</td>\n",
       "    </tr>\n",
       "    <tr>\n",
       "      <th>341</th>\n",
       "      <td>Dream</td>\n",
       "      <td>49.6</td>\n",
       "      <td>18.2</td>\n",
       "      <td>193.0</td>\n",
       "      <td>3775.0</td>\n",
       "      <td>male</td>\n",
       "      <td>Chinstrap</td>\n",
       "    </tr>\n",
       "    <tr>\n",
       "      <th>342</th>\n",
       "      <td>Dream</td>\n",
       "      <td>50.8</td>\n",
       "      <td>19.0</td>\n",
       "      <td>210.0</td>\n",
       "      <td>4100.0</td>\n",
       "      <td>male</td>\n",
       "      <td>Chinstrap</td>\n",
       "    </tr>\n",
       "    <tr>\n",
       "      <th>343</th>\n",
       "      <td>Dream</td>\n",
       "      <td>50.2</td>\n",
       "      <td>18.7</td>\n",
       "      <td>198.0</td>\n",
       "      <td>3775.0</td>\n",
       "      <td>female</td>\n",
       "      <td>Chinstrap</td>\n",
       "    </tr>\n",
       "  </tbody>\n",
       "</table>\n",
       "<p>344 rows × 7 columns</p>\n",
       "</div>"
      ],
      "text/plain": [
       "        island  bill_len  bill_depth  flipper_len  body_mass     sex  \\\n",
       "0    Torgersen      39.1        18.7        181.0     3750.0    male   \n",
       "1    Torgersen      39.5        17.4        186.0     3800.0  female   \n",
       "2    Torgersen      40.3        18.0        195.0     3250.0  female   \n",
       "3    Torgersen       NaN         NaN          NaN        NaN     NaN   \n",
       "4    Torgersen      36.7        19.3        193.0     3450.0  female   \n",
       "..         ...       ...         ...          ...        ...     ...   \n",
       "339      Dream      55.8        19.8        207.0     4000.0    male   \n",
       "340      Dream      43.5        18.1        202.0     3400.0  female   \n",
       "341      Dream      49.6        18.2        193.0     3775.0    male   \n",
       "342      Dream      50.8        19.0        210.0     4100.0    male   \n",
       "343      Dream      50.2        18.7        198.0     3775.0  female   \n",
       "\n",
       "       species  \n",
       "0       Adelie  \n",
       "1       Adelie  \n",
       "2       Adelie  \n",
       "3       Adelie  \n",
       "4       Adelie  \n",
       "..         ...  \n",
       "339  Chinstrap  \n",
       "340  Chinstrap  \n",
       "341  Chinstrap  \n",
       "342  Chinstrap  \n",
       "343  Chinstrap  \n",
       "\n",
       "[344 rows x 7 columns]"
      ]
     },
     "execution_count": 176,
     "metadata": {},
     "output_type": "execute_result"
    }
   ],
   "source": [
    "df"
   ]
  },
  {
   "cell_type": "markdown",
   "id": "be57203e-8d37-4441-ad98-4fa0f0e9f18e",
   "metadata": {},
   "source": [
    "## Q1)"
   ]
  },
  {
   "cell_type": "code",
   "execution_count": 177,
   "id": "ed65d4fa-f4e4-45b4-9577-a80b92258790",
   "metadata": {
    "tags": []
   },
   "outputs": [
    {
     "data": {
      "text/html": [
       "<div>\n",
       "<style scoped>\n",
       "    .dataframe tbody tr th:only-of-type {\n",
       "        vertical-align: middle;\n",
       "    }\n",
       "\n",
       "    .dataframe tbody tr th {\n",
       "        vertical-align: top;\n",
       "    }\n",
       "\n",
       "    .dataframe thead th {\n",
       "        text-align: right;\n",
       "    }\n",
       "</style>\n",
       "<table border=\"1\" class=\"dataframe\">\n",
       "  <thead>\n",
       "    <tr style=\"text-align: right;\">\n",
       "      <th></th>\n",
       "      <th>island</th>\n",
       "      <th>bill_len</th>\n",
       "      <th>bill_depth</th>\n",
       "      <th>flipper_len</th>\n",
       "      <th>body_mass</th>\n",
       "      <th>sex</th>\n",
       "      <th>species</th>\n",
       "    </tr>\n",
       "  </thead>\n",
       "  <tbody>\n",
       "    <tr>\n",
       "      <th>0</th>\n",
       "      <td>False</td>\n",
       "      <td>False</td>\n",
       "      <td>False</td>\n",
       "      <td>False</td>\n",
       "      <td>False</td>\n",
       "      <td>False</td>\n",
       "      <td>False</td>\n",
       "    </tr>\n",
       "    <tr>\n",
       "      <th>1</th>\n",
       "      <td>False</td>\n",
       "      <td>False</td>\n",
       "      <td>False</td>\n",
       "      <td>False</td>\n",
       "      <td>False</td>\n",
       "      <td>False</td>\n",
       "      <td>False</td>\n",
       "    </tr>\n",
       "    <tr>\n",
       "      <th>2</th>\n",
       "      <td>False</td>\n",
       "      <td>False</td>\n",
       "      <td>False</td>\n",
       "      <td>False</td>\n",
       "      <td>False</td>\n",
       "      <td>False</td>\n",
       "      <td>False</td>\n",
       "    </tr>\n",
       "    <tr>\n",
       "      <th>3</th>\n",
       "      <td>False</td>\n",
       "      <td>True</td>\n",
       "      <td>True</td>\n",
       "      <td>True</td>\n",
       "      <td>True</td>\n",
       "      <td>True</td>\n",
       "      <td>False</td>\n",
       "    </tr>\n",
       "    <tr>\n",
       "      <th>4</th>\n",
       "      <td>False</td>\n",
       "      <td>False</td>\n",
       "      <td>False</td>\n",
       "      <td>False</td>\n",
       "      <td>False</td>\n",
       "      <td>False</td>\n",
       "      <td>False</td>\n",
       "    </tr>\n",
       "    <tr>\n",
       "      <th>...</th>\n",
       "      <td>...</td>\n",
       "      <td>...</td>\n",
       "      <td>...</td>\n",
       "      <td>...</td>\n",
       "      <td>...</td>\n",
       "      <td>...</td>\n",
       "      <td>...</td>\n",
       "    </tr>\n",
       "    <tr>\n",
       "      <th>339</th>\n",
       "      <td>False</td>\n",
       "      <td>False</td>\n",
       "      <td>False</td>\n",
       "      <td>False</td>\n",
       "      <td>False</td>\n",
       "      <td>False</td>\n",
       "      <td>False</td>\n",
       "    </tr>\n",
       "    <tr>\n",
       "      <th>340</th>\n",
       "      <td>False</td>\n",
       "      <td>False</td>\n",
       "      <td>False</td>\n",
       "      <td>False</td>\n",
       "      <td>False</td>\n",
       "      <td>False</td>\n",
       "      <td>False</td>\n",
       "    </tr>\n",
       "    <tr>\n",
       "      <th>341</th>\n",
       "      <td>False</td>\n",
       "      <td>False</td>\n",
       "      <td>False</td>\n",
       "      <td>False</td>\n",
       "      <td>False</td>\n",
       "      <td>False</td>\n",
       "      <td>False</td>\n",
       "    </tr>\n",
       "    <tr>\n",
       "      <th>342</th>\n",
       "      <td>False</td>\n",
       "      <td>False</td>\n",
       "      <td>False</td>\n",
       "      <td>False</td>\n",
       "      <td>False</td>\n",
       "      <td>False</td>\n",
       "      <td>False</td>\n",
       "    </tr>\n",
       "    <tr>\n",
       "      <th>343</th>\n",
       "      <td>False</td>\n",
       "      <td>False</td>\n",
       "      <td>False</td>\n",
       "      <td>False</td>\n",
       "      <td>False</td>\n",
       "      <td>False</td>\n",
       "      <td>False</td>\n",
       "    </tr>\n",
       "  </tbody>\n",
       "</table>\n",
       "<p>344 rows × 7 columns</p>\n",
       "</div>"
      ],
      "text/plain": [
       "     island  bill_len  bill_depth  flipper_len  body_mass    sex  species\n",
       "0     False     False       False        False      False  False    False\n",
       "1     False     False       False        False      False  False    False\n",
       "2     False     False       False        False      False  False    False\n",
       "3     False      True        True         True       True   True    False\n",
       "4     False     False       False        False      False  False    False\n",
       "..      ...       ...         ...          ...        ...    ...      ...\n",
       "339   False     False       False        False      False  False    False\n",
       "340   False     False       False        False      False  False    False\n",
       "341   False     False       False        False      False  False    False\n",
       "342   False     False       False        False      False  False    False\n",
       "343   False     False       False        False      False  False    False\n",
       "\n",
       "[344 rows x 7 columns]"
      ]
     },
     "execution_count": 177,
     "metadata": {},
     "output_type": "execute_result"
    }
   ],
   "source": [
    "df.isna()"
   ]
  },
  {
   "cell_type": "code",
   "execution_count": 178,
   "id": "d1abd898-a010-4fc0-b813-df3f0cc76087",
   "metadata": {
    "tags": []
   },
   "outputs": [
    {
     "data": {
      "text/plain": [
       "island          0\n",
       "bill_len        2\n",
       "bill_depth      2\n",
       "flipper_len     2\n",
       "body_mass       2\n",
       "sex            11\n",
       "species         0\n",
       "dtype: int64"
      ]
     },
     "execution_count": 178,
     "metadata": {},
     "output_type": "execute_result"
    }
   ],
   "source": [
    "df.isna().sum()"
   ]
  },
  {
   "cell_type": "markdown",
   "id": "5851c37a-f073-4f50-8f0b-716ea4581297",
   "metadata": {},
   "source": [
    "## Q2)"
   ]
  },
  {
   "cell_type": "code",
   "execution_count": 179,
   "id": "b3c07a35-ee54-405c-b0a0-b5bc089280f2",
   "metadata": {
    "tags": []
   },
   "outputs": [
    {
     "name": "stdout",
     "output_type": "stream",
     "text": [
      "number of rows before removing nan: 344\n"
     ]
    }
   ],
   "source": [
    "print(f\"number of rows before removing nan: {df.shape[0]}\")"
   ]
  },
  {
   "cell_type": "code",
   "execution_count": null,
   "id": "f0b95250-d8c2-4e63-8030-35a9e0d6c394",
   "metadata": {},
   "outputs": [],
   "source": []
  },
  {
   "cell_type": "code",
   "execution_count": 180,
   "id": "0528ce43-007d-43f2-8bde-8fefb72cc841",
   "metadata": {
    "tags": []
   },
   "outputs": [],
   "source": [
    "df_remove_nan = df.dropna()"
   ]
  },
  {
   "cell_type": "code",
   "execution_count": 181,
   "id": "03828ae2-92ba-4cb6-acad-3fd519dfa193",
   "metadata": {
    "tags": []
   },
   "outputs": [
    {
     "name": "stdout",
     "output_type": "stream",
     "text": [
      "number of rows after removing nan: 333\n"
     ]
    }
   ],
   "source": [
    "print(f\"number of rows after removing nan: {df_remove_nan.shape[0]}\")"
   ]
  },
  {
   "cell_type": "markdown",
   "id": "6f8ad58b-d0c9-449a-8e81-9da443717580",
   "metadata": {},
   "source": [
    "## Q3)"
   ]
  },
  {
   "cell_type": "code",
   "execution_count": 182,
   "id": "f55e934d-7280-44de-95e6-f839b00e67b0",
   "metadata": {
    "tags": []
   },
   "outputs": [],
   "source": [
    "from sklearn.impute import SimpleImputer\n",
    "import numpy as np"
   ]
  },
  {
   "cell_type": "code",
   "execution_count": 183,
   "id": "fd618d63-f2cb-4ba9-b9c6-2c07f0c47397",
   "metadata": {
    "tags": []
   },
   "outputs": [
    {
     "data": {
      "text/plain": [
       "['bill_len', 'bill_depth', 'flipper_len', 'body_mass']"
      ]
     },
     "execution_count": 183,
     "metadata": {},
     "output_type": "execute_result"
    }
   ],
   "source": [
    "numeric_columns = df.select_dtypes(include=np.number).columns.tolist()\n",
    "numeric_columns"
   ]
  },
  {
   "cell_type": "code",
   "execution_count": 184,
   "id": "d373eb62-d494-4f3c-943a-bac4ca19b1ab",
   "metadata": {
    "tags": []
   },
   "outputs": [
    {
     "data": {
      "text/plain": [
       "['island', 'sex', 'species']"
      ]
     },
     "execution_count": 184,
     "metadata": {},
     "output_type": "execute_result"
    }
   ],
   "source": [
    "categorial_columns = df.select_dtypes(include='object').columns.tolist()\n",
    "categorial_columns"
   ]
  },
  {
   "cell_type": "code",
   "execution_count": 185,
   "id": "78e4340d-8452-4e05-84c6-0a0a88955a21",
   "metadata": {
    "tags": []
   },
   "outputs": [],
   "source": [
    "imp_numeric = SimpleImputer(missing_values=np.nan, strategy='mean')\n",
    "df_numeric = pd.DataFrame(imp_numeric.fit_transform(df[numeric_columns]), columns = numeric_columns)"
   ]
  },
  {
   "cell_type": "code",
   "execution_count": 186,
   "id": "d586a6e5-6e26-4998-a394-b2e115d50fa0",
   "metadata": {
    "tags": []
   },
   "outputs": [],
   "source": [
    "imp_categorical = SimpleImputer(missing_values=np.nan, strategy='most_frequent')\n",
    "df_categorical = pd.DataFrame(imp_categorical.fit_transform(df[categorial_columns]), columns = categorial_columns)"
   ]
  },
  {
   "cell_type": "code",
   "execution_count": 187,
   "id": "d9bd637c-1700-4eb9-bdfa-1934476ac449",
   "metadata": {
    "tags": []
   },
   "outputs": [],
   "source": [
    "#join the two masked dataframes back together\n",
    "df_joined = pd.concat([df_numeric, df_categorical], axis = 1)"
   ]
  },
  {
   "cell_type": "code",
   "execution_count": 188,
   "id": "f184bce6-f048-4aa1-907e-28b079e0e186",
   "metadata": {
    "tags": []
   },
   "outputs": [
    {
     "data": {
      "text/html": [
       "<div>\n",
       "<style scoped>\n",
       "    .dataframe tbody tr th:only-of-type {\n",
       "        vertical-align: middle;\n",
       "    }\n",
       "\n",
       "    .dataframe tbody tr th {\n",
       "        vertical-align: top;\n",
       "    }\n",
       "\n",
       "    .dataframe thead th {\n",
       "        text-align: right;\n",
       "    }\n",
       "</style>\n",
       "<table border=\"1\" class=\"dataframe\">\n",
       "  <thead>\n",
       "    <tr style=\"text-align: right;\">\n",
       "      <th></th>\n",
       "      <th>bill_len</th>\n",
       "      <th>bill_depth</th>\n",
       "      <th>flipper_len</th>\n",
       "      <th>body_mass</th>\n",
       "      <th>island</th>\n",
       "      <th>sex</th>\n",
       "      <th>species</th>\n",
       "    </tr>\n",
       "  </thead>\n",
       "  <tbody>\n",
       "    <tr>\n",
       "      <th>0</th>\n",
       "      <td>39.10000</td>\n",
       "      <td>18.70000</td>\n",
       "      <td>181.000000</td>\n",
       "      <td>3750.000000</td>\n",
       "      <td>Torgersen</td>\n",
       "      <td>male</td>\n",
       "      <td>Adelie</td>\n",
       "    </tr>\n",
       "    <tr>\n",
       "      <th>1</th>\n",
       "      <td>39.50000</td>\n",
       "      <td>17.40000</td>\n",
       "      <td>186.000000</td>\n",
       "      <td>3800.000000</td>\n",
       "      <td>Torgersen</td>\n",
       "      <td>female</td>\n",
       "      <td>Adelie</td>\n",
       "    </tr>\n",
       "    <tr>\n",
       "      <th>2</th>\n",
       "      <td>40.30000</td>\n",
       "      <td>18.00000</td>\n",
       "      <td>195.000000</td>\n",
       "      <td>3250.000000</td>\n",
       "      <td>Torgersen</td>\n",
       "      <td>female</td>\n",
       "      <td>Adelie</td>\n",
       "    </tr>\n",
       "    <tr>\n",
       "      <th>3</th>\n",
       "      <td>43.92193</td>\n",
       "      <td>17.15117</td>\n",
       "      <td>200.915205</td>\n",
       "      <td>4201.754386</td>\n",
       "      <td>Torgersen</td>\n",
       "      <td>male</td>\n",
       "      <td>Adelie</td>\n",
       "    </tr>\n",
       "    <tr>\n",
       "      <th>4</th>\n",
       "      <td>36.70000</td>\n",
       "      <td>19.30000</td>\n",
       "      <td>193.000000</td>\n",
       "      <td>3450.000000</td>\n",
       "      <td>Torgersen</td>\n",
       "      <td>female</td>\n",
       "      <td>Adelie</td>\n",
       "    </tr>\n",
       "    <tr>\n",
       "      <th>...</th>\n",
       "      <td>...</td>\n",
       "      <td>...</td>\n",
       "      <td>...</td>\n",
       "      <td>...</td>\n",
       "      <td>...</td>\n",
       "      <td>...</td>\n",
       "      <td>...</td>\n",
       "    </tr>\n",
       "    <tr>\n",
       "      <th>339</th>\n",
       "      <td>55.80000</td>\n",
       "      <td>19.80000</td>\n",
       "      <td>207.000000</td>\n",
       "      <td>4000.000000</td>\n",
       "      <td>Dream</td>\n",
       "      <td>male</td>\n",
       "      <td>Chinstrap</td>\n",
       "    </tr>\n",
       "    <tr>\n",
       "      <th>340</th>\n",
       "      <td>43.50000</td>\n",
       "      <td>18.10000</td>\n",
       "      <td>202.000000</td>\n",
       "      <td>3400.000000</td>\n",
       "      <td>Dream</td>\n",
       "      <td>female</td>\n",
       "      <td>Chinstrap</td>\n",
       "    </tr>\n",
       "    <tr>\n",
       "      <th>341</th>\n",
       "      <td>49.60000</td>\n",
       "      <td>18.20000</td>\n",
       "      <td>193.000000</td>\n",
       "      <td>3775.000000</td>\n",
       "      <td>Dream</td>\n",
       "      <td>male</td>\n",
       "      <td>Chinstrap</td>\n",
       "    </tr>\n",
       "    <tr>\n",
       "      <th>342</th>\n",
       "      <td>50.80000</td>\n",
       "      <td>19.00000</td>\n",
       "      <td>210.000000</td>\n",
       "      <td>4100.000000</td>\n",
       "      <td>Dream</td>\n",
       "      <td>male</td>\n",
       "      <td>Chinstrap</td>\n",
       "    </tr>\n",
       "    <tr>\n",
       "      <th>343</th>\n",
       "      <td>50.20000</td>\n",
       "      <td>18.70000</td>\n",
       "      <td>198.000000</td>\n",
       "      <td>3775.000000</td>\n",
       "      <td>Dream</td>\n",
       "      <td>female</td>\n",
       "      <td>Chinstrap</td>\n",
       "    </tr>\n",
       "  </tbody>\n",
       "</table>\n",
       "<p>344 rows × 7 columns</p>\n",
       "</div>"
      ],
      "text/plain": [
       "     bill_len  bill_depth  flipper_len    body_mass     island     sex  \\\n",
       "0    39.10000    18.70000   181.000000  3750.000000  Torgersen    male   \n",
       "1    39.50000    17.40000   186.000000  3800.000000  Torgersen  female   \n",
       "2    40.30000    18.00000   195.000000  3250.000000  Torgersen  female   \n",
       "3    43.92193    17.15117   200.915205  4201.754386  Torgersen    male   \n",
       "4    36.70000    19.30000   193.000000  3450.000000  Torgersen  female   \n",
       "..        ...         ...          ...          ...        ...     ...   \n",
       "339  55.80000    19.80000   207.000000  4000.000000      Dream    male   \n",
       "340  43.50000    18.10000   202.000000  3400.000000      Dream  female   \n",
       "341  49.60000    18.20000   193.000000  3775.000000      Dream    male   \n",
       "342  50.80000    19.00000   210.000000  4100.000000      Dream    male   \n",
       "343  50.20000    18.70000   198.000000  3775.000000      Dream  female   \n",
       "\n",
       "       species  \n",
       "0       Adelie  \n",
       "1       Adelie  \n",
       "2       Adelie  \n",
       "3       Adelie  \n",
       "4       Adelie  \n",
       "..         ...  \n",
       "339  Chinstrap  \n",
       "340  Chinstrap  \n",
       "341  Chinstrap  \n",
       "342  Chinstrap  \n",
       "343  Chinstrap  \n",
       "\n",
       "[344 rows x 7 columns]"
      ]
     },
     "execution_count": 188,
     "metadata": {},
     "output_type": "execute_result"
    }
   ],
   "source": [
    "df_joined"
   ]
  },
  {
   "cell_type": "markdown",
   "id": "ea89e480-cd1a-4db7-8a2f-adad87b518b7",
   "metadata": {},
   "source": [
    "## Q4"
   ]
  },
  {
   "cell_type": "code",
   "execution_count": 189,
   "id": "b0052b72-60dd-4e72-95a9-a921ac86d5ad",
   "metadata": {
    "tags": []
   },
   "outputs": [],
   "source": [
    "from sklearn.preprocessing import LabelEncoder"
   ]
  },
  {
   "cell_type": "code",
   "execution_count": 190,
   "id": "a7544145-348f-4218-96f9-4a7d700fb1c0",
   "metadata": {
    "tags": []
   },
   "outputs": [
    {
     "data": {
      "text/plain": [
       "'species'"
      ]
     },
     "execution_count": 190,
     "metadata": {},
     "output_type": "execute_result"
    }
   ],
   "source": [
    "df.columns[-1]"
   ]
  },
  {
   "cell_type": "code",
   "execution_count": 191,
   "id": "8beb5218-7f01-420c-ada5-c45a24d27f1a",
   "metadata": {
    "tags": []
   },
   "outputs": [
    {
     "data": {
      "text/html": [
       "<div>\n",
       "<style scoped>\n",
       "    .dataframe tbody tr th:only-of-type {\n",
       "        vertical-align: middle;\n",
       "    }\n",
       "\n",
       "    .dataframe tbody tr th {\n",
       "        vertical-align: top;\n",
       "    }\n",
       "\n",
       "    .dataframe thead th {\n",
       "        text-align: right;\n",
       "    }\n",
       "</style>\n",
       "<table border=\"1\" class=\"dataframe\">\n",
       "  <thead>\n",
       "    <tr style=\"text-align: right;\">\n",
       "      <th></th>\n",
       "      <th>bill_len</th>\n",
       "      <th>bill_depth</th>\n",
       "      <th>flipper_len</th>\n",
       "      <th>body_mass</th>\n",
       "      <th>island</th>\n",
       "      <th>sex</th>\n",
       "      <th>species</th>\n",
       "    </tr>\n",
       "  </thead>\n",
       "  <tbody>\n",
       "    <tr>\n",
       "      <th>0</th>\n",
       "      <td>39.10000</td>\n",
       "      <td>18.70000</td>\n",
       "      <td>181.000000</td>\n",
       "      <td>3750.000000</td>\n",
       "      <td>2</td>\n",
       "      <td>1</td>\n",
       "      <td>0</td>\n",
       "    </tr>\n",
       "    <tr>\n",
       "      <th>1</th>\n",
       "      <td>39.50000</td>\n",
       "      <td>17.40000</td>\n",
       "      <td>186.000000</td>\n",
       "      <td>3800.000000</td>\n",
       "      <td>2</td>\n",
       "      <td>0</td>\n",
       "      <td>0</td>\n",
       "    </tr>\n",
       "    <tr>\n",
       "      <th>2</th>\n",
       "      <td>40.30000</td>\n",
       "      <td>18.00000</td>\n",
       "      <td>195.000000</td>\n",
       "      <td>3250.000000</td>\n",
       "      <td>2</td>\n",
       "      <td>0</td>\n",
       "      <td>0</td>\n",
       "    </tr>\n",
       "    <tr>\n",
       "      <th>3</th>\n",
       "      <td>43.92193</td>\n",
       "      <td>17.15117</td>\n",
       "      <td>200.915205</td>\n",
       "      <td>4201.754386</td>\n",
       "      <td>2</td>\n",
       "      <td>1</td>\n",
       "      <td>0</td>\n",
       "    </tr>\n",
       "    <tr>\n",
       "      <th>4</th>\n",
       "      <td>36.70000</td>\n",
       "      <td>19.30000</td>\n",
       "      <td>193.000000</td>\n",
       "      <td>3450.000000</td>\n",
       "      <td>2</td>\n",
       "      <td>0</td>\n",
       "      <td>0</td>\n",
       "    </tr>\n",
       "    <tr>\n",
       "      <th>...</th>\n",
       "      <td>...</td>\n",
       "      <td>...</td>\n",
       "      <td>...</td>\n",
       "      <td>...</td>\n",
       "      <td>...</td>\n",
       "      <td>...</td>\n",
       "      <td>...</td>\n",
       "    </tr>\n",
       "    <tr>\n",
       "      <th>339</th>\n",
       "      <td>55.80000</td>\n",
       "      <td>19.80000</td>\n",
       "      <td>207.000000</td>\n",
       "      <td>4000.000000</td>\n",
       "      <td>1</td>\n",
       "      <td>1</td>\n",
       "      <td>1</td>\n",
       "    </tr>\n",
       "    <tr>\n",
       "      <th>340</th>\n",
       "      <td>43.50000</td>\n",
       "      <td>18.10000</td>\n",
       "      <td>202.000000</td>\n",
       "      <td>3400.000000</td>\n",
       "      <td>1</td>\n",
       "      <td>0</td>\n",
       "      <td>1</td>\n",
       "    </tr>\n",
       "    <tr>\n",
       "      <th>341</th>\n",
       "      <td>49.60000</td>\n",
       "      <td>18.20000</td>\n",
       "      <td>193.000000</td>\n",
       "      <td>3775.000000</td>\n",
       "      <td>1</td>\n",
       "      <td>1</td>\n",
       "      <td>1</td>\n",
       "    </tr>\n",
       "    <tr>\n",
       "      <th>342</th>\n",
       "      <td>50.80000</td>\n",
       "      <td>19.00000</td>\n",
       "      <td>210.000000</td>\n",
       "      <td>4100.000000</td>\n",
       "      <td>1</td>\n",
       "      <td>1</td>\n",
       "      <td>1</td>\n",
       "    </tr>\n",
       "    <tr>\n",
       "      <th>343</th>\n",
       "      <td>50.20000</td>\n",
       "      <td>18.70000</td>\n",
       "      <td>198.000000</td>\n",
       "      <td>3775.000000</td>\n",
       "      <td>1</td>\n",
       "      <td>0</td>\n",
       "      <td>1</td>\n",
       "    </tr>\n",
       "  </tbody>\n",
       "</table>\n",
       "<p>344 rows × 7 columns</p>\n",
       "</div>"
      ],
      "text/plain": [
       "     bill_len  bill_depth  flipper_len    body_mass  island  sex  species\n",
       "0    39.10000    18.70000   181.000000  3750.000000       2    1        0\n",
       "1    39.50000    17.40000   186.000000  3800.000000       2    0        0\n",
       "2    40.30000    18.00000   195.000000  3250.000000       2    0        0\n",
       "3    43.92193    17.15117   200.915205  4201.754386       2    1        0\n",
       "4    36.70000    19.30000   193.000000  3450.000000       2    0        0\n",
       "..        ...         ...          ...          ...     ...  ...      ...\n",
       "339  55.80000    19.80000   207.000000  4000.000000       1    1        1\n",
       "340  43.50000    18.10000   202.000000  3400.000000       1    0        1\n",
       "341  49.60000    18.20000   193.000000  3775.000000       1    1        1\n",
       "342  50.80000    19.00000   210.000000  4100.000000       1    1        1\n",
       "343  50.20000    18.70000   198.000000  3775.000000       1    0        1\n",
       "\n",
       "[344 rows x 7 columns]"
      ]
     },
     "execution_count": 191,
     "metadata": {},
     "output_type": "execute_result"
    }
   ],
   "source": [
    "df_encoded = df_joined.copy()\n",
    "le = LabelEncoder()\n",
    "df_encoded['island'] = le.fit_transform(df_joined['island'])\n",
    "df_encoded['sex'] = le.fit_transform(df_joined['sex'])\n",
    "df_encoded['species'] = le.fit_transform(df_joined['species'])\n",
    "df_encoded"
   ]
  },
  {
   "cell_type": "markdown",
   "id": "77acf2fa-8ac5-4033-bca5-785a6c421750",
   "metadata": {
    "tags": []
   },
   "source": [
    "## Q5"
   ]
  },
  {
   "cell_type": "markdown",
   "id": "1096b1bc-5570-4f37-a2cd-2267a073ce1e",
   "metadata": {
    "tags": []
   },
   "source": [
    "<div style=\"direction:rtl\"> \n",
    "داده‌افزایی (افزایش داده)، در داده‌کاوی، به سازوکارهایی برای افزایش شمارِ داده‌ها گفته می‌شود. داده‌های تازه با ساختن رونوشت‌ها و نمونه‌هایی از داده‌های کنونی (دردسترس)، یا ساخت داده‌هایی با الگوگرفتن از داده‌های کنونی (کمی ناهمسان)، ساخته می‌شوند. شیوه‌ی داده‌افزایی را می‌توان یک رگولارایزر (همترازکننده) دانست، که راه‌کاری است برای چالشِ بیش‌برازش در زمان آموزش یک الگوی (مدل) یادگیری ماشین.\n",
    "\n",
    "- افزایش داده های صوتی\n",
    "\n",
    "تزریق نویز: برای بهبود عملکرد مدل، نویز گاوسی یا تصادفی را به مجموعه داده صوتی اضافه کنید.\n",
    "\n",
    "جابجایی: انتقال صدا به چپ (سریع به جلو) یا راست با ثانیه های تصادفی.\n",
    "\n",
    "تغییر سرعت: سری های زمانی را با نرخ ثابتی افزایش می دهد.\n",
    "\n",
    "تغییر زیر و بم: به طور تصادفی زیر و بم صدا را تغییر دهید.\n",
    "\n",
    "- افزایش داده های متنی\n",
    "\n",
    "تغییر کلمه یا جمله: تغییر تصادفی موقعیت یک کلمه یا جمله.\n",
    "\n",
    "جایگزینی کلمه: جایگزین کلمات با مترادف.\n",
    "\n",
    "دستکاری درخت نحو: جمله را با استفاده از همان کلمه بازنویسی کنید.\n",
    "درج کلمه تصادفی: کلمات را به صورت تصادفی درج می کند.\n",
    "\n",
    "حذف تصادفی کلمه: کلمات را به صورت تصادفی حذف می کند.\n",
    "\n",
    "- تقویت تصویر\n",
    "\n",
    "تغییرات هندسی: به طور تصادفی ورق زدن، برش، چرخش، کشش و بزرگنمایی تصاویر. باید \n",
    "مراقب اعمال چندین تغییر شکل روی تصاویر مشابه باشید، زیرا این کار می تواند \n",
    "عملکرد مدل را کاهش دهد.\n",
    "\n",
    "تغییر فضای رنگ: به طور تصادفی کانال های رنگ، کنتراست و روشنایی RGB را تغییر دهید.\n",
    "\n",
    "فیلترهای هسته: به طور تصادفی وضوح یا تاری تصویر را تغییر می دهند.\n",
    "\n",
    "پاک کردن تصادفی: بخشی از تصویر اولیه را حذف کنید.\n",
    "\n",
    "اختلاط تصاویر: ترکیب و ترکیب چندین تصویر.\n",
    "\n",
    "تقویت داده ها فقط در مجموعه آموزشی انجام می شود زیرا به تعمیم و استحکام مدل کمک می کند. بنابراین هیچ فایده ای برای افزایش مجموعه تست وجود ندارد.\n",
    "</div>"
   ]
  },
  {
   "cell_type": "markdown",
   "id": "a51c4096-f3f4-4b52-acc6-8acb32ad10c3",
   "metadata": {},
   "source": [
    "## Q6"
   ]
  },
  {
   "cell_type": "markdown",
   "id": "7e23f27e-3e9c-4807-a3f0-3fc9cd9d7fce",
   "metadata": {},
   "source": [
    "<div style=\"direction:rtl\"> \n",
    "آپ سمپلسنگ رویه ای است که در آن نقاط داده تولید شده مصنوعی (مرتبط با کلاس اقلیت) به مجموعه داده تزریق می شود. پس از این فرآیند، تعداد هر دو برچسب تقریباً یکسان است. این روش یکسان سازی از تمایل مدل به سمت طبقه اکثریت جلوگیری می کند. علاوه بر این، تعامل (خط مرزی) بین کلاس های هدف تغییر می کند. و همچنین، مکانیسم upsampling به دلیل اطلاعات اضافی، سوگیری را به سیستم وارد می کند.\n",
    "</div>"
   ]
  },
  {
   "cell_type": "markdown",
   "id": "5ab0f61b-12e8-476e-b06c-05f4472dc033",
   "metadata": {},
   "source": [
    "<div style=\"direction:rtl\"> \n",
    "پایین‌نمونه‌سازی مکانیزمی است که تعداد نمونه‌های آموزشی را که در طبقه اکثریت قرار می‌گیرند کاهش می‌دهد. زیرا به افزایش تعداد دسته‌های هدف کمک می‌کند. با حذف داده‌های جمع‌آوری‌شده، اطلاعات ارزشمند زیادی را از دست می‌دهیم.\n",
    "</div>"
   ]
  },
  {
   "cell_type": "markdown",
   "id": "5c81ae98-509d-40d6-ad82-f0039b7d2251",
   "metadata": {},
   "source": [
    "## Q7"
   ]
  },
  {
   "cell_type": "markdown",
   "id": "b5694c0e-1e6c-493f-b4ce-0ef493770e5f",
   "metadata": {},
   "source": [
    "### SMOTETomek"
   ]
  },
  {
   "cell_type": "markdown",
   "id": "252b69bf-4bea-4a8e-9da0-9b140ab1eca9",
   "metadata": {
    "tags": []
   },
   "source": [
    "<div style=\"direction:rtl\"> \n",
    "این روش ترکیبی از توانایی SMOTE برای تولید داده‌های مصنوعی برای کلاس اقلیت و توانایی Tomek Links برای حذف داده‌هایی است که به عنوان پیوندهای Tomek این روش روشی برای انجام down sampling, up sampling می باشد. از کلاس اکثریت (یعنی نمونه‌هایی از داده‌های کلاس اکثریت نزدیک‌ترین به داده‌های کلاس اقلیت هستند) ). فرآیند پیوندهای SMOTE-Tomek به شرح زیر است.\n",
    "\n",
    "1- (شروع SMOTE) داده های تصادفی را از کلاس اقلیت انتخاب کنید.\n",
    "\n",
    "2- فاصله بین داده های تصادفی و k نزدیکترین همسایه آن را محاسبه کنید.\n",
    "\n",
    "3- اختلاف را با یک عدد تصادفی بین 0 و 1 ضرب کنید سپس نتیجه را به عنوان نمونه مصنوعی به کلاس اقلیت اضافه کنید.\n",
    "\n",
    "3- مرحله شماره 2-3 را تکرار کنید تا نسبت مورد نظر طبقه اقلیت برآورده شود. (پایان SMOTE)\n",
    "\n",
    "4- (شروع پیوندهای Tomek) داده های تصادفی را از کلاس اکثریت انتخاب کنید.\n",
    "\n",
    "5- اگر نزدیکترین همسایه داده های تصادفی، داده های کلاس اقلیت است (یعنی ایجاد پیوند Tomek)، سپس پیوند Tomek را حذف کنید."
   ]
  },
  {
   "cell_type": "markdown",
   "id": "d4f43c05-90aa-4418-9f06-e2753284321c",
   "metadata": {},
   "source": [
    "### ‫‪Smoteenn‬‬"
   ]
  },
  {
   "cell_type": "markdown",
   "id": "eaa8cc81-c517-4fa6-b1c5-7fbf71add3fd",
   "metadata": {
    "tags": []
   },
   "source": [
    "<div style=\"direction:rtl\"> \n",
    "این روش ترکیبی از توانایی SMOTE برای تولید نمونه‌های مصنوعی برای کلاس اقلیت و توانایی ENN برای حذف برخی مشاهدات از هر دو کلاس است که دارای کلاس متفاوتی بین کلاس مشاهده و کلاس اکثریت K-نزدیک‌ترین همسایه آن هستند. فرآیند SMOTE-ENN را می توان به صورت زیر توضیح داد.\n",
    "\n",
    "1- (شروع SMOTE) داده های تصادفی را از کلاس اقلیت انتخاب کنید.\n",
    "\n",
    "2- فاصله بین داده های تصادفی و k نزدیکترین همسایه آن را محاسبه کنید.\n",
    "\n",
    "3- اختلاف را با یک عدد تصادفی بین 0 و 1 ضرب کنید سپس نتیجه را به عنوان نمونه مصنوعی به کلاس اقلیت اضافه کنید.\n",
    "\n",
    "4- مرحله شماره 2-3 را تکرار کنید تا نسبت مورد نظر طبقه اقلیت برآورده شود. (پایان SMOTE)\n",
    "\n",
    "5- (شروع ENN) K را به عنوان تعداد نزدیکترین همسایگان تعیین کنید. اگر تعیین نشد، K=3.\n",
    "\n",
    "6- K-نزدیک ترین همسایه مشاهده را از بین مشاهدات دیگر در مجموعه داده پیدا کنید، سپس کلاس اکثریت را از K-nearest همسایه برگردانید.\n",
    "\n",
    "7- اگر کلاس مشاهده و کلاس اکثریت از K-نزدیک ترین همسایه مشاهده متفاوت باشد، مشاهده و K-نزدیک ترین همسایه آن از مجموعه داده حذف می شود.\n",
    "\n",
    "8- مراحل 2 و 3 را تکرار کنید تا نسبت مورد نظر هر کلاس برآورده شود. (پایان ENN)\n"
   ]
  },
  {
   "cell_type": "markdown",
   "id": "fef497f8",
   "metadata": {},
   "source": [
    "<div style=\"direction:rtl\"> \n",
    "در روش ترکیبی افزایش اندازه و کاهش اندازه معمولا به این صورت انجام می‌شود که ابتدا سیگنال ورودی با نرخ نمونه‌برداری بالا به نرخ نمونه‌برداری کمتری کاهش داده می‌شود، سپس پردازشی روی سیگنال کاهش یافته اعمال می‌شود و در نهایت سیگنال پردازش شده با نرخ نمونه‌برداری اولیه دوباره بزرگ شده و بازیابی می‌شود."
   ]
  },
  {
   "cell_type": "markdown",
   "id": "5d1a2d6a",
   "metadata": {},
   "source": [
    "\n",
    "<div style=\"direction:rtl\"> \n",
    "دو روش SMOTETomek و SMOTEENN هر دو از ترکیب دو روش oversampling و undersampling برای مقابله با مشکل ایجاد تعادل در داده‌های دوتایی استفاده می‌کنند. در هر دو روش، ابتدا روش undersampling برای حذف نمونه‌های اکثریتی (مثلا نمونه‌های اقلیتی را حفظ می‌کنند و نمونه‌های اکثریتی را حذف می‌کنند) اعمال می‌شود و سپس با استفاده از روش oversampling (مثلا SMOTE)، نمونه‌های اقلیتی جدیدی ایجاد می‌شوند."
   ]
  },
  {
   "cell_type": "markdown",
   "id": "00dd1917-7321-4fa7-9669-80d5ef8057b4",
   "metadata": {},
   "source": [
    "## Q8"
   ]
  },
  {
   "cell_type": "code",
   "execution_count": 304,
   "id": "1a49e794-a38b-4981-bc04-1a8c8c08f04f",
   "metadata": {
    "tags": []
   },
   "outputs": [],
   "source": [
    "import seaborn as sns\n",
    "from collections import Counter"
   ]
  },
  {
   "cell_type": "code",
   "execution_count": 305,
   "id": "4afe53f6-15d8-4ab2-9d8d-5e305230fcaf",
   "metadata": {
    "tags": []
   },
   "outputs": [],
   "source": [
    "df_tobe_aug = df_encoded.copy()"
   ]
  },
  {
   "cell_type": "code",
   "execution_count": 306,
   "id": "ea0b6f36-48ce-4b46-b253-7377bd04ac70",
   "metadata": {
    "tags": []
   },
   "outputs": [
    {
     "name": "stdout",
     "output_type": "stream",
     "text": [
      "init: Counter({0: 152, 2: 124, 1: 68})\n"
     ]
    }
   ],
   "source": [
    "print(f\"init: {Counter(df_tobe_aug['species'])}\")"
   ]
  },
  {
   "cell_type": "code",
   "execution_count": 307,
   "id": "539bac18-e930-485a-b698-91ff022a3c32",
   "metadata": {
    "tags": []
   },
   "outputs": [
    {
     "data": {
      "text/plain": [
       "<AxesSubplot: xlabel='species', ylabel='count'>"
      ]
     },
     "execution_count": 307,
     "metadata": {},
     "output_type": "execute_result"
    },
    {
     "data": {
      "image/png": "[encoded data removed]",
      "text/plain": [
       "<Figure size 640x480 with 1 Axes>"
      ]
     },
     "metadata": {},
     "output_type": "display_data"
    }
   ],
   "source": [
    "sns.countplot(x=df_tobe_aug['species'], data=df_tobe_aug)"
   ]
  },
  {
   "cell_type": "code",
   "execution_count": 308,
   "id": "f455a1f4-48de-47d1-b3b0-473e06d27306",
   "metadata": {
    "tags": []
   },
   "outputs": [],
   "source": [
    "df_tobe_aug = df_tobe_aug.drop(df_tobe_aug[df_tobe_aug['species'] == 0].sample(frac=.9).index)"
   ]
  },
  {
   "cell_type": "code",
   "execution_count": 309,
   "id": "3ec88f21-c0a1-4e72-8c56-3072e1eb7dc5",
   "metadata": {
    "tags": []
   },
   "outputs": [
    {
     "name": "stdout",
     "output_type": "stream",
     "text": [
      " after removong 90% of class 1: Counter({2: 124, 1: 68, 0: 15})\n"
     ]
    }
   ],
   "source": [
    "print(f\" after removong 90% of class 1: {Counter(df_tobe_aug['species'])}\")"
   ]
  },
  {
   "cell_type": "code",
   "execution_count": 310,
   "id": "a222ad5b-5ddc-4c1e-87ae-9741e38ef6f0",
   "metadata": {
    "tags": []
   },
   "outputs": [
    {
     "data": {
      "text/plain": [
       "<AxesSubplot: xlabel='species', ylabel='count'>"
      ]
     },
     "execution_count": 310,
     "metadata": {},
     "output_type": "execute_result"
    },
    {
     "data": {
      "image/png": "[encoded data removed]",
      "text/plain": [
       "<Figure size 640x480 with 1 Axes>"
      ]
     },
     "metadata": {},
     "output_type": "display_data"
    }
   ],
   "source": [
    "sns.countplot(x=df_tobe_aug['species'], data=df_tobe_aug)"
   ]
  },
  {
   "cell_type": "markdown",
   "id": "345cb698-fca0-4d10-9cfd-6ed2843471ca",
   "metadata": {},
   "source": [
    "### SMOTETomek"
   ]
  },
  {
   "cell_type": "code",
   "execution_count": 311,
   "id": "743c70c4-f877-489d-b1f6-e09e06017484",
   "metadata": {
    "tags": []
   },
   "outputs": [],
   "source": [
    "from imblearn.combine import SMOTETomek\n",
    "smt = SMOTETomek(random_state=42)\n",
    "X_res, y_res = smt.fit_resample(df_tobe_aug.loc[:, df_tobe_aug.columns != 'species'], df_tobe_aug['species'])\n",
    "new_x = pd.DataFrame(X_res, columns=df.columns[:-1])\n",
    "new_y = pd.DataFrame(y_res, columns=['species'])\n",
    "df_aug_1 = pd.concat([new_x, new_y], axis = 1)"
   ]
  },
  {
   "cell_type": "code",
   "execution_count": 312,
   "id": "73ca54b7-e4a8-48dc-8502-6c9a39908196",
   "metadata": {
    "tags": []
   },
   "outputs": [
    {
     "name": "stdout",
     "output_type": "stream",
     "text": [
      " after aug 1: Counter({2: 122, 0: 120, 1: 118})\n"
     ]
    }
   ],
   "source": [
    "print(f\" after aug 1: {Counter(df_aug_1['species'])}\")"
   ]
  },
  {
   "cell_type": "code",
   "execution_count": 313,
   "id": "478741b2-9a19-435b-a1a2-f9d79d57a243",
   "metadata": {
    "tags": []
   },
   "outputs": [
    {
     "data": {
      "text/plain": [
       "<AxesSubplot: xlabel='species', ylabel='count'>"
      ]
     },
     "execution_count": 313,
     "metadata": {},
     "output_type": "execute_result"
    },
    {
     "data": {
      "image/png": "[encoded data removed]",
      "text/plain": [
       "<Figure size 640x480 with 1 Axes>"
      ]
     },
     "metadata": {},
     "output_type": "display_data"
    }
   ],
   "source": [
    "sns.countplot(x=df_aug_1['species'], data=df_aug_1)"
   ]
  },
  {
   "cell_type": "markdown",
   "id": "af3f74fc-33f7-4a71-9674-11bdd3857b1b",
   "metadata": {},
   "source": [
    "### ‫‪Smoteenn‬‬"
   ]
  },
  {
   "cell_type": "code",
   "execution_count": 317,
   "id": "b1500430-4e18-470e-9501-1b1ce78de589",
   "metadata": {
    "tags": []
   },
   "outputs": [
    {
     "name": "stdout",
     "output_type": "stream",
     "text": [
      "init: Counter({2: 124, 1: 68, 0: 15})\n"
     ]
    }
   ],
   "source": [
    "print(f\"init: {Counter(df_tobe_aug['species'])}\")"
   ]
  },
  {
   "cell_type": "code",
   "execution_count": 314,
   "id": "759e6248-dc44-4dce-b705-425a9bc04766",
   "metadata": {
    "tags": []
   },
   "outputs": [],
   "source": [
    "from imblearn.combine import SMOTEENN\n",
    "smt = SMOTEENN(random_state=42)\n",
    "X_res, y_res = smt.fit_resample(df_tobe_aug.loc[:, df_tobe_aug.columns != 'species'], df_tobe_aug['species'])\n",
    "new_x = pd.DataFrame(X_res, columns=df.columns[:-1])\n",
    "new_y = pd.DataFrame(y_res, columns=['species'])\n",
    "df_aug_2 = pd.concat([new_x, new_y], axis = 1)"
   ]
  },
  {
   "cell_type": "code",
   "execution_count": 315,
   "id": "93a04a53-6705-4303-8d2f-1d5e762f25ee",
   "metadata": {
    "tags": []
   },
   "outputs": [
    {
     "name": "stdout",
     "output_type": "stream",
     "text": [
      " after aug 2: Counter({2: 109, 0: 87, 1: 74})\n"
     ]
    }
   ],
   "source": [
    "print(f\" after aug 2: {Counter(df_aug_2['species'])}\")"
   ]
  },
  {
   "cell_type": "code",
   "execution_count": 316,
   "id": "a2ad400c-3bdc-4c2f-90e0-1510ac526dc4",
   "metadata": {
    "tags": []
   },
   "outputs": [
    {
     "data": {
      "text/plain": [
       "<AxesSubplot: xlabel='species', ylabel='count'>"
      ]
     },
     "execution_count": 316,
     "metadata": {},
     "output_type": "execute_result"
    },
    {
     "data": {
      "image/png": "[encoded data removed]",
      "text/plain": [
       "<Figure size 640x480 with 1 Axes>"
      ]
     },
     "metadata": {},
     "output_type": "display_data"
    }
   ],
   "source": [
    "sns.countplot(x=df_aug_2['species'], data=df_aug_2)"
   ]
  },
  {
   "cell_type": "markdown",
   "id": "dca11214-8b2a-43b3-96e8-d1a1bf44c635",
   "metadata": {},
   "source": [
    "## Q9"
   ]
  },
  {
   "cell_type": "code",
   "execution_count": 376,
   "id": "7cf333d3-5312-4bf1-881c-aa1add659d7a",
   "metadata": {
    "tags": []
   },
   "outputs": [
    {
     "data": {
      "text/html": [
       "<div>\n",
       "<style scoped>\n",
       "    .dataframe tbody tr th:only-of-type {\n",
       "        vertical-align: middle;\n",
       "    }\n",
       "\n",
       "    .dataframe tbody tr th {\n",
       "        vertical-align: top;\n",
       "    }\n",
       "\n",
       "    .dataframe thead th {\n",
       "        text-align: right;\n",
       "    }\n",
       "</style>\n",
       "<table border=\"1\" class=\"dataframe\">\n",
       "  <thead>\n",
       "    <tr style=\"text-align: right;\">\n",
       "      <th></th>\n",
       "      <th>bill_len</th>\n",
       "      <th>bill_depth</th>\n",
       "      <th>flipper_len</th>\n",
       "      <th>body_mass</th>\n",
       "      <th>island</th>\n",
       "      <th>sex</th>\n",
       "      <th>species</th>\n",
       "    </tr>\n",
       "  </thead>\n",
       "  <tbody>\n",
       "    <tr>\n",
       "      <th>count</th>\n",
       "      <td>344.000000</td>\n",
       "      <td>344.000000</td>\n",
       "      <td>344.000000</td>\n",
       "      <td>344.000000</td>\n",
       "      <td>344.000000</td>\n",
       "      <td>344.000000</td>\n",
       "      <td>344.000000</td>\n",
       "    </tr>\n",
       "    <tr>\n",
       "      <th>mean</th>\n",
       "      <td>43.921930</td>\n",
       "      <td>17.151170</td>\n",
       "      <td>200.915205</td>\n",
       "      <td>4201.754386</td>\n",
       "      <td>0.662791</td>\n",
       "      <td>0.520349</td>\n",
       "      <td>0.918605</td>\n",
       "    </tr>\n",
       "    <tr>\n",
       "      <th>std</th>\n",
       "      <td>5.443643</td>\n",
       "      <td>1.969027</td>\n",
       "      <td>14.020657</td>\n",
       "      <td>799.613058</td>\n",
       "      <td>0.726194</td>\n",
       "      <td>0.500313</td>\n",
       "      <td>0.893320</td>\n",
       "    </tr>\n",
       "    <tr>\n",
       "      <th>min</th>\n",
       "      <td>32.100000</td>\n",
       "      <td>13.100000</td>\n",
       "      <td>172.000000</td>\n",
       "      <td>2700.000000</td>\n",
       "      <td>0.000000</td>\n",
       "      <td>0.000000</td>\n",
       "      <td>0.000000</td>\n",
       "    </tr>\n",
       "    <tr>\n",
       "      <th>25%</th>\n",
       "      <td>39.275000</td>\n",
       "      <td>15.600000</td>\n",
       "      <td>190.000000</td>\n",
       "      <td>3550.000000</td>\n",
       "      <td>0.000000</td>\n",
       "      <td>0.000000</td>\n",
       "      <td>0.000000</td>\n",
       "    </tr>\n",
       "    <tr>\n",
       "      <th>50%</th>\n",
       "      <td>44.250000</td>\n",
       "      <td>17.300000</td>\n",
       "      <td>197.000000</td>\n",
       "      <td>4050.000000</td>\n",
       "      <td>1.000000</td>\n",
       "      <td>1.000000</td>\n",
       "      <td>1.000000</td>\n",
       "    </tr>\n",
       "    <tr>\n",
       "      <th>75%</th>\n",
       "      <td>48.500000</td>\n",
       "      <td>18.700000</td>\n",
       "      <td>213.000000</td>\n",
       "      <td>4750.000000</td>\n",
       "      <td>1.000000</td>\n",
       "      <td>1.000000</td>\n",
       "      <td>2.000000</td>\n",
       "    </tr>\n",
       "    <tr>\n",
       "      <th>max</th>\n",
       "      <td>59.600000</td>\n",
       "      <td>21.500000</td>\n",
       "      <td>231.000000</td>\n",
       "      <td>6300.000000</td>\n",
       "      <td>2.000000</td>\n",
       "      <td>1.000000</td>\n",
       "      <td>2.000000</td>\n",
       "    </tr>\n",
       "  </tbody>\n",
       "</table>\n",
       "</div>"
      ],
      "text/plain": [
       "         bill_len  bill_depth  flipper_len    body_mass      island  \\\n",
       "count  344.000000  344.000000   344.000000   344.000000  344.000000   \n",
       "mean    43.921930   17.151170   200.915205  4201.754386    0.662791   \n",
       "std      5.443643    1.969027    14.020657   799.613058    0.726194   \n",
       "min     32.100000   13.100000   172.000000  2700.000000    0.000000   \n",
       "25%     39.275000   15.600000   190.000000  3550.000000    0.000000   \n",
       "50%     44.250000   17.300000   197.000000  4050.000000    1.000000   \n",
       "75%     48.500000   18.700000   213.000000  4750.000000    1.000000   \n",
       "max     59.600000   21.500000   231.000000  6300.000000    2.000000   \n",
       "\n",
       "              sex     species  \n",
       "count  344.000000  344.000000  \n",
       "mean     0.520349    0.918605  \n",
       "std      0.500313    0.893320  \n",
       "min      0.000000    0.000000  \n",
       "25%      0.000000    0.000000  \n",
       "50%      1.000000    1.000000  \n",
       "75%      1.000000    2.000000  \n",
       "max      1.000000    2.000000  "
      ]
     },
     "execution_count": 376,
     "metadata": {},
     "output_type": "execute_result"
    }
   ],
   "source": [
    "df_encoded.describe()"
   ]
  },
  {
   "cell_type": "code",
   "execution_count": 377,
   "id": "fcc8169c-a148-49fa-b23d-2cebf3151e17",
   "metadata": {
    "tags": []
   },
   "outputs": [
    {
     "data": {
      "text/plain": [
       "bill_len         43.921930\n",
       "bill_depth       17.151170\n",
       "flipper_len     200.915205\n",
       "body_mass      4201.754386\n",
       "island            0.662791\n",
       "sex               0.520349\n",
       "species           0.918605\n",
       "dtype: float64"
      ]
     },
     "execution_count": 377,
     "metadata": {},
     "output_type": "execute_result"
    }
   ],
   "source": [
    "df_encoded.mean()"
   ]
  },
  {
   "cell_type": "code",
   "execution_count": 378,
   "id": "19f5d6a7-dce4-438e-b64d-1138ee89e79c",
   "metadata": {
    "tags": []
   },
   "outputs": [
    {
     "data": {
      "text/plain": [
       "bill_len         5.443643\n",
       "bill_depth       1.969027\n",
       "flipper_len     14.020657\n",
       "body_mass      799.613058\n",
       "island           0.726194\n",
       "sex              0.500313\n",
       "species          0.893320\n",
       "dtype: float64"
      ]
     },
     "execution_count": 378,
     "metadata": {},
     "output_type": "execute_result"
    }
   ],
   "source": [
    "df_encoded.std()"
   ]
  },
  {
   "cell_type": "code",
   "execution_count": 379,
   "id": "d4cf9cf8-d9db-4c76-9e78-caf30b688c21",
   "metadata": {
    "tags": []
   },
   "outputs": [],
   "source": [
    "from sklearn.preprocessing import StandardScaler"
   ]
  },
  {
   "cell_type": "code",
   "execution_count": 380,
   "id": "09a75060-22a4-48f3-a959-2a9fcb12dc7c",
   "metadata": {
    "tags": []
   },
   "outputs": [],
   "source": [
    "scaler = StandardScaler()\n",
    "df_normalized = pd.DataFrame(scaler.fit_transform(df_encoded.loc[:, df_tobe_aug.columns != 'species']), columns=df.columns[:-1])\n",
    "df_normalized = pd.concat([df_normalized, df_encoded['species']], axis = 1)"
   ]
  },
  {
   "cell_type": "code",
   "execution_count": 381,
   "id": "a77b41af-146a-4ecc-8e9c-754bb4731b69",
   "metadata": {
    "tags": []
   },
   "outputs": [
    {
     "data": {
      "text/html": [
       "<div>\n",
       "<style scoped>\n",
       "    .dataframe tbody tr th:only-of-type {\n",
       "        vertical-align: middle;\n",
       "    }\n",
       "\n",
       "    .dataframe tbody tr th {\n",
       "        vertical-align: top;\n",
       "    }\n",
       "\n",
       "    .dataframe thead th {\n",
       "        text-align: right;\n",
       "    }\n",
       "</style>\n",
       "<table border=\"1\" class=\"dataframe\">\n",
       "  <thead>\n",
       "    <tr style=\"text-align: right;\">\n",
       "      <th></th>\n",
       "      <th>island</th>\n",
       "      <th>bill_len</th>\n",
       "      <th>bill_depth</th>\n",
       "      <th>flipper_len</th>\n",
       "      <th>body_mass</th>\n",
       "      <th>sex</th>\n",
       "      <th>species</th>\n",
       "    </tr>\n",
       "  </thead>\n",
       "  <tbody>\n",
       "    <tr>\n",
       "      <th>count</th>\n",
       "      <td>3.440000e+02</td>\n",
       "      <td>3.440000e+02</td>\n",
       "      <td>3.440000e+02</td>\n",
       "      <td>3.440000e+02</td>\n",
       "      <td>3.440000e+02</td>\n",
       "      <td>3.440000e+02</td>\n",
       "      <td>344.000000</td>\n",
       "    </tr>\n",
       "    <tr>\n",
       "      <th>mean</th>\n",
       "      <td>-1.156697e-15</td>\n",
       "      <td>4.131062e-16</td>\n",
       "      <td>-8.262125e-16</td>\n",
       "      <td>8.262125e-17</td>\n",
       "      <td>8.262125e-17</td>\n",
       "      <td>-6.454785e-18</td>\n",
       "      <td>0.918605</td>\n",
       "    </tr>\n",
       "    <tr>\n",
       "      <th>std</th>\n",
       "      <td>1.001457e+00</td>\n",
       "      <td>1.001457e+00</td>\n",
       "      <td>1.001457e+00</td>\n",
       "      <td>1.001457e+00</td>\n",
       "      <td>1.001457e+00</td>\n",
       "      <td>1.001457e+00</td>\n",
       "      <td>0.893320</td>\n",
       "    </tr>\n",
       "    <tr>\n",
       "      <th>min</th>\n",
       "      <td>-2.174858e+00</td>\n",
       "      <td>-2.060444e+00</td>\n",
       "      <td>-2.065333e+00</td>\n",
       "      <td>-1.880837e+00</td>\n",
       "      <td>-9.140204e-01</td>\n",
       "      <td>-1.041561e+00</td>\n",
       "      <td>0.000000</td>\n",
       "    </tr>\n",
       "    <tr>\n",
       "      <th>25%</th>\n",
       "      <td>-8.548868e-01</td>\n",
       "      <td>-7.889322e-01</td>\n",
       "      <td>-7.796428e-01</td>\n",
       "      <td>-8.162745e-01</td>\n",
       "      <td>-9.140204e-01</td>\n",
       "      <td>-1.041561e+00</td>\n",
       "      <td>0.000000</td>\n",
       "    </tr>\n",
       "    <tr>\n",
       "      <th>50%</th>\n",
       "      <td>6.035444e-02</td>\n",
       "      <td>7.569585e-02</td>\n",
       "      <td>-2.796522e-01</td>\n",
       "      <td>-1.900612e-01</td>\n",
       "      <td>4.650279e-01</td>\n",
       "      <td>9.600978e-01</td>\n",
       "      <td>1.000000</td>\n",
       "    </tr>\n",
       "    <tr>\n",
       "      <th>75%</th>\n",
       "      <td>8.422188e-01</td>\n",
       "      <td>7.877425e-01</td>\n",
       "      <td>8.631834e-01</td>\n",
       "      <td>6.866374e-01</td>\n",
       "      <td>4.650279e-01</td>\n",
       "      <td>9.600978e-01</td>\n",
       "      <td>2.000000</td>\n",
       "    </tr>\n",
       "    <tr>\n",
       "      <th>max</th>\n",
       "      <td>2.884265e+00</td>\n",
       "      <td>2.211836e+00</td>\n",
       "      <td>2.148873e+00</td>\n",
       "      <td>2.627899e+00</td>\n",
       "      <td>1.844076e+00</td>\n",
       "      <td>9.600978e-01</td>\n",
       "      <td>2.000000</td>\n",
       "    </tr>\n",
       "  </tbody>\n",
       "</table>\n",
       "</div>"
      ],
      "text/plain": [
       "             island      bill_len    bill_depth   flipper_len     body_mass  \\\n",
       "count  3.440000e+02  3.440000e+02  3.440000e+02  3.440000e+02  3.440000e+02   \n",
       "mean  -1.156697e-15  4.131062e-16 -8.262125e-16  8.262125e-17  8.262125e-17   \n",
       "std    1.001457e+00  1.001457e+00  1.001457e+00  1.001457e+00  1.001457e+00   \n",
       "min   -2.174858e+00 -2.060444e+00 -2.065333e+00 -1.880837e+00 -9.140204e-01   \n",
       "25%   -8.548868e-01 -7.889322e-01 -7.796428e-01 -8.162745e-01 -9.140204e-01   \n",
       "50%    6.035444e-02  7.569585e-02 -2.796522e-01 -1.900612e-01  4.650279e-01   \n",
       "75%    8.422188e-01  7.877425e-01  8.631834e-01  6.866374e-01  4.650279e-01   \n",
       "max    2.884265e+00  2.211836e+00  2.148873e+00  2.627899e+00  1.844076e+00   \n",
       "\n",
       "                sex     species  \n",
       "count  3.440000e+02  344.000000  \n",
       "mean  -6.454785e-18    0.918605  \n",
       "std    1.001457e+00    0.893320  \n",
       "min   -1.041561e+00    0.000000  \n",
       "25%   -1.041561e+00    0.000000  \n",
       "50%    9.600978e-01    1.000000  \n",
       "75%    9.600978e-01    2.000000  \n",
       "max    9.600978e-01    2.000000  "
      ]
     },
     "execution_count": 381,
     "metadata": {},
     "output_type": "execute_result"
    }
   ],
   "source": [
    "df_normalized.describe()"
   ]
  },
  {
   "cell_type": "markdown",
   "id": "c6e980df-3272-4cba-b3d8-74f912d76afa",
   "metadata": {},
   "source": [
    "## Q10"
   ]
  },
  {
   "cell_type": "code",
   "execution_count": 382,
   "id": "054b9d28-0b3e-4089-919b-544267495510",
   "metadata": {
    "tags": []
   },
   "outputs": [],
   "source": [
    "from sklearn.decomposition import PCA\n",
    "pca = PCA(n_components=3)\n",
    "X = df_encoded.loc[:, df_tobe_aug.columns != 'species']\n",
    "y = df_encoded['species']\n",
    "pca.fit(X)\n",
    "X = pca.transform(X)\n",
    "df_pca = pd.DataFrame(X)"
   ]
  },
  {
   "cell_type": "code",
   "execution_count": 383,
   "id": "bf6f45d7-952d-45fb-ba34-cc96456b6874",
   "metadata": {
    "tags": []
   },
   "outputs": [
    {
     "data": {
      "text/html": [
       "<div>\n",
       "<style scoped>\n",
       "    .dataframe tbody tr th:only-of-type {\n",
       "        vertical-align: middle;\n",
       "    }\n",
       "\n",
       "    .dataframe tbody tr th {\n",
       "        vertical-align: top;\n",
       "    }\n",
       "\n",
       "    .dataframe thead th {\n",
       "        text-align: right;\n",
       "    }\n",
       "</style>\n",
       "<table border=\"1\" class=\"dataframe\">\n",
       "  <thead>\n",
       "    <tr style=\"text-align: right;\">\n",
       "      <th></th>\n",
       "      <th>island</th>\n",
       "      <th>bill_len</th>\n",
       "      <th>bill_depth</th>\n",
       "      <th>flipper_len</th>\n",
       "      <th>body_mass</th>\n",
       "      <th>sex</th>\n",
       "      <th>species</th>\n",
       "    </tr>\n",
       "  </thead>\n",
       "  <tbody>\n",
       "    <tr>\n",
       "      <th>0</th>\n",
       "      <td>-8.870812e-01</td>\n",
       "      <td>0.787743</td>\n",
       "      <td>-1.422488</td>\n",
       "      <td>-0.565789</td>\n",
       "      <td>1.844076</td>\n",
       "      <td>0.960098</td>\n",
       "      <td>0</td>\n",
       "    </tr>\n",
       "    <tr>\n",
       "      <th>1</th>\n",
       "      <td>-8.134940e-01</td>\n",
       "      <td>0.126556</td>\n",
       "      <td>-1.065352</td>\n",
       "      <td>-0.503168</td>\n",
       "      <td>1.844076</td>\n",
       "      <td>-1.041561</td>\n",
       "      <td>0</td>\n",
       "    </tr>\n",
       "    <tr>\n",
       "      <th>2</th>\n",
       "      <td>-6.663195e-01</td>\n",
       "      <td>0.431719</td>\n",
       "      <td>-0.422507</td>\n",
       "      <td>-1.192003</td>\n",
       "      <td>1.844076</td>\n",
       "      <td>-1.041561</td>\n",
       "      <td>0</td>\n",
       "    </tr>\n",
       "    <tr>\n",
       "      <th>3</th>\n",
       "      <td>-1.307172e-15</td>\n",
       "      <td>0.000000</td>\n",
       "      <td>0.000000</td>\n",
       "      <td>0.000000</td>\n",
       "      <td>1.844076</td>\n",
       "      <td>0.960098</td>\n",
       "      <td>0</td>\n",
       "    </tr>\n",
       "    <tr>\n",
       "      <th>4</th>\n",
       "      <td>-1.328605e+00</td>\n",
       "      <td>1.092905</td>\n",
       "      <td>-0.565361</td>\n",
       "      <td>-0.941517</td>\n",
       "      <td>1.844076</td>\n",
       "      <td>-1.041561</td>\n",
       "      <td>0</td>\n",
       "    </tr>\n",
       "    <tr>\n",
       "      <th>...</th>\n",
       "      <td>...</td>\n",
       "      <td>...</td>\n",
       "      <td>...</td>\n",
       "      <td>...</td>\n",
       "      <td>...</td>\n",
       "      <td>...</td>\n",
       "      <td>...</td>\n",
       "    </tr>\n",
       "    <tr>\n",
       "      <th>339</th>\n",
       "      <td>2.185186e+00</td>\n",
       "      <td>1.347208</td>\n",
       "      <td>0.434620</td>\n",
       "      <td>-0.252683</td>\n",
       "      <td>0.465028</td>\n",
       "      <td>0.960098</td>\n",
       "      <td>1</td>\n",
       "    </tr>\n",
       "    <tr>\n",
       "      <th>340</th>\n",
       "      <td>-7.762162e-02</td>\n",
       "      <td>0.482580</td>\n",
       "      <td>0.077484</td>\n",
       "      <td>-1.004139</td>\n",
       "      <td>0.465028</td>\n",
       "      <td>-1.041561</td>\n",
       "      <td>1</td>\n",
       "    </tr>\n",
       "    <tr>\n",
       "      <th>341</th>\n",
       "      <td>1.044584e+00</td>\n",
       "      <td>0.533440</td>\n",
       "      <td>-0.565361</td>\n",
       "      <td>-0.534479</td>\n",
       "      <td>0.465028</td>\n",
       "      <td>0.960098</td>\n",
       "      <td>1</td>\n",
       "    </tr>\n",
       "    <tr>\n",
       "      <th>342</th>\n",
       "      <td>1.265345e+00</td>\n",
       "      <td>0.940324</td>\n",
       "      <td>0.648902</td>\n",
       "      <td>-0.127440</td>\n",
       "      <td>0.465028</td>\n",
       "      <td>0.960098</td>\n",
       "      <td>1</td>\n",
       "    </tr>\n",
       "    <tr>\n",
       "      <th>343</th>\n",
       "      <td>1.154965e+00</td>\n",
       "      <td>0.787743</td>\n",
       "      <td>-0.208225</td>\n",
       "      <td>-0.534479</td>\n",
       "      <td>0.465028</td>\n",
       "      <td>-1.041561</td>\n",
       "      <td>1</td>\n",
       "    </tr>\n",
       "  </tbody>\n",
       "</table>\n",
       "<p>344 rows × 7 columns</p>\n",
       "</div>"
      ],
      "text/plain": [
       "           island  bill_len  bill_depth  flipper_len  body_mass       sex  \\\n",
       "0   -8.870812e-01  0.787743   -1.422488    -0.565789   1.844076  0.960098   \n",
       "1   -8.134940e-01  0.126556   -1.065352    -0.503168   1.844076 -1.041561   \n",
       "2   -6.663195e-01  0.431719   -0.422507    -1.192003   1.844076 -1.041561   \n",
       "3   -1.307172e-15  0.000000    0.000000     0.000000   1.844076  0.960098   \n",
       "4   -1.328605e+00  1.092905   -0.565361    -0.941517   1.844076 -1.041561   \n",
       "..            ...       ...         ...          ...        ...       ...   \n",
       "339  2.185186e+00  1.347208    0.434620    -0.252683   0.465028  0.960098   \n",
       "340 -7.762162e-02  0.482580    0.077484    -1.004139   0.465028 -1.041561   \n",
       "341  1.044584e+00  0.533440   -0.565361    -0.534479   0.465028  0.960098   \n",
       "342  1.265345e+00  0.940324    0.648902    -0.127440   0.465028  0.960098   \n",
       "343  1.154965e+00  0.787743   -0.208225    -0.534479   0.465028 -1.041561   \n",
       "\n",
       "     species  \n",
       "0          0  \n",
       "1          0  \n",
       "2          0  \n",
       "3          0  \n",
       "4          0  \n",
       "..       ...  \n",
       "339        1  \n",
       "340        1  \n",
       "341        1  \n",
       "342        1  \n",
       "343        1  \n",
       "\n",
       "[344 rows x 7 columns]"
      ]
     },
     "execution_count": 383,
     "metadata": {},
     "output_type": "execute_result"
    }
   ],
   "source": [
    "df_pca = pd.concat([df_pca, df_encoded['species']], axis = 1)\n",
    "df_normalized"
   ]
  },
  {
   "cell_type": "markdown",
   "id": "1fb8b7cd-82e2-461a-8f58-5c3d99f95113",
   "metadata": {},
   "source": [
    "## Q11"
   ]
  },
  {
   "cell_type": "code",
   "execution_count": 384,
   "id": "931f0394-3c42-4f8a-8b42-3d95156e785d",
   "metadata": {
    "tags": []
   },
   "outputs": [],
   "source": [
    "import matplotlib.pyplot as plt"
   ]
  },
  {
   "cell_type": "code",
   "execution_count": 393,
   "id": "142e1008-44b9-4d57-8ccf-7d5b4770080c",
   "metadata": {
    "tags": []
   },
   "outputs": [
    {
     "data": {
      "image/png": "[encoded data removed]",
      "text/plain": [
       "<Figure size 800x600 with 1 Axes>"
      ]
     },
     "metadata": {},
     "output_type": "display_data"
    }
   ],
   "source": [
    "fig = plt.figure(1, figsize=(8, 6))\n",
    "plt.clf()\n",
    "\n",
    "ax = fig.add_subplot(111, projection=\"3d\", elev=48, azim=134)\n",
    "ax.set_position([0, 0, 0.95, 1])\n",
    "\n",
    "for name, label in [(\"‫‪Adelie‬‬\", 0), (\"‫‪Chinstrap‬‬\", 1), (\"‫‪Gentoo‬‬\", 2)]:\n",
    "    ax.text3D(\n",
    "        X[y == label, 0].mean(),\n",
    "        X[y == label, 1].mean() + 1.5,\n",
    "        X[y == label, 2].mean(),\n",
    "        name,\n",
    "        horizontalalignment=\"center\",\n",
    "        bbox=dict(alpha=0.5, edgecolor=\"w\", facecolor=\"w\"),\n",
    "    )\n",
    "\n",
    "ax.scatter(X[:, 0], X[:, 1], X[:, 2], c=y, edgecolor=\"k\")\n",
    "\n",
    "ax.xaxis.set_ticklabels([])\n",
    "ax.yaxis.set_ticklabels([])\n",
    "ax.zaxis.set_ticklabels([])\n",
    "\n",
    "plt.show()"
   ]
  },
  {
   "cell_type": "markdown",
   "id": "30c22728-3db8-4282-a9be-feed0b38ea1b",
   "metadata": {},
   "source": [
    "## Q12"
   ]
  },
  {
   "cell_type": "code",
   "execution_count": 426,
   "id": "8443c5cd-bd2e-4984-b82a-f6e959c5eba5",
   "metadata": {
    "tags": []
   },
   "outputs": [
    {
     "data": {
      "image/png": "[encoded data removed]",
      "text/plain": [
       "<Figure size 640x480 with 6 Axes>"
      ]
     },
     "metadata": {},
     "output_type": "display_data"
    }
   ],
   "source": [
    "f, axs = plt.subplots(2, 3)\n",
    "axs[0, 0].boxplot(df_encoded[df.columns[0]])\n",
    "axs[0, 0].title.set_text(df.columns[0])\n",
    "\n",
    "axs[0, 1].boxplot(df_encoded[df.columns[1]])\n",
    "axs[0, 1].title.set_text(df.columns[1])\n",
    "\n",
    "axs[0, 2].boxplot(df_encoded[df.columns[2]])\n",
    "axs[0, 2].title.set_text(df.columns[2])\n",
    "\n",
    "axs[1, 0].boxplot(df_encoded[df.columns[3]])\n",
    "axs[1, 0].title.set_text(df.columns[3])\n",
    "\n",
    "axs[1, 1].boxplot(df_encoded[df.columns[4]])\n",
    "axs[1, 1].title.set_text(df.columns[4])\n",
    "\n",
    "axs[1, 2].boxplot(df_encoded[df.columns[5]])\n",
    "axs[1, 2].title.set_text(df.columns[5])"
   ]
  },
  {
   "cell_type": "code",
   "execution_count": 429,
   "id": "4e4e9ac6-54e5-4ada-8693-791190714c5b",
   "metadata": {
    "tags": []
   },
   "outputs": [
    {
     "data": {
      "text/plain": [
       "<AxesSubplot: >"
      ]
     },
     "execution_count": 429,
     "metadata": {},
     "output_type": "execute_result"
    },
    {
     "data": {
      "image/png": "[encoded data removed]",
      "text/plain": [
       "<Figure size 640x480 with 1 Axes>"
      ]
     },
     "metadata": {},
     "output_type": "display_data"
    }
   ],
   "source": [
    "df_encoded.boxplot(column=df.columns[6])"
   ]
  },
  {
   "cell_type": "code",
   "execution_count": null,
   "id": "b0d37635-4b5a-4b31-9861-433dd36dca42",
   "metadata": {},
   "outputs": [],
   "source": []
  }
 ],
 "metadata": {
  "kernelspec": {
   "display_name": "Python 3 (ipykernel)",
   "language": "python",
   "name": "python3"
  },
  "language_info": {
   "codemirror_mode": {
    "name": "ipython",
    "version": 3
   },
   "file_extension": ".py",
   "mimetype": "text/x-python",
   "name": "python",
   "nbconvert_exporter": "python",
   "pygments_lexer": "ipython3",
   "version": "3.11.1"
  }
 },
 "nbformat": 4,
 "nbformat_minor": 5
}
